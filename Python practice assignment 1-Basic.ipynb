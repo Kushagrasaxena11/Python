{
 "cells": [
  {
   "cell_type": "markdown",
   "id": "3b9d2424",
   "metadata": {},
   "source": [
    "# 1. Write a Python program to count the number of carry operations for each addition problem.\n",
    "According to Wikipedia “In elementary arithmetic, a carry is a digit that is transferred from one column of digits to another column of more significant digits. It is part of the standard algorithm to add numbers together by starting with the rightmost digits and working to the left. For example, when 6 and 7 are added to make 13, the \"3\" is written to the same column and the \"1\" is carried to the left\".\n",
    "\n"
   ]
  },
  {
   "cell_type": "code",
   "execution_count": 1,
   "id": "eb415f39",
   "metadata": {},
   "outputs": [
    {
     "name": "stdout",
     "output_type": "stream",
     "text": [
      "Number of carry operations for 1234 + 5678 is: 2\n"
     ]
    }
   ],
   "source": [
    "def count_carry_operations(num1, num2):\n",
    "    carry = 0  # Initialize the carry to 0\n",
    "    carry_count = 0  # Initialize the carry count to 0\n",
    "\n",
    "    # Convert the numbers to strings to easily access individual digits\n",
    "    num1_str = str(num1)\n",
    "    num2_str = str(num2)\n",
    "\n",
    "    # Make sure num1 is the larger number in terms of digits\n",
    "    if len(num1_str) < len(num2_str):\n",
    "        num1_str, num2_str = num2_str, num1_str\n",
    "\n",
    "    # Pad the smaller number with leading zeros to match the length of the larger number\n",
    "    num2_str = num2_str.zfill(len(num1_str))\n",
    "\n",
    "    # Iterate through the digits from right to left\n",
    "    for i in range(len(num1_str) - 1, -1, -1):\n",
    "        digit1 = int(num1_str[i])\n",
    "        digit2 = int(num2_str[i])\n",
    "\n",
    "        # Calculate the sum of the current digits along with the carry\n",
    "        current_sum = digit1 + digit2 + carry\n",
    "\n",
    "        # Check if there is a carry for the next iteration\n",
    "        carry = current_sum // 10\n",
    "\n",
    "        # If there is a carry, increment the carry count\n",
    "        if carry > 0:\n",
    "            carry_count += 1\n",
    "\n",
    "    return carry_count\n",
    "\n",
    "# Example usage:\n",
    "num1 = 1234\n",
    "num2 = 5678\n",
    "carry_count = count_carry_operations(num1, num2)\n",
    "print(f\"Number of carry operations for {num1} + {num2} is: {carry_count}\")\n"
   ]
  },
  {
   "cell_type": "markdown",
   "id": "3e450a12",
   "metadata": {},
   "source": [
    "# 2. Write a Python program to find the heights of the top three buildings in descending order from eight given buildings.\n",
    "Input:\n",
    "0 <= height of building (integer) <= 10,000\n",
    "Input the heights of eight buildings:\n",
    "25\n",
    "35\n",
    "15\n",
    "16\n",
    "30\n",
    "45\n",
    "37\n",
    "39\n",
    "Heights of the top three buildings:\n",
    "45\n",
    "39\n",
    "37\n"
   ]
  },
  {
   "cell_type": "code",
   "execution_count": 2,
   "id": "5955a35c",
   "metadata": {},
   "outputs": [
    {
     "name": "stdout",
     "output_type": "stream",
     "text": [
      "Enter the height of building 1: 25\n",
      "Enter the height of building 2: 35\n",
      "Enter the height of building 3: 15\n",
      "Enter the height of building 4: 16\n",
      "Enter the height of building 5: 30\n",
      "Enter the height of building 6: 45\n",
      "Enter the height of building 7: 37\n",
      "Enter the height of building 8: 39\n",
      "Heights of the top three buildings:\n",
      "45\n",
      "39\n",
      "37\n"
     ]
    }
   ],
   "source": [
    "# Input heights of eight buildings\n",
    "building_heights = []\n",
    "for i in range(8):\n",
    "    height = int(input(\"Enter the height of building {}: \".format(i + 1)))\n",
    "    building_heights.append(height)\n",
    "\n",
    "# Sort the building heights in descending order\n",
    "building_heights.sort(reverse=True)\n",
    "\n",
    "# Get the top three heights\n",
    "top_three = building_heights[:3]\n",
    "\n",
    "# Print the heights of the top three buildings\n",
    "print(\"Heights of the top three buildings:\")\n",
    "for height in top_three:\n",
    "    print(height)\n"
   ]
  },
  {
   "cell_type": "markdown",
   "id": "49be75ad",
   "metadata": {},
   "source": [
    "# 3. Write a Python program to compute the digit number of the sum of two given integers.\n",
    "Input:\n",
    "Each test case consists of two non-negative integers x and y which are separated by a space in a line.\n",
    "0 <= x, y <= 1,000,000\n",
    "Input two integers (a b):\n",
    "5 7\n",
    "Sum of two integers a and b.:\n",
    "2\n"
   ]
  },
  {
   "cell_type": "code",
   "execution_count": 3,
   "id": "7b8b308b",
   "metadata": {},
   "outputs": [
    {
     "name": "stdout",
     "output_type": "stream",
     "text": [
      "Input two integers (a b): 5 7\n",
      "Sum of two integers a and b: 12\n",
      "Number of digits in the sum: 2\n"
     ]
    }
   ],
   "source": [
    "# Function to compute the number of digits in a number\n",
    "def count_digits(num):\n",
    "    count = 0\n",
    "    while num > 0:\n",
    "        num //= 10\n",
    "        count += 1\n",
    "    return count\n",
    "\n",
    "# Input two integers\n",
    "a, b = map(int, input(\"Input two integers (a b): \").split())\n",
    "\n",
    "# Calculate the sum of the two integers\n",
    "sum_result = a + b\n",
    "\n",
    "# Compute the number of digits in the sum\n",
    "num_digits = count_digits(sum_result)\n",
    "\n",
    "# Print the result\n",
    "print(\"Sum of two integers a and b:\", sum_result)\n",
    "print(\"Number of digits in the sum:\", num_digits)\n"
   ]
  },
  {
   "cell_type": "markdown",
   "id": "5e035b20",
   "metadata": {},
   "source": [
    "# 4. Write a Python program to check whether three given lengths (integers) of three sides form a right triangle. Print \"Yes\" if the given sides form a right triangle otherwise print \"No\".\n",
    "\n",
    "Input:\n",
    "Integers separated by a single space.\n",
    "1 <= length of the side <= 1,000\n",
    "Input three integers (sides of a triangle)\n",
    "8 6 7\n",
    "No\n"
   ]
  },
  {
   "cell_type": "code",
   "execution_count": 4,
   "id": "1bc2592b",
   "metadata": {},
   "outputs": [
    {
     "name": "stdout",
     "output_type": "stream",
     "text": [
      "Input three integers (sides of a triangle): 8 6 7\n",
      "No\n"
     ]
    }
   ],
   "source": [
    "# Input three integers representing the sides of a triangle\n",
    "a, b, c = map(int, input(\"Input three integers (sides of a triangle): \").split())\n",
    "\n",
    "# Check if the given sides form a right triangle\n",
    "# The Pythagorean theorem states that in a right triangle, a^2 + b^2 = c^2\n",
    "if a*a + b*b == c*c or a*a + c*c == b*b or b*b + c*c == a*a:\n",
    "    print(\"Yes\")\n",
    "else:\n",
    "    print(\"No\")\n"
   ]
  },
  {
   "cell_type": "markdown",
   "id": "37e39c4c",
   "metadata": {},
   "source": [
    "# 5. Write a Python program which solve the equation:\n",
    "Ax + By=C\n",
    "Dx + Ey = F\n",
    "Print the values of x, y where a, b, c, d, e and f are given.\n",
    "\n",
    "Input:\n",
    "a, b, c, d, e, f separated by a single space.\n",
    "(-1,000 <= a, b, c, d, e, f<= 1,000)\n",
    "Input the value of a, b, c, d, e, f:\n",
    "5 8 6 7 9 4\n",
    "Values of x and y:\n",
    "-2.000 2.000\n"
   ]
  },
  {
   "cell_type": "code",
   "execution_count": 5,
   "id": "5e03b664",
   "metadata": {},
   "outputs": [
    {
     "name": "stdout",
     "output_type": "stream",
     "text": [
      "Input the value of a, b, c, d, e, f: 5 8 6 7 9 4\n",
      "Values of x and y:\n",
      "-2.000 2.000\n"
     ]
    }
   ],
   "source": [
    "# Input the coefficients and constants\n",
    "a, b, c, d, e, f = map(float, input(\"Input the value of a, b, c, d, e, f: \").split())\n",
    "\n",
    "# Calculate the determinant of the coefficient matrix\n",
    "det = a * e - b * d\n",
    "\n",
    "# Check if the determinant is zero (no unique solution)\n",
    "if det == 0:\n",
    "    print(\"No unique solution\")\n",
    "else:\n",
    "    # Calculate the values of x and y using Cramer's rule\n",
    "    x = (c * e - b * f) / det\n",
    "    y = (a * f - c * d) / det\n",
    "    \n",
    "    # Print the values of x and y\n",
    "    print(\"Values of x and y:\")\n",
    "    print(\"{:.3f} {:.3f}\".format(x, y))\n"
   ]
  },
  {
   "cell_type": "markdown",
   "id": "280f64fc",
   "metadata": {},
   "source": [
    "# 6. Write a Python program to compute the amount of debt in n months. Each month, the loan adds 5% interest to the $100,000 debt and rounds to the nearest 1,000 above.\n",
    "\n",
    "Input:\n",
    "An integer n (0 <= n <= 100)\n",
    "Input number of months: 7\n",
    "Amount of debt: $144000\n",
    "\n"
   ]
  },
  {
   "cell_type": "code",
   "execution_count": 6,
   "id": "a94a2a26",
   "metadata": {},
   "outputs": [
    {
     "name": "stdout",
     "output_type": "stream",
     "text": [
      "Input number of months: 7\n",
      "Amount of debt: $144000.0\n"
     ]
    }
   ],
   "source": [
    "# Input the number of months\n",
    "n = int(input(\"Input number of months: \"))\n",
    "\n",
    "# Initialize the initial debt and interest rate\n",
    "debt = 100000  # Initial debt is $100,000\n",
    "interest_rate = 0.05  # 5% interest rate\n",
    "\n",
    "# Calculate the debt after n months\n",
    "for _ in range(n):\n",
    "    # Add 5% interest to the debt\n",
    "    interest = debt * interest_rate\n",
    "    debt += interest\n",
    "    \n",
    "    # Round the debt to the nearest $1,000 above\n",
    "    debt = (debt + 999) // 1000 * 1000\n",
    "\n",
    "# Print the amount of debt after n months\n",
    "print(\"Amount of debt: ${}\".format(debt))\n"
   ]
  },
  {
   "cell_type": "markdown",
   "id": "8b2863f1",
   "metadata": {},
   "source": [
    "# 7. Write a Python program that reads an integer n and finds the number of combinations of a,b,c and d (0 = a,b,c,d = 9) where (a + b + c + d) will be equal to n.\n",
    "\n",
    "Input:\n",
    "n (1 <= n <= 50)\n",
    "Input the number (n): 15\n",
    "Number of combinations: 592\n"
   ]
  },
  {
   "cell_type": "code",
   "execution_count": 8,
   "id": "0ce4c3eb",
   "metadata": {},
   "outputs": [
    {
     "name": "stdout",
     "output_type": "stream",
     "text": [
      "Input the number (n): 15\n",
      "Number of combinations: 592\n"
     ]
    }
   ],
   "source": [
    "# Function to calculate the number of combinations\n",
    "def count_combinations(n):\n",
    "    count = 0\n",
    "\n",
    "    # Iterate through all possible values of a, b, c, and d (0 to 9)\n",
    "    for a in range(10):\n",
    "        for b in range(10):\n",
    "            for c in range(10):\n",
    "                for d in range(10):\n",
    "                    if a + b + c + d == n:\n",
    "                        count += 1\n",
    "\n",
    "    return count\n",
    "\n",
    "# Input the number n\n",
    "n = int(input(\"Input the number (n): \"))\n",
    "\n",
    "# Calculate the number of combinations\n",
    "combinations = count_combinations(n)\n",
    "\n",
    "# Print the result\n",
    "print(\"Number of combinations:\", combinations)\n"
   ]
  },
  {
   "cell_type": "markdown",
   "id": "5feed34a",
   "metadata": {},
   "source": [
    "# 8. Write a Python program to print the number of prime numbers that are less than or equal to a given number.\n",
    "\n",
    "Input:\n",
    "n (1 <= n <= 999,999)\n",
    "Input the number (n): 35\n",
    "Number of prime numbers which are less than or equal to n.: 11\n",
    "\n"
   ]
  },
  {
   "cell_type": "code",
   "execution_count": 9,
   "id": "ff4adf0e",
   "metadata": {},
   "outputs": [
    {
     "name": "stdout",
     "output_type": "stream",
     "text": [
      "Input the number (n): 35\n",
      "Number of prime numbers which are less than or equal to n: 11\n"
     ]
    }
   ],
   "source": [
    "# Function to check if a number is prime\n",
    "def is_prime(num):\n",
    "    if num <= 1:\n",
    "        return False\n",
    "    if num == 2:\n",
    "        return True\n",
    "    if num % 2 == 0:\n",
    "        return False\n",
    "    for i in range(3, int(num**0.5) + 1, 2):\n",
    "        if num % i == 0:\n",
    "            return False\n",
    "    return True\n",
    "\n",
    "# Input the number n\n",
    "n = int(input(\"Input the number (n): \"))\n",
    "\n",
    "# Initialize a count for prime numbers\n",
    "prime_count = 0\n",
    "\n",
    "# Count prime numbers less than or equal to n\n",
    "for i in range(2, n + 1):\n",
    "    if is_prime(i):\n",
    "        prime_count += 1\n",
    "\n",
    "# Print the result\n",
    "print(\"Number of prime numbers which are less than or equal to n:\", prime_count)\n"
   ]
  },
  {
   "cell_type": "markdown",
   "id": "bea0f203",
   "metadata": {},
   "source": [
    "# 9. Write a program to compute the radius and the central coordinate (x, y) of a circle which is constructed from three given points on the plane surface.\n",
    "\n",
    "Input:\n",
    "x1, y1, x2, y2, x3, y3 separated by a single space.\n",
    "Input three coordinate of the circle:\n",
    "9 3 6 8 3 6\n",
    "Radius of the said circle:\n",
    "3.358\n",
    "Central coordinate (x, y) of the circle:\n",
    "6.071 4.643\n"
   ]
  },
  {
   "cell_type": "code",
   "execution_count": 10,
   "id": "442b2950",
   "metadata": {},
   "outputs": [
    {
     "name": "stdout",
     "output_type": "stream",
     "text": [
      "Input three coordinates of the circle: 9 3 6 8 3 6\n",
      "Radius of the said circle:\n",
      "9.857\n",
      "Central coordinate (x, y) of the circle:\n",
      "3.929 11.452\n"
     ]
    }
   ],
   "source": [
    "import math\n",
    "\n",
    "# Input three coordinates of the circle\n",
    "x1, y1, x2, y2, x3, y3 = map(float, input(\"Input three coordinates of the circle: \").split())\n",
    "\n",
    "# Calculate the midpoints of the line segments\n",
    "midpoint_x1 = (x1 + x2) / 2\n",
    "midpoint_y1 = (y1 + y2) / 2\n",
    "midpoint_x2 = (x2 + x3) / 2\n",
    "midpoint_y2 = (y2 + y3) / 2\n",
    "\n",
    "# Slopes of the perpendicular bisectors\n",
    "slope1 = -(x2 - x1) / (y2 - y1) if y2 != y1 else math.inf\n",
    "slope2 = -(x3 - x2) / (y3 - y2) if y3 != y2 else math.inf\n",
    "\n",
    "# Calculate the center (x, y) of the circle\n",
    "x = (midpoint_x2 - midpoint_x1 + slope1 * midpoint_x1 - slope2 * midpoint_x2) / (slope1 - slope2)\n",
    "y = -1 / slope1 * (x - midpoint_x1) + midpoint_y1\n",
    "\n",
    "# Calculate the radius of the circle\n",
    "radius = math.sqrt((x - x1)**2 + (y - y1)**2)\n",
    "\n",
    "# Print the results\n",
    "print(\"Radius of the said circle:\")\n",
    "print(\"{:.3f}\".format(radius))\n",
    "print(\"Central coordinate (x, y) of the circle:\")\n",
    "print(\"{:.3f} {:.3f}\".format(x, y))\n"
   ]
  },
  {
   "cell_type": "markdown",
   "id": "e2784895",
   "metadata": {},
   "source": [
    "# 10. Write a Python program to check if a point (x,y) is in a triangle or not. A triangle is formed by three points.\n",
    "\n",
    "Input:\n",
    "x1, y1,x2,y2,x3,y3,xp,yp separated by a single space.\n",
    "Input three coordinate of the circle:\n",
    "9 3 6 8 3 6\n",
    "Radius of the said circle:\n",
    "3.358\n",
    "Central coordinate (x, y) of the circle:\n",
    "6.071 4.643\n"
   ]
  },
  {
   "cell_type": "code",
   "execution_count": 14,
   "id": "7de86d8c",
   "metadata": {},
   "outputs": [
    {
     "name": "stdout",
     "output_type": "stream",
     "text": [
      "Input three coordinates of the triangle and the point: 1 2 3 4 5 6 7 8\n",
      "The point is inside the triangle.\n"
     ]
    }
   ],
   "source": [
    "# Function to calculate the area of a triangle formed by three points\n",
    "def calculate_triangle_area(x1, y1, x2, y2, x3, y3):\n",
    "    return abs(x1*(y2-y3) + x2*(y3-y1) + x3*(y1-y2)) / 2.0\n",
    "\n",
    "# Function to check if a point (xp, yp) is inside the triangle\n",
    "def is_point_inside_triangle(x1, y1, x2, y2, x3, y3, xp, yp):\n",
    "    # Calculate the area of the whole triangle\n",
    "    total_area = calculate_triangle_area(x1, y1, x2, y2, x3, y3)\n",
    "\n",
    "    # Calculate the areas of three sub-triangles formed by the point and each side of the triangle\n",
    "    area1 = calculate_triangle_area(x1, y1, x2, y2, xp, yp)\n",
    "    area2 = calculate_triangle_area(x2, y2, x3, y3, xp, yp)\n",
    "    area3 = calculate_triangle_area(x3, y3, x1, y1, xp, yp)\n",
    "\n",
    "    # If the sum of the areas of the sub-triangles is equal to the area of the whole triangle,\n",
    "    # the point is inside the triangle\n",
    "    return total_area == area1 + area2 + area3\n",
    "\n",
    "# Input the coordinates of the triangle vertices and the point\n",
    "x1, y1, x2, y2, x3, y3, xp, yp = map(float, input(\"Input three coordinates of the triangle and the point: \").split())\n",
    "\n",
    "# Check if the point is inside the triangle\n",
    "if is_point_inside_triangle(x1, y1, x2, y2, x3, y3, xp, yp):\n",
    "    print(\"The point is inside the triangle.\")\n",
    "else:\n",
    "    print(\"The point is not inside the triangle.\")\n"
   ]
  },
  {
   "cell_type": "markdown",
   "id": "74295cdb",
   "metadata": {},
   "source": [
    "# 11. Write a Python program to compute and print the sum of two given integers (greater or equal to zero). In the event that the given integers or the sum exceed 80 digits, print \"overflow\".\n",
    "\n",
    "Input first integer:\n",
    "25\n",
    "Input second integer:\n",
    "22\n",
    "Sum of the two integers: 47\n",
    "\n"
   ]
  },
  {
   "cell_type": "code",
   "execution_count": 15,
   "id": "57acfb77",
   "metadata": {},
   "outputs": [
    {
     "name": "stdout",
     "output_type": "stream",
     "text": [
      "Input first integer: 22\n",
      "Input second integer: 25\n",
      "Sum of the two integers: 47\n"
     ]
    }
   ],
   "source": [
    "# Input the first integer\n",
    "int1 = input(\"Input first integer: \")\n",
    "\n",
    "# Input the second integer\n",
    "int2 = input(\"Input second integer: \")\n",
    "\n",
    "# Convert the input strings to integers\n",
    "try:\n",
    "    num1 = int(int1)\n",
    "    num2 = int(int2)\n",
    "except ValueError:\n",
    "    print(\"Invalid input. Please enter valid integers.\")\n",
    "else:\n",
    "    # Calculate the sum\n",
    "    result = num1 + num2\n",
    "\n",
    "    # Check if the result has more than 80 digits\n",
    "    if len(str(result)) > 80:\n",
    "        print(\"Overflow\")\n",
    "    else:\n",
    "        print(\"Sum of the two integers:\", result)\n"
   ]
  },
  {
   "cell_type": "markdown",
   "id": "2e751d0a",
   "metadata": {},
   "source": [
    "# 12. Write a Python program that accepts six numbers as input and sorts them in descending order.\n",
    "Input:\n",
    "Input consists of six numbers n1, n2, n3, n4, n5, n6 (-100000 <= n1, n2, n3, n4, n5, n6 <= 100000). The six numbers are separated by a space.\n",
    "Input six integers:\n",
    "15 30 25 14 35 40\n",
    "After sorting the said integers:\n",
    "40 35 30 25 15 14\n"
   ]
  },
  {
   "cell_type": "code",
   "execution_count": 16,
   "id": "d70b9609",
   "metadata": {},
   "outputs": [
    {
     "name": "stdout",
     "output_type": "stream",
     "text": [
      "Input six integers: 15 30 25 14 35 40\n",
      "After sorting the said integers:\n",
      "40 35 30 25 15 14 "
     ]
    }
   ],
   "source": [
    "# Input six integers\n",
    "input_numbers = input(\"Input six integers: \")\n",
    "numbers = list(map(int, input_numbers.split()))\n",
    "\n",
    "# Sort the numbers in descending order\n",
    "numbers.sort(reverse=True)\n",
    "\n",
    "# Print the sorted numbers\n",
    "print(\"After sorting the said integers:\")\n",
    "for num in numbers:\n",
    "    print(num, end=\" \")\n"
   ]
  },
  {
   "cell_type": "markdown",
   "id": "4fa29f27",
   "metadata": {},
   "source": [
    "# 13. Write a Python program to test whether two lines PQ and RS are parallel. The four points are P(x1, y1), Q(x2, y2), R(x3, y3), S(x4, y4).\n",
    "Input:\n",
    "x1,y1,x2,y2,x3,y3,xp,yp separated by a single space\n",
    "Input x1, y1,x2,y2,x3,y3,xp,yp:\n",
    "2 5 6 4 8 3 9 7\n",
    "PQ and RS are not parallel\n"
   ]
  },
  {
   "cell_type": "code",
   "execution_count": 17,
   "id": "70880395",
   "metadata": {},
   "outputs": [
    {
     "name": "stdout",
     "output_type": "stream",
     "text": [
      "Input x1, y1, x2, y2, x3, y3, x4, y4: 2 5 6 4 8 3 9 7\n",
      "PQ and RS are not parallel\n"
     ]
    }
   ],
   "source": [
    "# Input coordinates of points P, Q, R, and S\n",
    "x1, y1, x2, y2, x3, y3, x4, y4 = map(float, input(\"Input x1, y1, x2, y2, x3, y3, x4, y4: \").split())\n",
    "\n",
    "# Calculate the slopes of lines PQ and RS\n",
    "slope_pq = (y2 - y1) / (x2 - x1) if x2 != x1 else float('inf')  # Avoid division by zero\n",
    "slope_rs = (y4 - y3) / (x4 - x3) if x4 != x3 else float('inf')  # Avoid division by zero\n",
    "\n",
    "# Check if the slopes are equal (lines are parallel)\n",
    "if slope_pq == slope_rs:\n",
    "    print(\"PQ and RS are parallel\")\n",
    "else:\n",
    "    print(\"PQ and RS are not parallel\")\n"
   ]
  },
  {
   "cell_type": "markdown",
   "id": "26e9e6c2",
   "metadata": {},
   "source": [
    "# 14. There are two circles C1 with radius r1, central coordinate (x1, y1) and C2 with radius r2 and central coordinate (x2, y2).\n",
    "Write a Python program to test the followings -\n",
    "\"C2 is in C1\" if C2 is in C1\n",
    "\"C1 is in C2\" if C1 is in C2\n",
    "\"Circumference of C1 and C2 intersect\" if circumference of C1 and C2 intersect\n",
    "\"C1 and C2 do not overlap\" if C1 and C2 do not overlap and\n",
    "\"Circumference of C1 and C2 will touch\" if C1 and C2 touch\n",
    "\n",
    "Input:\n",
    "Input numbers (real numbers) are separated by a space.\n",
    "Input x1, y1, r1, x2, y2, r2:\n",
    "5 4 2 3 9 2\n",
    "C1 and C2 do not overlap\n",
    "Input x1, y1, r1, x2, y2, r2:\n",
    "5 4 3 5 10 3\n",
    "Circumference of C1 and C2 will touch\n",
    "Input x1, y1, r1, x2, y2, r2:\n",
    "6 4 3 10 4 2\n",
    "Circumference of C1 and C2 intersect\n",
    "Input x1, y1, r1, x2, y2, r2:\n",
    "5 4 3 5 4 2\n",
    "C2 is in C1\n",
    "Input x1, y1, r1, x2, y2, r2:\n",
    "5 4 2 5 4 3\n",
    "C1 is in C2\n"
   ]
  },
  {
   "cell_type": "code",
   "execution_count": 19,
   "id": "f87b65d2",
   "metadata": {},
   "outputs": [
    {
     "name": "stdout",
     "output_type": "stream",
     "text": [
      "Input x1, y1, r1, x2, y2, r2: 5 4 2 3 9 2\n",
      "C1 and C2 do not overlap\n"
     ]
    }
   ],
   "source": [
    "import math\n",
    "\n",
    "# Input coordinates and radii of circles C1 and C2\n",
    "x1, y1, r1, x2, y2, r2 = map(float, input(\"Input x1, y1, r1, x2, y2, r2: \").split())\n",
    "\n",
    "# Calculate the distance between the centers of C1 and C2\n",
    "distance = math.sqrt((x2 - x1)**2 + (y2 - y1)**2)\n",
    "\n",
    "# Check if C2 is completely inside C1\n",
    "if distance + r2 <= r1:\n",
    "    print(\"C2 is in C1\")\n",
    "\n",
    "# Check if C1 is completely inside C2\n",
    "elif distance + r1 <= r2:\n",
    "    print(\"C1 is in C2\")\n",
    "\n",
    "# Check if the circumferences of C1 and C2 intersect\n",
    "elif distance < r1 + r2:\n",
    "    print(\"Circumference of C1 and C2 intersect\")\n",
    "\n",
    "# Check if C1 and C2 do not overlap\n",
    "elif distance > r1 + r2:\n",
    "    print(\"C1 and C2 do not overlap\")\n",
    "\n",
    "# Check if the circumferences of C1 and C2 touch\n",
    "elif distance == r1 + r2:\n",
    "    print(\"Circumference of C1 and C2 will touch\")\n"
   ]
  },
  {
   "cell_type": "markdown",
   "id": "0aef83a7",
   "metadata": {},
   "source": [
    "# 15. Write a Python program that reads a date (from 2016/1/1 to 2016/12/31) and prints the day of the date. Jan. 1, 2016, is Friday. Note that 2016 is a leap year.\n",
    "\n",
    "Input:\n",
    "Two integers m and d separated by a single space in a line, m ,d represent the month and the day.\n",
    "Input month and date (separated by a single space):\n",
    "5 15\n",
    "Name of the date: Sunday\n"
   ]
  },
  {
   "cell_type": "code",
   "execution_count": 20,
   "id": "babc4f56",
   "metadata": {},
   "outputs": [
    {
     "name": "stdout",
     "output_type": "stream",
     "text": [
      "Input month and date (separated by a single space): 5 15\n",
      "Name of the date: Sunday\n"
     ]
    }
   ],
   "source": [
    "import datetime\n",
    "\n",
    "# Input month and date\n",
    "m, d = map(int, input(\"Input month and date (separated by a single space): \").split())\n",
    "\n",
    "# Create a datetime object for the input date\n",
    "date = datetime.date(2016, m, d)\n",
    "\n",
    "# Define a list of day names\n",
    "day_names = [\"Monday\", \"Tuesday\", \"Wednesday\", \"Thursday\", \"Friday\", \"Saturday\", \"Sunday\"]\n",
    "\n",
    "# Calculate the day of the week (0 = Monday, 1 = Tuesday, ..., 6 = Sunday)\n",
    "day_of_week = date.weekday()\n",
    "\n",
    "# Print the name of the day\n",
    "print(\"Name of the date:\", day_names[day_of_week])\n"
   ]
  },
  {
   "cell_type": "markdown",
   "id": "cbdd1b4b",
   "metadata": {},
   "source": [
    "# 16. Write a Python program that reads the two adjoining sides and the diagonal of a parallelogram and checks whether the parallelogram is a rectangle or a rhombus.\n",
    "According to Wikipedia-\n",
    "Parallelograms: In Euclidean geometry, a parallelogram is a simple (non-self-intersecting) quadrilateral with two pairs of parallel sides. The opposite or facing sides of a parallelogram are of equal length and the opposite angles of a parallelogram are of equal measure.\n",
    "Rectangles: In Euclidean plane geometry, a rectangle is a quadrilateral with four right angles. It can also be defined as an equiangular quadrilateral, since equiangular means that all of its angles are equal (360°/4 = 90°). It can also be defined as a parallelogram containing a right angle.\n",
    "Rhombus: In plane Euclidean geometry, a rhombus (plural rhombi or rhombuses) is a simple (non-self-intersecting) quadrilateral whose four sides all have the same length. Another name is equilateral quadrilateral, since equilateral means that all of its sides are equal in length. The rhombus is often called a diamond, after the diamonds suit in playing cards which resembles the projection of an octahedral diamond, or a lozenge, though the former sometimes refers specifically to a rhombus with a 60° angle, and the latter sometimes refers specifically to a rhombus with a 45° angle.\n",
    "\n",
    "Input:\n",
    "Two adjoined sides and the diagonal.\n",
    "1 <= ai, bi, ci <= 1000, ai + bi > ci\n",
    "Input two adjoined sides and the diagonal of a parallelogram (comma separated):\n",
    "3, 4,5\n",
    "This is a rectangle.\n"
   ]
  },
  {
   "cell_type": "code",
   "execution_count": 21,
   "id": "39df3598",
   "metadata": {},
   "outputs": [
    {
     "name": "stdout",
     "output_type": "stream",
     "text": [
      "Input two adjoined sides and the diagonal of a parallelogram (comma separated): 3, 4,5\n",
      "This is a rectangle.\n"
     ]
    }
   ],
   "source": [
    "# Input two adjoining sides and the diagonal of the parallelogram\n",
    "a, b, c = map(int, input(\"Input two adjoined sides and the diagonal of a parallelogram (comma separated): \").split(','))\n",
    "\n",
    "# Check if the parallelogram is a rectangle\n",
    "if a ** 2 + b ** 2 == c ** 2:\n",
    "    print(\"This is a rectangle.\")\n",
    "\n",
    "# Check if the parallelogram is a rhombus\n",
    "elif a == b:\n",
    "    print(\"This is a rhombus.\")\n",
    "\n",
    "# If it's not a rectangle or a rhombus, it's neither\n",
    "else:\n",
    "    print(\"This is neither a rectangle nor a rhombus.\")\n"
   ]
  },
  {
   "cell_type": "markdown",
   "id": "912b59fa",
   "metadata": {},
   "source": [
    "# 17. Write a Python program which accepts an even number (>=4, Goldbach number) from the user and creates combinations which express the given number as a sum of two prime numbers. Print the number of combinations.\n",
    "Goldbach number: A Goldbach number is a positive even integer that can be expressed as the sum of two odd primes.[4] Since four is the only even number greater than two that requires the even prime 2 in order to be written as the sum of two primes, another form of the statement of Goldbach's conjecture is that all even integers greater than 4 are Goldbach numbers.\n",
    "The expression of a given even number as a sum of two primes is called a Goldbach partition of that number. \n",
    "The following are examples of Goldbach partitions for some even numbers:\n",
    "6 = 3 + 3\n",
    "8 = 3 + 5\n",
    "10 = 3 + 7 = 5 + 5\n",
    "12 = 7 + 5\n",
    "...\n",
    "100 = 3 + 97 = 11 + 89 = 17 + 83 = 29 + 71 = 41 + 59 = 47 + 53\n",
    "Input an even number (0 to exit):\n",
    "100\n",
    "Number of combinations:\n",
    "6\n"
   ]
  },
  {
   "cell_type": "code",
   "execution_count": 1,
   "id": "2a9cc8c9",
   "metadata": {},
   "outputs": [
    {
     "name": "stdout",
     "output_type": "stream",
     "text": [
      "Input an even number (0 to exit): 100\n",
      "Number of combinations: 6\n",
      "Input an even number (0 to exit): 6\n",
      "Number of combinations: 1\n",
      "Input an even number (0 to exit): 0\n"
     ]
    }
   ],
   "source": [
    "def is_prime(num):\n",
    "    if num <= 1:\n",
    "        return False\n",
    "    if num <= 3:\n",
    "        return True\n",
    "    if num % 2 == 0 or num % 3 == 0:\n",
    "        return False\n",
    "    i = 5\n",
    "    while i * i <= num:\n",
    "        if num % i == 0 or num % (i + 2) == 0:\n",
    "            return False\n",
    "        i += 6\n",
    "    return True\n",
    "\n",
    "def find_goldbach_combinations(n):\n",
    "    if n < 4 or n % 2 != 0:\n",
    "        return 0\n",
    "    count = 0\n",
    "    for p in range(2, n // 2 + 1):\n",
    "        if is_prime(p) and is_prime(n - p):\n",
    "            count += 1\n",
    "    return count\n",
    "\n",
    "while True:\n",
    "    num = int(input(\"Input an even number (0 to exit): \"))\n",
    "    if num == 0:\n",
    "        break\n",
    "    combinations = find_goldbach_combinations(num)\n",
    "    print(\"Number of combinations:\", combinations)\n"
   ]
  },
  {
   "cell_type": "markdown",
   "id": "8d419d10",
   "metadata": {},
   "source": [
    "# 18. If you draw a straight line on a plane, the plane is divided into two regions. For example, if you draw two straight lines in parallel, you get three areas, and if you draw vertically one to the other you get 4 areas.\n",
    "Write a Python program to create the maximum number of regions obtained by drawing n given straight lines.\n",
    "Input:\n",
    "(1 <= n <= 10,000)\n",
    "Input number of straight lines (o to exit):\n",
    "5\n",
    "Number of regions:\n",
    "16\n"
   ]
  },
  {
   "cell_type": "code",
   "execution_count": 2,
   "id": "3ca7a327",
   "metadata": {},
   "outputs": [
    {
     "name": "stdout",
     "output_type": "stream",
     "text": [
      "Input number of straight lines (0 to exit): 5\n",
      "Number of regions: 16\n",
      "Input number of straight lines (0 to exit): 0\n"
     ]
    }
   ],
   "source": [
    "while True:\n",
    "    n = int(input(\"Input number of straight lines (0 to exit): \"))\n",
    "    if n == 0:\n",
    "        break\n",
    "    regions = n * (n + 1) // 2 + 1\n",
    "    print(\"Number of regions:\", regions)\n"
   ]
  },
  {
   "cell_type": "markdown",
   "id": "67f82342",
   "metadata": {},
   "source": [
    "# 19. There are four different points on a plane, P (xp,yp), Q(xq, yq), R(xr, yr) and S(xs, ys). Write a Python program to determine whether AB and CD are orthogonal.\n",
    "Input:\n",
    "xp,yp, xq, yq, xr, yr, xs and ys are -100 to 100 respectively and each value can be up to 5 digits after the decimal point It is given as a real number including the number of. Output:\n",
    "Output AB and CD are not orthogonal! or AB and CD are orthogonal!.\n",
    "\n",
    "There are 10 vertical and horizontal squares on a plane. Each square is painted blue and green. Blue represents the sea, and green represents the land. When two green squares are in contact with the top and bottom, or right and left, they are said to be ground. The area created by only one green square is called \"island\". For example, there are five islands in the figure below.\n",
    "Write a Python program to read the mass data and find the number of islands.\n",
    "\n",
    "Input:\n",
    "Input 10 rows of 10 numbers representing green squares (island) as 1 and blue squares (sea) as zeros\n",
    "1100000111\n",
    "1000000111\n",
    "0000000111\n",
    "0010001000\n",
    "0000011100\n",
    "0000111110\n",
    "0001111111\n",
    "1000111110\n",
    "1100011100\n",
    "1110001000\n",
    "Number of islands:\n",
    "5\n"
   ]
  },
  {
   "cell_type": "code",
   "execution_count": 6,
   "id": "4c8a86ae",
   "metadata": {},
   "outputs": [
    {
     "name": "stdout",
     "output_type": "stream",
     "text": [
      "Input xp, yp, xq, yq, xr, yr, xs, ys: 1.0 2.0 3.0 4.0 5.0 6.0 7.0 8.0\n",
      "AB and CD are not orthogonal!\n",
      "1100000111\n",
      "1000000111\n",
      "0000000111\n",
      "0010001000\n",
      "0000011100\n",
      "0000111110\n",
      "0001111111\n",
      "1000111110\n",
      "1100011100\n",
      "1110001000\n",
      "Number of islands: 5\n"
     ]
    }
   ],
   "source": [
    "# Input coordinates of points A, B, C, and D\n",
    "xp, yp, xq, yq, xr, yr, xs, ys = map(float, input(\"Input xp, yp, xq, yq, xr, yr, xs, ys: \").split())\n",
    "\n",
    "# Calculate vectors AB and CD\n",
    "vector_AB = (xq - xp, yq - yp)\n",
    "vector_CD = (xs - xr, ys - yr)\n",
    "\n",
    "# Calculate the dot product of vectors AB and CD\n",
    "dot_product = vector_AB[0] * vector_CD[0] + vector_AB[1] * vector_CD[1]\n",
    "\n",
    "# Check if the dot product is zero (orthogonal)\n",
    "if dot_product == 0:\n",
    "    print(\"AB and CD are orthogonal!\")\n",
    "else:\n",
    "    print(\"AB and CD are not orthogonal!\")\n",
    "def is_valid(x, y, visited, grid):\n",
    "    return 0 <= x < 10 and 0 <= y < 10 and not visited[x][y] and grid[x][y] == 1\n",
    "\n",
    "def dfs(x, y, visited, grid):\n",
    "    visited[x][y] = True\n",
    "    directions = [(1, 0), (-1, 0), (0, 1), (0, -1)]\n",
    "    for dx, dy in directions:\n",
    "        nx, ny = x + dx, y + dy\n",
    "        if is_valid(nx, ny, visited, grid):\n",
    "            dfs(nx, ny, visited, grid)\n",
    "\n",
    "grid = []\n",
    "for _ in range(10):\n",
    "    row = list(map(int, input()))\n",
    "    grid.append(row)\n",
    "\n",
    "visited = [[False] * 10 for _ in range(10)]\n",
    "islands = 0\n",
    "\n",
    "for i in range(10):\n",
    "    for j in range(10):\n",
    "        if grid[i][j] == 1 and not visited[i][j]:\n",
    "            dfs(i, j, visited, grid)\n",
    "            islands += 1\n",
    "\n",
    "print(\"Number of islands:\", islands)\n"
   ]
  },
  {
   "cell_type": "markdown",
   "id": "c18d895b",
   "metadata": {},
   "source": [
    "# 20. A convex polygon is a simple polygon in which no line segment between two points on the boundary ever goes outside the polygon. Equivalently, it is a simple polygon whose interior is a convex set. In a convex polygon, all interior angles are less than or equal to 180 degrees, while in a strictly convex polygon all interior angles are strictly less than 180 degrees.\n",
    "Write a Python program that compute the area of the polygon. The vertices have the names vertex 1, vertex 2, vertex3,…. vertex n according to the order of edge connections\n",
    "Note: The original sentences are uppercase letters, lowercase letters, numbers, symbols, less than 100 letters, and consecutive letters are not more than 9 letters.\n",
    "\n",
    "Input:\n",
    "Input number of sides: 5\n",
    "Side: 1\n",
    "Input the Coordinate:\n",
    "Input Coordinate x: 1\n",
    "Input Coordinate y: 0\n",
    "Side: 2\n",
    "Input the Coordinate:\n",
    "Input Coordinate x: 0\n",
    "Input Coordinate y: 0\n",
    "Side: 3\n",
    "Input the Coordinate:\n",
    "Input Coordinate x: 1\n",
    "Input Coordinate y: 1\n",
    "Side: 4\n",
    "Input the Coordinate:\n",
    "Input Coordinate x: 2\n",
    "Input Coordinate y: 0\n",
    "Side: 5\n",
    "Input the Coordinate:\n",
    "Input Coordinate x: -1\n",
    "Input Coordinate y: 1\n",
    "Area of the Polygon: 0.5\n"
   ]
  },
  {
   "cell_type": "code",
   "execution_count": 7,
   "id": "b2728591",
   "metadata": {},
   "outputs": [
    {
     "name": "stdout",
     "output_type": "stream",
     "text": [
      "Input number of sides: 5\n",
      "Side: 1\n",
      "Input Coordinate x: 1\n",
      "Input Coordinate y: 0\n",
      "Side: 2\n",
      "Input Coordinate x: 0\n",
      "Input Coordinate y: 0\n",
      "Side: 3\n",
      "Input Coordinate x: 1\n",
      "Input Coordinate y: 1\n",
      "Side: 4\n",
      "Input Coordinate x: 2\n",
      "Input Coordinate y: 0\n",
      "Side: 5\n",
      "Input Coordinate x: -1\n",
      "Input Coordinate y: 1\n",
      "Area of the Polygon: 0.5\n"
     ]
    }
   ],
   "source": [
    "# Function to calculate the area of a polygon using the shoelace formula\n",
    "def polygon_area(x_coords, y_coords):\n",
    "    n = len(x_coords)\n",
    "    area = 0.0\n",
    "    for i in range(n):\n",
    "        j = (i + 1) % n\n",
    "        area += x_coords[i] * y_coords[j] - x_coords[j] * y_coords[i]\n",
    "    return abs(area) / 2.0\n",
    "\n",
    "# Input number of sides\n",
    "n = int(input(\"Input number of sides: \"))\n",
    "\n",
    "x_coords = [\n",
    "y_coords = []\n",
    "\n",
    "# Input coordinates for each vertex\n",
    "for i in range(n):\n",
    "    print(\"Side:\", i + 1)\n",
    "    x = float(input(\"Input Coordinate x: \"))\n",
    "    y = float(input(\"Input Coordinate y: \"))\n",
    "    x_coords.append(x)\n",
    "    y_coords.append(y)\n",
    "\n",
    "# Calculate and print the area of the polygon\n",
    "area = polygon_area(x_coords, y_coords)\n",
    "print(\"Area of the Polygon:\", area)"
   ]
  },
  {
   "cell_type": "markdown",
   "id": "2afefc7c",
   "metadata": {},
   "source": [
    "# 21. Write a Python program to check whether a given integer is a palindrome or not.\n",
    "Note: An integer is a palindrome when it reads the same backward as forward. Negative numbers are not palindromic.\n",
    "\n",
    "Sample Input:\n",
    "(100)\n",
    "(252)\n",
    "(-838)\n",
    "Sample Output:\n",
    "False\n",
    "True\n",
    "False\n"
   ]
  },
  {
   "cell_type": "code",
   "execution_count": 8,
   "id": "23fddc10",
   "metadata": {},
   "outputs": [
    {
     "name": "stdout",
     "output_type": "stream",
     "text": [
      "False\n",
      "True\n",
      "False\n"
     ]
    }
   ],
   "source": [
    "def is_palindrome(num):\n",
    "    # Convert the number to a string\n",
    "    num_str = str(num)\n",
    "    \n",
    "    # Check if the string is equal to its reverse and the number is non-negative\n",
    "    return num_str == num_str[::-1] and num >= 0\n",
    "\n",
    "# Sample inputs\n",
    "inputs = [100, 252, -838]\n",
    "\n",
    "# Check if each input is a palindrome and print the result\n",
    "for num in inputs:\n",
    "    print(is_palindrome(num))\n"
   ]
  }
 ],
 "metadata": {
  "kernelspec": {
   "display_name": "Python 3 (ipykernel)",
   "language": "python",
   "name": "python3"
  },
  "language_info": {
   "codemirror_mode": {
    "name": "ipython",
    "version": 3
   },
   "file_extension": ".py",
   "mimetype": "text/x-python",
   "name": "python",
   "nbconvert_exporter": "python",
   "pygments_lexer": "ipython3",
   "version": "3.11.4"
  }
 },
 "nbformat": 4,
 "nbformat_minor": 5
}
