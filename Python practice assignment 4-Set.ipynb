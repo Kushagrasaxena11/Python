{
 "cells": [
  {
   "cell_type": "markdown",
   "id": "2a02b105",
   "metadata": {},
   "source": [
    "# 1. Write a Python program to find the Cartesian product of two sets.\n",
    "Example Input: Set1 = {1, 2}, Set2 = {'a', 'b'}\n",
    "Example Output: {(1, 'a'), (1, 'b'), (2, 'a'), (2, 'b')}\n"
   ]
  },
  {
   "cell_type": "code",
   "execution_count": 2,
   "id": "0725c6b8",
   "metadata": {},
   "outputs": [
    {
     "name": "stdout",
     "output_type": "stream",
     "text": [
      "[(1, 'a'), (1, 'b'), (2, 'a'), (2, 'b')]\n"
     ]
    }
   ],
   "source": [
    "# Define two sets\n",
    "Set1 = {1, 2}\n",
    "Set2 = {'a', 'b'}\n",
    "\n",
    "# Find the Cartesian product using a list comprehension\n",
    "cartesian_product = [(x, y) for x in Set1 for y in Set2]\n",
    "\n",
    "# Sort the Cartesian product\n",
    "sorted_cartesian_product = sorted(cartesian_product)\n",
    "\n",
    "# Print the sorted Cartesian product\n",
    "print(sorted_cartesian_product)\n"
   ]
  },
  {
   "cell_type": "markdown",
   "id": "24bdd066",
   "metadata": {},
   "source": [
    "# 2. Write a Python program to check if two sets are disjoint (have no common elements).\n",
    "\n",
    "Example Input: Set1 = {1, 2, 3}, Set2 = {4, 5, 6}\n",
    "Example Output: True\n"
   ]
  },
  {
   "cell_type": "code",
   "execution_count": 4,
   "id": "520b2f15",
   "metadata": {},
   "outputs": [
    {
     "name": "stdout",
     "output_type": "stream",
     "text": [
      "True\n"
     ]
    }
   ],
   "source": [
    "# Define two sets\n",
    "Set1 = {1, 2, 3}\n",
    "Set2 = {4, 5, 6}\n",
    "\n",
    "# Check if the sets are disjoint\n",
    "are_disjoint = Set1.isdisjoint(Set2)\n",
    "\n",
    "# Print the result\n",
    "print(are_disjoint)\n"
   ]
  },
  {
   "cell_type": "markdown",
   "id": "6c76725f",
   "metadata": {},
   "source": [
    "# 3. Write a Python program to implement the power set (all possible subsets) of a given set.\n",
    "Example Input: {1, 2, 3}\n",
    "Example Output: {{}, {1}, {2}, {3}, {1, 2}, {1, 3}, {2, 3}, {1, 2, 3}}\n"
   ]
  },
  {
   "cell_type": "code",
   "execution_count": 6,
   "id": "b14f67bd",
   "metadata": {},
   "outputs": [
    {
     "name": "stdout",
     "output_type": "stream",
     "text": [
      "[set(), {1}, {2}, {3}, {1, 2}, {1, 3}, {2, 3}, {1, 2, 3}]\n"
     ]
    }
   ],
   "source": [
    "import itertools\n",
    "\n",
    "# Define the input set\n",
    "input_set = {1, 2, 3}\n",
    "\n",
    "# Calculate the power set using itertools\n",
    "power_set = [set(combination) for r in range(len(input_set) + 1) for combination in itertools.combinations(input_set, r)]\n",
    "\n",
    "# Print the power set\n",
    "print(power_set)"
   ]
  },
  {
   "cell_type": "markdown",
   "id": "689ccfc3",
   "metadata": {},
   "source": [
    "# 4. Write a Python program to find the longest consecutive subsequence in a set.\n",
    "Example Input: {100, 4, 200, 1, 3, 2}\n",
    "Example Output: {1, 2, 3, 4}\n"
   ]
  },
  {
   "cell_type": "code",
   "execution_count": 8,
   "id": "9c7d9fe5",
   "metadata": {},
   "outputs": [
    {
     "name": "stdout",
     "output_type": "stream",
     "text": [
      "{1, 2, 3, 4}\n"
     ]
    }
   ],
   "source": [
    "def find_longest_consecutive_subsequence(input_set):\n",
    "    if not input_set:\n",
    "        return set()\n",
    "\n",
    "    input_set = sorted(input_set)\n",
    "    longest_subsequence = set()\n",
    "    current_subsequence = set()\n",
    "\n",
    "    for num in input_set:\n",
    "        if not current_subsequence or num == max(current_subsequence) + 1:\n",
    "            current_subsequence.add(num)\n",
    "        else:\n",
    "            current_subsequence = {num}\n",
    "\n",
    "        if len(current_subsequence) > len(longest_subsequence):\n",
    "            longest_subsequence = current_subsequence\n",
    "\n",
    "    return longest_subsequence\n",
    "\n",
    "# Example input\n",
    "input_set = {100, 4, 200, 1, 3, 2}\n",
    "\n",
    "# Find the longest consecutive subsequence\n",
    "result = find_longest_consecutive_subsequence(input_set)\n",
    "\n",
    "# Print the result\n",
    "print(result)\n"
   ]
  },
  {
   "cell_type": "markdown",
   "id": "93d82138",
   "metadata": {},
   "source": [
    "# 5. Write a Python program to find the number of elements in the largest subset of a set where no two elements are adjacent to each other.\n",
    "\n",
    "Example Input: {1, 2, 3, 4, 5}\n",
    "Example Output: 3 (Subset: {1, 3, 5})\n"
   ]
  },
  {
   "cell_type": "code",
   "execution_count": 15,
   "id": "009c7fe4",
   "metadata": {},
   "outputs": [
    {
     "name": "stdout",
     "output_type": "stream",
     "text": [
      "The largest non-adjacent subset size: 9\n",
      "Subset: {1, 3, 5}\n"
     ]
    }
   ],
   "source": [
    "def largest_non_adjacent_subset(nums):\n",
    "    if not nums:\n",
    "        return 0\n",
    "\n",
    "    n = len(nums)\n",
    "    \n",
    "    if n <= 2:\n",
    "        return max(nums)\n",
    "\n",
    "    max_sum = [0] * n\n",
    "\n",
    "    max_sum[0] = nums[0]\n",
    "    max_sum[1] = max(nums[0], nums[1])\n",
    "\n",
    "    for i in range(2, n):\n",
    "        max_sum[i] = max(max_sum[i - 1], max_sum[i - 2] + nums[i])\n",
    "\n",
    "    subset = []\n",
    "    i = n - 1\n",
    "    while i >= 0:\n",
    "        if i == 0:\n",
    "            subset.append(nums[i])\n",
    "            break\n",
    "        if max_sum[i] == max_sum[i - 1]:\n",
    "            i -= 1\n",
    "        else:\n",
    "            subset.append(nums[i])\n",
    "            i -= 2\n",
    "\n",
    "    subset.reverse()\n",
    "    return max_sum[-1], set(subset)\n",
    "\n",
    "input_set = {1, 2, 3, 4, 5}\n",
    "input_list = sorted(list(input_set))\n",
    "result, subset = largest_non_adjacent_subset(input_list)\n",
    "\n",
    "print(\"The largest non-adjacent subset size:\", result)\n",
    "print(\"Subset:\", subset)\n"
   ]
  },
  {
   "cell_type": "markdown",
   "id": "7504c468",
   "metadata": {},
   "source": [
    "# 6. Write a Python program to perform set operations on a list of sets (union, intersection, difference).\n",
    "\n",
    "Example Input: [set1, set2, set3] where set1 = {1, 2, 3}, set2 = {3, 4, 5}, set3 = {5, 6, 7}\n",
    "Example Output:\n",
    "Union: {1, 2, 3, 4, 5, 6, 7}\n",
    "Intersection: {}\n",
    "Difference (set1 - set2 - set3): {1, 2}"
   ]
  },
  {
   "cell_type": "code",
   "execution_count": 17,
   "id": "e122b198",
   "metadata": {},
   "outputs": [
    {
     "name": "stdout",
     "output_type": "stream",
     "text": [
      "Union: {1, 2, 3, 4, 5, 6, 7}\n",
      "Intersection: set()\n",
      "Difference (set1 - set2 - set3): {1, 2}\n"
     ]
    }
   ],
   "source": [
    "def main():\n",
    "    # Define the list of sets\n",
    "    set1 = {1, 2, 3}\n",
    "    set2 = {3, 4, 5}\n",
    "    set3 = {5, 6, 7}\n",
    "    set_list = [set1, set2, set3]\n",
    "\n",
    "    # Perform set operations\n",
    "    union_result = set.union(*set_list)\n",
    "    intersection_result = set.intersection(*set_list)\n",
    "    difference_result = set1.difference(set2, set3)\n",
    "\n",
    "    # Print the results\n",
    "    print(\"Union:\", union_result)\n",
    "    print(\"Intersection:\", intersection_result)\n",
    "    print(\"Difference (set1 - set2 - set3):\", difference_result)\n",
    "\n",
    "if __name__ == \"__main__\":\n",
    "    main()\n"
   ]
  },
  {
   "cell_type": "markdown",
   "id": "f30377b5",
   "metadata": {},
   "source": [
    "# 7. Write a Python program to find the second smallest element in a set.\n",
    "Example Input: {5, 2, 8, 1, 9, 3}\n",
    "Example Output: 2\n"
   ]
  },
  {
   "cell_type": "code",
   "execution_count": 18,
   "id": "689f8f4b",
   "metadata": {},
   "outputs": [
    {
     "name": "stdout",
     "output_type": "stream",
     "text": [
      "Second Smallest Element: 2\n"
     ]
    }
   ],
   "source": [
    "def find_second_smallest(input_set):\n",
    "    # Convert the set to a sorted list\n",
    "    sorted_list = sorted(input_set)\n",
    "    \n",
    "    # Check if there are at least two elements in the list\n",
    "    if len(sorted_list) >= 2:\n",
    "        return sorted_list[1]  # Return the second element (index 1)\n",
    "    else:\n",
    "        return None  # Return None if there are fewer than two elements\n",
    "\n",
    "def main():\n",
    "    # Input set\n",
    "    input_set = {5, 2, 8, 1, 9, 3}\n",
    "    \n",
    "    # Find the second smallest element\n",
    "    second_smallest = find_second_smallest(input_set)\n",
    "    \n",
    "    # Print the result\n",
    "    if second_smallest is not None:\n",
    "        print(\"Second Smallest Element:\", second_smallest)\n",
    "    else:\n",
    "        print(\"There are fewer than two elements in the set.\")\n",
    "\n",
    "if __name__ == \"__main__\":\n",
    "    main()\n"
   ]
  },
  {
   "cell_type": "markdown",
   "id": "a1784673",
   "metadata": {},
   "source": [
    "# 8. Write a Python program to find the symmetric difference between multiple sets.\n",
    "Example Input: [set1, set2, set3] where set1 = {1, 2, 3}, set2 = {3, 4, 5}, set3 = {5, 6, 7}\n",
    "Example Output: {1, 2, 4, 6, 7}\n"
   ]
  },
  {
   "cell_type": "code",
   "execution_count": 19,
   "id": "30ca3d91",
   "metadata": {},
   "outputs": [
    {
     "name": "stdout",
     "output_type": "stream",
     "text": [
      "Symmetric Difference: {1, 2, 4, 6, 7}\n"
     ]
    }
   ],
   "source": [
    "def find_symmetric_difference(sets_list):\n",
    "    # Initialize the result as the symmetric difference of the first two sets\n",
    "    result = sets_list[0] ^ sets_list[1]\n",
    "    \n",
    "    # Iterate through the remaining sets and update the result\n",
    "    for s in sets_list[2:]:\n",
    "        result = result ^ s\n",
    "    \n",
    "    return result\n",
    "\n",
    "def main():\n",
    "    # Input sets\n",
    "    set1 = {1, 2, 3}\n",
    "    set2 = {3, 4, 5}\n",
    "    set3 = {5, 6, 7}\n",
    "    \n",
    "    # Create a list of sets\n",
    "    sets_list = [set1, set2, set3]\n",
    "    \n",
    "    # Find the symmetric difference\n",
    "    symmetric_diff = find_symmetric_difference(sets_list)\n",
    "    \n",
    "    # Print the result\n",
    "    print(\"Symmetric Difference:\", symmetric_diff)\n",
    "\n",
    "if __name__ == \"__main__\":\n",
    "    main()\n"
   ]
  },
  {
   "cell_type": "markdown",
   "id": "afaaf8e1",
   "metadata": {},
   "source": [
    "# 9. Write a Python program to find the sum of all elements in the union of two sets, excluding elements that are common to both sets.\n",
    "Example Input: Set1 = {1, 2, 3}, Set2 = {3, 4, 5}\n",
    "Example Output: 12 (1 + 2 + 4 + 5)\n"
   ]
  },
  {
   "cell_type": "code",
   "execution_count": 21,
   "id": "cb5b6fdf",
   "metadata": {},
   "outputs": [
    {
     "name": "stdout",
     "output_type": "stream",
     "text": [
      "Sum of Union (Excluding Common): 12\n"
     ]
    }
   ],
   "source": [
    "def sum_of_union_excluding_common(set1, set2):\n",
    "    # Find the union of the two sets\n",
    "    union_set = set1.union(set2)\n",
    "    \n",
    "    # Find the sum of elements in the union excluding common elements\n",
    "    sum_excluding_common = sum(union_set - (set1 & set2))\n",
    "    \n",
    "    return sum_excluding_common\n",
    "\n",
    "def main():\n",
    "    # Input sets\n",
    "    set1 = {1, 2, 3}\n",
    "    set2 = {3, 4, 5}\n",
    "    \n",
    "    # Find the sum of the union excluding common elements\n",
    "    result = sum_of_union_excluding_common(set1, set2)\n",
    "    \n",
    "    # Print the result\n",
    "    print(\"Sum of Union (Excluding Common):\", result)\n",
    "\n",
    "if __name__ == \"__main__\":\n",
    "    main()\n"
   ]
  },
  {
   "cell_type": "markdown",
   "id": "4ce1bb7a",
   "metadata": {},
   "source": [
    "# 10. Write a Python program to create a set of all possible anagrams of a given word.\n",
    "Example Input: 'listen'\n",
    "Example Output: {'silent', 'enlist', 'tinsel', 'inlets', 'slinte', 'listen'}\n"
   ]
  },
  {
   "cell_type": "code",
   "execution_count": 25,
   "id": "3d674ef4",
   "metadata": {},
   "outputs": [
    {
     "name": "stdout",
     "output_type": "stream",
     "text": [
      "{'nsielt', 'isnlte', 'enitsl', 'lsenit', 'nliste', 'lsinte', 'stienl', 'ietlsn', 'iesnlt', 'sintle', 'stnile', 'etisnl', 'esinlt', 'lntesi', 'lienst', 'ilnets', 'nitsel', 'eiltsn', 'ilsnte', 'enstli', 'itlens', 'siletn', 'estinl', 'slenit', 'lsntei', 'tseiln', 'inlset', 'stenil', 'stnlei', 'lenist', 'nlsiet', 'tlseni', 'esilnt', 'tnseli', 'enitls', 'tlesin', 'neislt', 'neitls', 'lsntie', 'tisnle', 'snteli', 'lsient', 'lsteni', 'lsenti', 'esintl', 'ilents', 'tnseil', 'slntie', 'nitesl', 'nliset', 'nliets', 'inelst', 'letsin', 'nlties', 'etnlsi', 'lsetin', 'eitlns', 'sltnei', 'ienlst', 'ietnsl', 'stlnei', 'setnli', 'tnleis', 'tensil', 'itsnel', 'nstlie', 'enistl', 'enltsi', 'ltensi', 'tnlise', 'nlstie', 'nelsti', 'tisenl', 'ltnsie', 'lneits', 'leitsn', 'tnisle', 'esltni', 'lnesit', 'nsltei', 'lniset', 'liestn', 'tinsle', 'etnisl', 'lsniet', 'ielnst', 'elnsit', 'nistle', 'sletin', 'tslien', 'teslin', 'nisetl', 'eilstn', 'intsle', 'inlets', 'insetl', 'linset', 'eilsnt', 'neitsl', 'ntiesl', 'netlis', 'tesnil', 'eltsin', 'instle', 'senilt', 'snlite', 'itenls', 'elsitn', 'nilste', 'nseitl', 'ilsent', 'nsleit', 'etinsl', 'lntsie', 'litens', 'sietnl', 'ltseni', 'steiln', 'lnsite', 'sentil', 'enlist', 'stline', 'iltens', 'sentli', 'tenlsi', 'tielns', 'sltien', 'eltnsi', 'nteisl', 'itnsel', 'inltse', 'ienslt', 'snltie', 'tinles', 'tsnile', 'lestni', 'nltise', 'ntslei', 'snilte', 'telsni', 'enlsti', 'itesln', 'sietln', 'neilst', 'iletsn', 'ineslt', 'teinls', 'tinlse', 'slietn', 'eilnst', 'sltine', 'ietsln', 'estlin', 'elnsti', 'sitnle', 'elitns', 'sientl', 'telisn', 'niestl', 'stelin', 'itnles', 'eltisn', 'tnelsi', 'tseinl', 'nlesti', 'tnesil', 'eistnl', 'eisntl', 'esiltn', 'ienstl', 'etsiln', 'netsli', 'estnli', 'tilesn', 'seitln', 'itsnle', 'sleitn', 'ilstne', 'neistl', 'isnlet', 'ilesnt', 'stneil', 'lneist', 'lients', 'teisnl', 'enltis', 'itlsne', 'ntlsie', 'ilestn', 'inslte', 'tnslei', 'nesilt', 'nsitle', 'stneli', 'ntelis', 'nseilt', 'enislt', 'eslitn', 'slneti', 'istnel', 'etsnil', 'inselt', 'tsieln', 'nelits', 'nestli', 'ltinse', 'tsenli', 'snielt', 'estnil', 'iltsen', 'enlits', 'eintls', 'nselti', 'stleni', 'tlneis', 'ltnsei', 'itnesl', 'lstien', 'lsietn', 'silnte', 'ltsine', 'eintsl', 'sltnie', 'eslnit', 'intles', 'tsienl', 'tsinel', 'itslen', 'ielnts', 'etnsil', 'ilnset', 'senlit', 'nsliet', 'intels', 'etnsli', 'litnes', 'itnsle', 'stnlie', 'elnist', 'instel', 'ntsiel', 'lnesti', 'isenlt', 'seltni', 'netsil', 'eisltn', 'tselni', 'lnitse', 'letisn', 'elsnti', 'eslint', 'sletni', 'ltneis', 'islent', 'lensit', 'ntilse', 'tsniel', 'setlni', 'estlni', 'nstlei', 'ensilt', 'slenti', 'lstine', 'entsli', 'einlst', 'litsen', 'iesntl', 'silent', 'tsnlei', 'ltisen', 'nstile', 'tislne', 'stilne', 'etlsin', 'stinle', 'islnte', 'tlsein', 'lsinet', 'nistel', 'snleti', 'tsinle', 'iestln', 'eitsln', 'letins', 'sntile', 'ilnste', 'nislet', 'lisent', 'nilset', 'telnis', 'ltiesn', 'lnites', 'ltnise', 'iletns', 'tiensl', 'seltin', 'nesitl', 'ntslie', 'nselit', 'isetln', 'inelts', 'tnlsei', 'isntle', 'nieslt', 'netlsi', 'selnit', 'tsnlie', 'eltins', 'lsneti', 'tnlies', 'tlenis', 'eltsni', 'elstin', 'ntlsei', 'nleits', 'neslti', 'nitels', 'nielst', 'itnlse', 'islnet', 'lseint', 'tslein', 'ntisle', 'teisln', 'etslin', 'linest', 'ienlts', 'nliest', 'tsilne', 'iltesn', 'inestl', 'listen', 'tsilen', 'neltis', 'tlnsei', 'lenits', 'nitles', 'iltnes', 'seitnl', 'nsilte', 'nteils', 'tlnise', 'ltsien', 'leinst', 'lniste', 'esltin', 'stniel', 'senitl', 'nlitse', 'slteni', 'nsltie', 'entisl', 'tlsnei', 'lesint', 'tnlesi', 'eitsnl', 'letsni', 'telsin', 'litsne', 'eislnt', 'tnesli', 'teinsl', 'tniles', 'neltsi', 'eitnsl', 'isnetl', 'itlesn', 'isltne', 'tnelis', 'sneitl', 'tlnies', 'tslnie', 'snetil', 'esntil', 'slnite', 'ntelsi', 'enslti', 'enilst', 'sieltn', 'elntsi', 'enstil', 'sltein', 'eitnls', 'istenl', 'ntsile', 'lentsi', 'linste', 'slneit', 'nietsl', 'ntseli', 'einstl', 'sienlt', 'elitsn', 'tesiln', 'nsitel', 'silten', 'lietns', 'lteins', 'tnlsie', 'ltesni', 'lesitn', 'itnels', 'lesnit', 'lniets', 'nlstei', 'snilet', 'esntli', 'tsneli', 'estiln', 'intesl', 'tslnei', 'tneisl', 'tsleni', 'elntis', 'ensitl', 'entils', 'nelist', 'nltsie', 'ieltns', 'etisln', 'tnilse', 'neilts', 'lnsiet', 'lteisn', 'ltisne', 'stlien', 'ntlise', 'niltse', 'isnelt', 'eltnis', 'ietnls', 'nletis', 'leints', 'stelni', 'tiseln', 'slitne', 'etnils', 'etsinl', 'itelns', 'sitlne', 'tliesn', 'tilnse', 'etilsn', 'tisnel', 'ltnesi', 'litnse', 'lsneit', 'tielsn', 'setiln', 'iestnl', 'tleisn', 'siltne', 'tlnsie', 'ietsnl', 'etsnli', 'snitle', 'snteil', 'sinlte', 'tselin', 'itensl', 'tilens', 'snietl', 'selnti', 'lisetn', 'tlsnie', 'lisnte', 'snelti', 'ielstn', 'ilsnet', 'lestin', 'etlsni', 'istlen', 'lntsei', 'sitlen', 'etlnsi', 'sitenl', 'tliens', 'nstiel', 'itlnes', 'telnsi', 'itlnse', 'tilsne', 'steinl', 'sliten', 'etslni', 'tienls', 'enslit', 'ietlns', 'ntiles', 'tlisen', 'nlesit', 'niltes', 'sntlie', 'ieslnt', 'nitsle', 'nslite', 'tlisne', 'nsetli', 'islten', 'iseltn', 'ntlies', 'ntleis', 'linets', 'intlse', 'inetls', 'ientsl', 'letnis', 'ltesin', 'ilsetn', 'itesnl', 'nislte', 'letnsi', 'ilntes', 'slntei', 'eisnlt', 'inltes', 'tsneil', 'nsteli', 'lsiten', 'lnteis', 'nltsei', 'lsetni', 'lensti', 'lntise', 'stilen', 'isntel', 'tenisl', 'snliet', 'tnisel', 'setlin', 'liesnt', 'tiesnl', 'enlsit', 'slniet', 'esitln', 'esnlit', 'nlseti', 'slinte', 'einlts', 'ntseil', 'inslet', 'lnstie', 'ltsnei', 'tlnesi', 'lintse', 'ielsnt', 'eslnti', 'tensli', 'sintel', 'ntiels', 'teslni', 'elsnit', 'sntiel', 'elinst', 'snltei', 'snelit', 'lietsn', 'tleins', 'setinl', 'tesinl', 'nlites', 'tilsen', 'siteln', 'stenli', 'tiesln', 'neslit', 'nilets', 'lnstei', 'lstnei', 'inlste', 'selitn', 'sitnel', 'tniesl', 'tlsine', 'ltsnie', 'snleit', 'tinels', 'nlsite', 'nlseit', 'ltines', 'tneils', 'etlnis', 'nlteis', 'nsietl', 'sleint', 'silnet', 'setnil', 'etnlis', 'lnseti', 'seilnt', 'nltesi', 'etlins', 'entsil', 'leistn', 'nletsi', 'ieltsn', 'isentl', 'tnslie', 'ientls', 'itelsn', 'ilenst', 'leisnt', 'tlinse', 'tlsien', 'tlines', 'intsel', 'sneilt', 'ltiens', 'selint', 'stinel', 'eilnts', 'leitns', 'esnilt', 'lstnie', 'sinetl', 'itslne', 'nietls', 'netils', 'tniels', 'ilnest', 'iltsne', 'lnetsi', 'sntlei', 'sielnt', 'istlne', 'etilns', 'entlis', 'lnseit', 'eiltns', 'tenlis', 'iselnt', 'ltenis', 'lsitne', 'isletn', 'teilsn', 'nitlse', 'stieln', 'esitnl', 'elstni', 'nielts', 'lentis', 'etlisn', 'nilest', 'seinlt', 'nleist', 'lstein', 'nelsit', 'ntisel', 'tislen', 'teilns', 'nsleti', 'sinelt', 'nsetil', 'ilntse', 'elsint', 'tsline', 'tnsile', 'esnlti', 'ntesli', 'stlnie', 'seintl', 'tinsel', 'lseitn', 'itsenl', 'elnits', 'inetsl', 'lniest', 'ntlesi', 'tinesl', 'eitlsn', 'tsenil', 'iltnse', 'telins', 'lesnti', 'snetli', 'tenils', 'elints', 'lsnite', 'ilsten', 'tesnli', 'tnsiel', 'entlsi', 'isetnl', 'itseln', 'ltsein', 'lisnet', 'niselt', 'etinls', 'slinet', 'ltnies', 'iesltn', 'elistn', 'eistln', 'nsilet', 'ntesil', 'nsteil', 'litesn', 'tlensi', 'enilts', 'seiltn', 'netisl', 'lnties', 'nestil', 'slient', 'esnitl', 'einslt', 'stlein', 'sinlet', 'listne', 'inlest', 'lnetis', 'senlti', 'isteln', 'itlsen', 'elisnt', 'lintes', 'tlesni', 'snitel', 'istnle', 'tilnes'}\n"
     ]
    }
   ],
   "source": [
    "from itertools import permutations\n",
    "\n",
    "def find_anagrams(word):\n",
    "    # Generate all permutations of the characters in the word\n",
    "    char_permutations = permutations(word)\n",
    "\n",
    "    # Join the permutations to form words and add them to a set\n",
    "    anagrams_set = {''.join(perm) for perm in char_permutations}\n",
    "\n",
    "    return anagrams_set\n",
    "\n",
    "# Example Input\n",
    "word = 'listen'\n",
    "\n",
    "# Find anagrams\n",
    "anagrams = find_anagrams(word)\n",
    "\n",
    "# Print the set of anagrams\n",
    "print(anagrams)\n"
   ]
  }
 ],
 "metadata": {
  "kernelspec": {
   "display_name": "Python 3 (ipykernel)",
   "language": "python",
   "name": "python3"
  },
  "language_info": {
   "codemirror_mode": {
    "name": "ipython",
    "version": 3
   },
   "file_extension": ".py",
   "mimetype": "text/x-python",
   "name": "python",
   "nbconvert_exporter": "python",
   "pygments_lexer": "ipython3",
   "version": "3.11.4"
  }
 },
 "nbformat": 4,
 "nbformat_minor": 5
}
