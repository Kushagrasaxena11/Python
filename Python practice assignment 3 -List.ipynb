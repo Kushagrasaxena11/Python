{
 "cells": [
  {
   "cell_type": "markdown",
   "id": "34d5af90",
   "metadata": {},
   "source": [
    "# 1.Write a program to find the length of a list in 4 ways.\n"
   ]
  },
  {
   "cell_type": "code",
   "execution_count": 1,
   "id": "f211b946",
   "metadata": {},
   "outputs": [
    {
     "name": "stdout",
     "output_type": "stream",
     "text": [
      "Method 1: 5\n"
     ]
    }
   ],
   "source": [
    "#Using the len() function:\n",
    "my_list = [1, 2, 3, 4, 5]\n",
    "length = len(my_list)\n",
    "print(\"Method 1:\", length)\n"
   ]
  },
  {
   "cell_type": "code",
   "execution_count": 3,
   "id": "2d0d90cc",
   "metadata": {},
   "outputs": [
    {
     "name": "stdout",
     "output_type": "stream",
     "text": [
      "Method 2: 5\n"
     ]
    }
   ],
   "source": [
    "#Using a loop to count elements:\n",
    "my_list = [1, 2, 3, 4, 5]\n",
    "length = 0\n",
    "for _ in my_list:\n",
    "    length += 1\n",
    "print(\"Method 2:\", length)\n"
   ]
  },
  {
   "cell_type": "code",
   "execution_count": 4,
   "id": "d70585f1",
   "metadata": {},
   "outputs": [
    {
     "name": "stdout",
     "output_type": "stream",
     "text": [
      "Method 3: 5\n"
     ]
    }
   ],
   "source": [
    "#Using list comprehension and the sum() function:\n",
    "my_list = [1, 2, 3, 4, 5]\n",
    "length = sum(1 for _ in my_list)\n",
    "print(\"Method 3:\", length)\n"
   ]
  },
  {
   "cell_type": "code",
   "execution_count": 5,
   "id": "4b6babaf",
   "metadata": {},
   "outputs": [
    {
     "name": "stdout",
     "output_type": "stream",
     "text": [
      "Method 4: 5\n"
     ]
    }
   ],
   "source": [
    "#Using a while loop:\n",
    "my_list = [1, 2, 3, 4, 5]\n",
    "iterator = iter(my_list)\n",
    "length = 0\n",
    "while True:\n",
    "    try:\n",
    "        next(iterator)\n",
    "        length += 1\n",
    "    except StopIteration:\n",
    "        break\n",
    "print(\"Method 4:\", length)\n"
   ]
  },
  {
   "cell_type": "markdown",
   "id": "d08275cb",
   "metadata": {},
   "source": [
    "# 2.Write python program to find the cumulative sum of a list.\n",
    "For e.g.\n",
    "Input: list = [10, 20, 30, 40, 50]\n",
    "Output: [10, 30, 60, 100, 150]\n"
   ]
  },
  {
   "cell_type": "code",
   "execution_count": 6,
   "id": "a47e745c",
   "metadata": {},
   "outputs": [
    {
     "name": "stdout",
     "output_type": "stream",
     "text": [
      "[10, 30, 60, 100, 150]\n"
     ]
    }
   ],
   "source": [
    "def cumulative_sum(input_list):\n",
    "    cum_sum = []\n",
    "    total = 0\n",
    "\n",
    "    for num in input_list:\n",
    "        total += num\n",
    "        cum_sum.append(total)\n",
    "\n",
    "    return cum_sum\n",
    "\n",
    "input_list = [10, 20, 30, 40, 50]\n",
    "result = cumulative_sum(input_list)\n",
    "print(result)\n"
   ]
  },
  {
   "cell_type": "markdown",
   "id": "e3802ed8",
   "metadata": {},
   "source": [
    "# 3.Write a python program to remove the duplicate elements of a list.\n",
    "For e.g.\n",
    "Input: list = [5, 9, 8, 3, 5, 2, 3, 9, 8, 11]\n",
    "Output: [5, 9, 8, 3, 2, 11]\n"
   ]
  },
  {
   "cell_type": "code",
   "execution_count": 7,
   "id": "9e4affb5",
   "metadata": {},
   "outputs": [
    {
     "name": "stdout",
     "output_type": "stream",
     "text": [
      "[5, 9, 8, 3, 2, 11]\n"
     ]
    }
   ],
   "source": [
    "def remove_duplicates(input_list):\n",
    "    unique_list = []\n",
    "    for item in input_list:\n",
    "        if item not in unique_list:\n",
    "            unique_list.append(item)\n",
    "    return unique_list\n",
    "\n",
    "input_list = [5, 9, 8, 3, 5, 2, 3, 9, 8, 11]\n",
    "result = remove_duplicates(input_list)\n",
    "print(result)\n"
   ]
  },
  {
   "cell_type": "markdown",
   "id": "7b819346",
   "metadata": {},
   "source": [
    "# 4.Write a python program to remove common elements from two list.\n",
    "For e.g.\n",
    "Input: list1 = [1, 2, 3, 4, 5] & list2 = [2, 4, 6, 8, 10]\n",
    "Output: list1 = [1, 3, 5] & list2 = [6, 8, 10]\n",
    "\n"
   ]
  },
  {
   "cell_type": "code",
   "execution_count": 8,
   "id": "a9ce3755",
   "metadata": {},
   "outputs": [
    {
     "name": "stdout",
     "output_type": "stream",
     "text": [
      "list1 = [1, 3, 5]\n",
      "list2 = [8, 10, 6]\n"
     ]
    }
   ],
   "source": [
    "def remove_common_elements(list1, list2):\n",
    "    set1 = set(list1)\n",
    "    set2 = set(list2)\n",
    "\n",
    "    # Find the elements unique to each set\n",
    "    unique1 = set1.difference(set2)\n",
    "    unique2 = set2.difference(set1)\n",
    "\n",
    "    # Convert the unique sets back to lists\n",
    "    list1 = list(unique1)\n",
    "    list2 = list(unique2)\n",
    "\n",
    "    return list1, list2\n",
    "\n",
    "list1 = [1, 2, 3, 4, 5]\n",
    "list2 = [2, 4, 6, 8, 10]\n",
    "result1, result2 = remove_common_elements(list1, list2)\n",
    "print(\"list1 =\", result1)\n",
    "print(\"list2 =\", result2)\n"
   ]
  },
  {
   "cell_type": "markdown",
   "id": "f7eaaa35",
   "metadata": {},
   "source": [
    "# 5.Write a python program to print the first letter of each word.\n",
    "For e.g.\n",
    "Input: list = [“Avul”, “Avul Pakir”, “Avul Pakir Jainulabdeen”, “Avul Pakir JainulabdeenAbdul”,  “Avul Pakir Jainulabdeen Abdul Kalam”]\n",
    "Output: [“A”,”AP”,”APJ”, “APJA”, “APJAK”]\n"
   ]
  },
  {
   "cell_type": "code",
   "execution_count": 9,
   "id": "9cf388e0",
   "metadata": {},
   "outputs": [
    {
     "name": "stdout",
     "output_type": "stream",
     "text": [
      "['A', 'AP', 'APJ', 'APJ', 'APJAK']\n"
     ]
    }
   ],
   "source": [
    "def first_letters_of_words(input_list):\n",
    "    first_letters = []\n",
    "\n",
    "    for string in input_list:\n",
    "        words = string.split()\n",
    "        first_word_letters = [word[0] for word in words]\n",
    "        first_letters.append(''.join(first_word_letters))\n",
    "\n",
    "    return first_letters\n",
    "\n",
    "input_list = [\"Avul\", \"Avul Pakir\", \"Avul Pakir Jainulabdeen\", \"Avul Pakir JainulabdeenAbdul\", \"Avul Pakir Jainulabdeen Abdul Kalam\"]\n",
    "output_list = first_letters_of_words(input_list)\n",
    "print(output_list)\n"
   ]
  },
  {
   "cell_type": "markdown",
   "id": "186e9041",
   "metadata": {},
   "source": [
    "# 6.Write a Python program that removes and prints every third number from a list of numbers until the list is empty.\n",
    "Input : input_numbers = [1, 2, 3, 4, 5, 6, 7, 8, 9]\n",
    "Output:\n",
    "Removed: 3\n",
    "Removed: 6\n",
    "Removed: 9\n",
    "Final List: [1, 2, 4, 5, 7, 8]\n",
    "\n",
    "\n"
   ]
  },
  {
   "cell_type": "code",
   "execution_count": 15,
   "id": "b7804f1c",
   "metadata": {},
   "outputs": [
    {
     "name": "stdout",
     "output_type": "stream",
     "text": [
      "Removed: 3\n",
      "Removed: 4\n",
      "Removed: 5\n",
      "Removed: 6\n",
      "Removed: 7\n",
      "Removed: 8\n",
      "Removed: 9\n",
      "Final List: [1, 2]\n"
     ]
    }
   ],
   "source": [
    "def remove_and_print_third_numbers(input_numbers):\n",
    "    removed_numbers = []\n",
    "\n",
    "    while len(input_numbers) >= 3:\n",
    "        third_number = input_numbers.pop(2)\n",
    "        removed_numbers.append(third_number)\n",
    "        print(f\"Removed: {third_number}\")\n",
    "\n",
    "    return input_numbers, removed_numbers\n",
    "\n",
    "input_numbers = [1, 2, 3, 4, 5, 6, 7, 8, 9]\n",
    "final_list, removed_list = remove_and_print_third_numbers(input_numbers)\n",
    "print(f\"Final List: {final_list}\")\n"
   ]
  },
  {
   "cell_type": "markdown",
   "id": "bd71b3e1",
   "metadata": {},
   "source": [
    "# 7.Write a Python program to make combinations of 3 digits.\n",
    "Input:\n",
    "input_digits = [1, 2, 3, 4]\n",
    "Output: Combinations of 3 Digits:\n",
    "(1, 2, 3)\n",
    "(1, 2, 4)\n",
    "(1, 3, 4)\n",
    "(2, 3, 4)\n"
   ]
  },
  {
   "cell_type": "code",
   "execution_count": 16,
   "id": "0c684c40",
   "metadata": {},
   "outputs": [
    {
     "name": "stdout",
     "output_type": "stream",
     "text": [
      "Combinations of 3 Digits:\n",
      "(1, 2, 3)\n",
      "(1, 2, 4)\n",
      "(1, 3, 4)\n",
      "(2, 3, 4)\n"
     ]
    }
   ],
   "source": [
    "from itertools import combinations\n",
    "\n",
    "def generate_combinations(input_digits):\n",
    "    result = []\n",
    "    for combo in combinations(input_digits, 3):\n",
    "        result.append(combo)\n",
    "    return result\n",
    "\n",
    "input_digits = [1, 2, 3, 4]\n",
    "combinations_list = generate_combinations(input_digits)\n",
    "\n",
    "print(\"Combinations of 3 Digits:\")\n",
    "for combo in combinations_list:\n",
    "    print(combo)\n"
   ]
  },
  {
   "cell_type": "markdown",
   "id": "21249fc5",
   "metadata": {},
   "source": [
    "# 8. Write a Python program to check the sum of three elements (each from an array) from three arrays is equal to a target value. Print all those three-element combinations.\n"
   ]
  },
  {
   "cell_type": "code",
   "execution_count": 18,
   "id": "c53e07e4",
   "metadata": {},
   "outputs": [
    {
     "name": "stdout",
     "output_type": "stream",
     "text": [
      "Combinations with sum 15:\n",
      "(1, 5, 9)\n",
      "(1, 6, 8)\n",
      "(2, 4, 9)\n",
      "(2, 5, 8)\n",
      "(2, 6, 7)\n",
      "(3, 4, 8)\n",
      "(3, 5, 7)\n"
     ]
    }
   ],
   "source": [
    "def find_combinations_with_sum(array1, array2, array3, target_sum):\n",
    "    combinations = []\n",
    "    for num1 in array1:\n",
    "        for num2 in array2:\n",
    "            for num3 in array3:\n",
    "                if num1 + num2 + num3 == target_sum:\n",
    "                    combinations.append((num1, num2, num3))\n",
    "    return combinations\n",
    "\n",
    "array1 = [1, 2, 3]\n",
    "array2 = [4, 5, 6]\n",
    "array3 = [7, 8, 9]\n",
    "target_sum = 15\n",
    "\n",
    "combinations = find_combinations_with_sum(array1, array2, array3, target_sum)\n",
    "\n",
    "if combinations:\n",
    "    print(f\"Combinations with sum {target_sum}:\")\n",
    "    for combo in combinations:\n",
    "        print(combo)\n",
    "else:\n",
    "    print(\"No combinations found.\")\n"
   ]
  },
  {
   "cell_type": "markdown",
   "id": "9a0cd465",
   "metadata": {},
   "source": [
    "# 9.Write a Python program that generates a list of all possible permutations from a given collection of distinct numbers.\n"
   ]
  },
  {
   "cell_type": "code",
   "execution_count": 19,
   "id": "803cd4ae",
   "metadata": {},
   "outputs": [
    {
     "name": "stdout",
     "output_type": "stream",
     "text": [
      "Permutations:\n",
      "(1, 2, 3)\n",
      "(1, 3, 2)\n",
      "(2, 1, 3)\n",
      "(2, 3, 1)\n",
      "(3, 1, 2)\n",
      "(3, 2, 1)\n"
     ]
    }
   ],
   "source": [
    "from itertools import permutations\n",
    "\n",
    "def generate_permutations(numbers):\n",
    "    permutations_list = list(permutations(numbers))\n",
    "    return permutations_list\n",
    "\n",
    "input_numbers = [1, 2, 3]\n",
    "permutations_result = generate_permutations(input_numbers)\n",
    "\n",
    "print(\"Permutations:\")\n",
    "for perm in permutations_result:\n",
    "    print(perm)\n"
   ]
  },
  {
   "cell_type": "markdown",
   "id": "28c0ea3a",
   "metadata": {},
   "source": [
    "# 10.Write a Python program to get all possible two-digit letter combinations from a 1-9 digit string.\n"
   ]
  },
  {
   "cell_type": "code",
   "execution_count": 20,
   "id": "cb8b510c",
   "metadata": {},
   "outputs": [
    {
     "name": "stdout",
     "output_type": "stream",
     "text": [
      "Two-Digit Letter Combinations:\n",
      "ADG\n",
      "ADH\n",
      "ADI\n",
      "AEG\n",
      "AEH\n",
      "AEI\n",
      "AFG\n",
      "AFH\n",
      "AFI\n",
      "BDG\n",
      "BDH\n",
      "BDI\n",
      "BEG\n",
      "BEH\n",
      "BEI\n",
      "BFG\n",
      "BFH\n",
      "BFI\n",
      "CDG\n",
      "CDH\n",
      "CDI\n",
      "CEG\n",
      "CEH\n",
      "CEI\n",
      "CFG\n",
      "CFH\n",
      "CFI\n"
     ]
    }
   ],
   "source": [
    "def letter_combinations(digits):\n",
    "    if not digits:\n",
    "        return []\n",
    "\n",
    "    letter_map = {\n",
    "        '1': '',\n",
    "        '2': 'ABC',\n",
    "        '3': 'DEF',\n",
    "        '4': 'GHI',\n",
    "        '5': 'JKL',\n",
    "        '6': 'MNO',\n",
    "        '7': 'PQRS',\n",
    "        '8': 'TUV',\n",
    "        '9': 'WXYZ'\n",
    "    }\n",
    "\n",
    "    def generate_combinations(current, next_digits):\n",
    "        if not next_digits:\n",
    "            combinations.append(current)\n",
    "            return\n",
    "\n",
    "        for letter in letter_map[next_digits[0]]:\n",
    "            generate_combinations(current + letter, next_digits[1:])\n",
    "\n",
    "    combinations = []\n",
    "    generate_combinations('', digits)\n",
    "    return combinations\n",
    "\n",
    "input_digits = '234'\n",
    "combinations = letter_combinations(input_digits)\n",
    "\n",
    "print(\"Two-Digit Letter Combinations:\")\n",
    "for combo in combinations:\n",
    "    print(combo)\n"
   ]
  },
  {
   "cell_type": "markdown",
   "id": "b875f0d9",
   "metadata": {},
   "source": [
    "# 11.Write a Python program to find the number of notes (Samples of notes: 10, 20, 50, 100, 200, 500) against an amount.\n",
    "      Range: Number of notes (n): n (1 <= n <= 1000000).\n"
   ]
  },
  {
   "cell_type": "code",
   "execution_count": 21,
   "id": "75cc2bf0",
   "metadata": {},
   "outputs": [
    {
     "name": "stdout",
     "output_type": "stream",
     "text": [
      "Enter the amount: 3000\n",
      "Number of Notes:\n",
      "500 INR notes: 6\n"
     ]
    }
   ],
   "source": [
    "def count_notes(amount):\n",
    "    denominations = [500, 200, 100, 50, 20, 10]\n",
    "    notes_count = {}\n",
    "\n",
    "    for denomination in denominations:\n",
    "        if amount >= denomination:\n",
    "            count = amount // denomination\n",
    "            notes_count[denomination] = count\n",
    "            amount -= count * denomination\n",
    "\n",
    "    return notes_count\n",
    "\n",
    "amount = int(input(\"Enter the amount: \"))\n",
    "notes = count_notes(amount)\n",
    "\n",
    "print(\"Number of Notes:\")\n",
    "for denomination, count in notes.items():\n",
    "    print(f\"{denomination} INR notes: {count}\")\n"
   ]
  },
  {
   "cell_type": "markdown",
   "id": "7561c0b1",
   "metadata": {},
   "source": [
    "# 12.Write a Python program to create a sequence where the first four members of the sequence are equal to one. Each successive term of the sequence is equal to the sum of the four previous ones. Find the Nth member of the sequence.\n"
   ]
  },
  {
   "cell_type": "code",
   "execution_count": 22,
   "id": "b07911c7",
   "metadata": {},
   "outputs": [
    {
     "name": "stdout",
     "output_type": "stream",
     "text": [
      "Enter the value of N: 121\n",
      "The 121th member of the sequence is: 4062887313629486305506981193759345\n"
     ]
    }
   ],
   "source": [
    "def find_nth_member(n):\n",
    "    if n <= 0:\n",
    "        return None\n",
    "    elif n <= 4:\n",
    "        return 1\n",
    "    \n",
    "    # Initialize the first four members of the sequence\n",
    "    sequence = [1, 1, 1, 1]\n",
    "\n",
    "    # Generate the sequence up to the Nth member\n",
    "    for i in range(4, n):\n",
    "        next_member = sum(sequence)\n",
    "        sequence.append(next_member)\n",
    "        sequence.pop(0)  # Remove the first element to maintain a window of four elements\n",
    "    \n",
    "    return sequence[-1]\n",
    "\n",
    "n = int(input(\"Enter the value of N: \"))\n",
    "nth_member = find_nth_member(n)\n",
    "\n",
    "if nth_member is not None:\n",
    "    print(f\"The {n}th member of the sequence is: {nth_member}\")\n",
    "else:\n",
    "    print(\"N must be a positive integer.\")\n"
   ]
  },
  {
   "cell_type": "markdown",
   "id": "0384f5e1",
   "metadata": {},
   "source": [
    "# 13.Write a python program to find the second largest number in a list without using any built-in methods.\n",
    "For e.g.\n",
    "Input: list = [78, 45, 56, 33, 97, 23, 99]\n",
    "Output: 97\n"
   ]
  },
  {
   "cell_type": "code",
   "execution_count": 23,
   "id": "920caf38",
   "metadata": {},
   "outputs": [
    {
     "name": "stdout",
     "output_type": "stream",
     "text": [
      "The second largest number is: 97\n"
     ]
    }
   ],
   "source": [
    "def find_second_largest(input_list):\n",
    "    if len(input_list) < 2:\n",
    "        return None\n",
    "\n",
    "    largest = second_largest = float('-inf')\n",
    "\n",
    "    for num in input_list:\n",
    "        if num > largest:\n",
    "            second_largest = largest\n",
    "            largest = num\n",
    "        elif num > second_largest and num != largest:\n",
    "            second_largest = num\n",
    "\n",
    "    if second_largest == float('-inf'):\n",
    "        return None\n",
    "\n",
    "    return second_largest\n",
    "\n",
    "input_list = [78, 45, 56, 33, 97, 23, 99]\n",
    "second_largest = find_second_largest(input_list)\n",
    "\n",
    "if second_largest is not None:\n",
    "    print(f\"The second largest number is: {second_largest}\")\n",
    "else:\n",
    "    print(\"The list does not have a second largest number.\")\n"
   ]
  },
  {
   "cell_type": "markdown",
   "id": "9c53ddb1",
   "metadata": {},
   "source": [
    "# 14.Write a python program to break a list into chunks of size N in Python and find sum.\n",
    "For e.g.\n",
    "Input: list = [10, 12, 23, 32, 22, 21, 90, 98, 89, 99] & N = 2\n",
    "Output: [[10, 12], [23, 32], [22, 21], [90, 98], [89, 99]] 🡪 [22, 55, 43, 188, 188]\n"
   ]
  },
  {
   "cell_type": "code",
   "execution_count": 24,
   "id": "0422807c",
   "metadata": {},
   "outputs": [
    {
     "name": "stdout",
     "output_type": "stream",
     "text": [
      "Chunks: [[10, 12], [23, 32], [22, 21], [90, 98], [89, 99]]\n",
      "Chunk Sums: [22, 55, 43, 188, 188]\n"
     ]
    }
   ],
   "source": [
    "def break_list_into_chunks(input_list, N):\n",
    "    chunks = [input_list[i:i + N] for i in range(0, len(input_list), N)]\n",
    "    return chunks\n",
    "\n",
    "def find_chunk_sums(chunks):\n",
    "    chunk_sums = [sum(chunk) for chunk in chunks]\n",
    "    return chunk_sums\n",
    "\n",
    "input_list = [10, 12, 23, 32, 22, 21, 90, 98, 89, 99]\n",
    "N = 2\n",
    "\n",
    "chunks = break_list_into_chunks(input_list, N)\n",
    "chunk_sums = find_chunk_sums(chunks)\n",
    "\n",
    "print(\"Chunks:\", chunks)\n",
    "print(\"Chunk Sums:\", chunk_sums)\n"
   ]
  },
  {
   "cell_type": "markdown",
   "id": "61a0788c",
   "metadata": {},
   "source": [
    "# 15.Write a python program to find the sum of length of strings at given indices.\n",
    "For e.g.\n",
    "Input: list = [“Hi”, “I”, “am”,”a”,”DataScientist”] & index_list = [0, 1, 4]\n",
    "Output: 2 + 1 + 13 = 16\n"
   ]
  },
  {
   "cell_type": "code",
   "execution_count": 25,
   "id": "2cc13f18",
   "metadata": {},
   "outputs": [
    {
     "name": "stdout",
     "output_type": "stream",
     "text": [
      "Sum of lengths at given indices: 16\n"
     ]
    }
   ],
   "source": [
    "def sum_of_lengths_at_indices(input_list, index_list):\n",
    "    total_length = 0\n",
    "    for index in index_list:\n",
    "        if 0 <= index < len(input_list):\n",
    "            total_length += len(input_list[index])\n",
    "    return total_length\n",
    "\n",
    "input_list = [\"Hi\", \"I\", \"am\", \"a\", \"DataScientist\"]\n",
    "index_list = [0, 1, 4]\n",
    "\n",
    "result = sum_of_lengths_at_indices(input_list, index_list)\n",
    "print(\"Sum of lengths at given indices:\", result)\n"
   ]
  },
  {
   "cell_type": "markdown",
   "id": "db37cd79",
   "metadata": {},
   "source": [
    "# 16.Write a Python program to identify unique triplets whose three elements sum to    zero from an array of n integers.\n",
    "For e.g\n",
    "Input: input_numbers = [-1, 0, 1, 2, -1, -4]\n",
    "Output: Unique Triplets Whose Sum is Zero:\n",
    "(-1, 0, 1)\n",
    "(-1, -1, 2)\n",
    "(-4, 0, 4)\n"
   ]
  },
  {
   "cell_type": "code",
   "execution_count": 27,
   "id": "140f4c67",
   "metadata": {},
   "outputs": [
    {
     "name": "stdout",
     "output_type": "stream",
     "text": [
      "Unique Triplets Whose Sum is Zero:\n",
      "(-1, -1, 2)\n",
      "(-1, 0, 1)\n"
     ]
    }
   ],
   "source": [
    "def find_unique_triplets_with_sum_zero(input_numbers):\n",
    "    input_numbers.sort()\n",
    "    triplets = []\n",
    "    \n",
    "    for i in range(len(input_numbers) - 2):\n",
    "        if i > 0 and input_numbers[i] == input_numbers[i - 1]:\n",
    "            continue\n",
    "\n",
    "        left = i + 1\n",
    "        right = len(input_numbers) - 1\n",
    "        \n",
    "        while left < right:\n",
    "            total = input_numbers[i] + input_numbers[left] + input_numbers[right]\n",
    "            \n",
    "            if total == 0:\n",
    "                triplets.append((input_numbers[i], input_numbers[left], input_numbers[right]))\n",
    "                while left < right and input_numbers[left] == input_numbers[left + 1]:\n",
    "                    left += 1\n",
    "                while left < right and input_numbers[right] == input_numbers[right - 1]:\n",
    "                    right -= 1\n",
    "                left += 1\n",
    "                right -= 1\n",
    "            elif total < 0:\n",
    "                left += 1\n",
    "            else:\n",
    "                right -= 1\n",
    "    \n",
    "    return triplets\n",
    "\n",
    "input_numbers = [-1, 0, 1, 2, -1, -4]\n",
    "unique_triplets = find_unique_triplets_with_sum_zero(input_numbers)\n",
    "\n",
    "print(\"Unique Triplets Whose Sum is Zero:\")\n",
    "for triplet in unique_triplets:\n",
    "    print(triplet)\n"
   ]
  },
  {
   "cell_type": "markdown",
   "id": "17f3b708",
   "metadata": {},
   "source": [
    "#    17. Write a Python program that accepts a positive number and subtracts from it the sum        of its digits, and so on. Continue this operation until the number is positive.\n"
   ]
  },
  {
   "cell_type": "code",
   "execution_count": 28,
   "id": "eb871a95",
   "metadata": {},
   "outputs": [
    {
     "name": "stdout",
     "output_type": "stream",
     "text": [
      "Enter a positive number: 53\n",
      "Number: 45, Sum of Digits: 8\n",
      "Number: 36, Sum of Digits: 9\n",
      "Number: 27, Sum of Digits: 9\n",
      "Number: 18, Sum of Digits: 9\n",
      "Number: 9, Sum of Digits: 9\n",
      "Number: 0, Sum of Digits: 9\n"
     ]
    }
   ],
   "source": [
    "def sum_of_digits(number):\n",
    "    digit_sum = 0\n",
    "    while number > 0:\n",
    "        digit_sum += number % 10\n",
    "        number //= 10\n",
    "    return digit_sum\n",
    "\n",
    "def subtract_until_positive(number):\n",
    "    while number > 0:\n",
    "        digit_sum = sum_of_digits(number)\n",
    "        number -= digit_sum\n",
    "        print(f\"Number: {number}, Sum of Digits: {digit_sum}\")\n",
    "\n",
    "positive_number = int(input(\"Enter a positive number: \"))\n",
    "subtract_until_positive(positive_number)\n"
   ]
  },
  {
   "cell_type": "markdown",
   "id": "eb5ddd4e",
   "metadata": {},
   "source": [
    "#  18. Write a Python program to find the total number of even or odd divisors of a given integer.\n"
   ]
  },
  {
   "cell_type": "code",
   "execution_count": 29,
   "id": "6cf50082",
   "metadata": {},
   "outputs": [
    {
     "name": "stdout",
     "output_type": "stream",
     "text": [
      "Enter an integer: 12\n",
      "Total even divisors of 12: 4\n",
      "Total odd divisors of 12: 2\n"
     ]
    }
   ],
   "source": [
    "def count_even_or_odd_divisors(n, even=True):\n",
    "    count = 0\n",
    "\n",
    "    for i in range(1, n + 1):\n",
    "        if n % i == 0:\n",
    "            if (i % 2 == 0) == even:\n",
    "                count += 1\n",
    "\n",
    "    return count\n",
    "\n",
    "# Input integer\n",
    "integer = int(input(\"Enter an integer: \"))\n",
    "\n",
    "# Choose whether to count even or odd divisors\n",
    "even_divisors = count_even_or_odd_divisors(integer, even=True)\n",
    "odd_divisors = count_even_or_odd_divisors(integer, even=False)\n",
    "\n",
    "print(f\"Total even divisors of {integer}: {even_divisors}\")\n",
    "print(f\"Total odd divisors of {integer}: {odd_divisors}\")\n"
   ]
  },
  {
   "cell_type": "markdown",
   "id": "0e02ccf2",
   "metadata": {},
   "source": [
    "# 19. Write a Python program to find the digits that are missing from a given mobile number."
   ]
  },
  {
   "cell_type": "code",
   "execution_count": 30,
   "id": "bd805211",
   "metadata": {},
   "outputs": [
    {
     "name": "stdout",
     "output_type": "stream",
     "text": [
      "Enter a mobile number: 7983043767\n",
      "Missing digits in the mobile number: 1, 2, 5\n"
     ]
    }
   ],
   "source": [
    "def find_missing_digits(mobile_number):\n",
    "    # Create a set of all possible digits (0-9)\n",
    "    all_digits = set(\"0123456789\")\n",
    "    \n",
    "    # Convert the mobile number digits to a set\n",
    "    mobile_digits = set(mobile_number)\n",
    "    \n",
    "    # Find the missing digits by subtracting mobile_digits from all_digits\n",
    "    missing_digits = all_digits - mobile_digits\n",
    "    \n",
    "    return sorted(list(missing_digits))\n",
    "\n",
    "# Input mobile number as a string\n",
    "mobile_number = input(\"Enter a mobile number: \")\n",
    "\n",
    "# Find and print the missing digits\n",
    "missing_digits = find_missing_digits(mobile_number)\n",
    "\n",
    "if missing_digits:\n",
    "    print(f\"Missing digits in the mobile number: {', '.join(missing_digits)}\")\n",
    "else:\n",
    "    print(\"No missing digits in the mobile number.\")\n"
   ]
  },
  {
   "cell_type": "markdown",
   "id": "78ed796a",
   "metadata": {},
   "source": [
    "# 20. Write a Python program to compute the summation of the absolute difference of all distinct pairs in a given array (non-decreasing order)."
   ]
  },
  {
   "cell_type": "code",
   "execution_count": null,
   "id": "e225588b",
   "metadata": {},
   "outputs": [],
   "source": [
    "def sum_absolute_pair_differences(arr):\n",
    "    n = len(arr)\n",
    "    total_sum = 0\n",
    "    \n",
    "    for i in range(n - 1):\n",
    "        for j in range(i + 1, n):\n",
    "            total_sum += abs(arr[i] - arr[j])\n",
    "    \n",
    "    return total_sum\n",
    "\n",
    "# Input a sorted array (non-decreasing order)\n",
    "arr = [1, 3, 5, 7]\n",
    "\n",
    "# Compute and print the summation of absolute differences\n",
    "result = sum_absolute_pair_differences(arr)\n",
    "print(\"Sum of absolute pair differences:\", result)\n"
   ]
  },
  {
   "cell_type": "markdown",
   "id": "052e830e",
   "metadata": {},
   "source": [
    "# 21. Write a Python program to find the type of progression (arithmetic progression / geometric progression) and the next successive member of the three successive members of a sequence.\n"
   ]
  },
  {
   "cell_type": "code",
   "execution_count": 32,
   "id": "cbff5990",
   "metadata": {},
   "outputs": [
    {
     "name": "stdout",
     "output_type": "stream",
     "text": [
      "Progression Type: Arithmetic\n",
      "Next Successive Member: 8\n"
     ]
    }
   ],
   "source": [
    "def identify_progression_type(seq):\n",
    "    # Check if it's an arithmetic progression\n",
    "    is_arithmetic = all(seq[i] - seq[i - 1] == seq[1] - seq[0] for i in range(2, len(seq)))\n",
    "\n",
    "    # Check if it's a geometric progression\n",
    "    is_geometric = all(seq[i] / seq[i - 1] == seq[1] / seq[0] for i in range(2, len(seq)))\n",
    "\n",
    "    if is_arithmetic:\n",
    "        return \"Arithmetic\", seq[1] - seq[0]\n",
    "    elif is_geometric:\n",
    "        return \"Geometric\", seq[1] / seq[0]\n",
    "    else:\n",
    "        return \"Neither\", None\n",
    "\n",
    "def find_next_successive_members(seq):\n",
    "    progression_type, common_difference_or_ratio = identify_progression_type(seq)\n",
    "\n",
    "    if progression_type == \"Arithmetic\":\n",
    "        next_term = seq[-1] + common_difference_or_ratio\n",
    "    elif progression_type == \"Geometric\":\n",
    "        next_term = seq[-1] * common_difference_or_ratio\n",
    "    else:\n",
    "        next_term = None\n",
    "\n",
    "    return progression_type, next_term\n",
    "\n",
    "# Input a sequence of three successive members\n",
    "sequence = [2, 4, 6]\n",
    "\n",
    "# Identify the progression type and find the next successive member\n",
    "progression_type, next_member = find_next_successive_members(sequence)\n",
    "\n",
    "print(\"Progression Type:\", progression_type)\n",
    "if progression_type in (\"Arithmetic\", \"Geometric\"):\n",
    "    print(\"Next Successive Member:\", next_member)\n",
    "else:\n",
    "    print(\"The sequence is neither an arithmetic nor a geometric progression.\")\n"
   ]
  },
  {
   "cell_type": "markdown",
   "id": "4a1c79fa",
   "metadata": {},
   "source": [
    "# 22. Write a Python program to find the number of combinations that satisfy p + q + r + s = n where n is a given number <= 4000 and p, q, r, s are between 0 to 1000.\n",
    "Input a positive integer: (ctrl+d to exit)\n",
    "252\n",
    "Number of combinations of a, b, c, d: 2731135\n",
    "\n"
   ]
  },
  {
   "cell_type": "code",
   "execution_count": 34,
   "id": "badbf63e",
   "metadata": {},
   "outputs": [
    {
     "name": "stdout",
     "output_type": "stream",
     "text": [
      "Input a positive integer: 1\n",
      "Number of combinations of p, q, r, s: 501501\n"
     ]
    }
   ],
   "source": [
    "def count_combinations(n):\n",
    "    # Create a 2D table to store the counts\n",
    "    dp = [[0] * 1001 for _ in range(n + 1)]\n",
    "\n",
    "    # Initialize base cases\n",
    "    for i in range(1001):\n",
    "        dp[0][i] = 1\n",
    "\n",
    "    # Fill the table using dynamic programming\n",
    "    for i in range(1, n + 1):\n",
    "        for j in range(1001):\n",
    "            for k in range(j, 1001):\n",
    "                dp[i][k] += dp[i - 1][j]\n",
    "\n",
    "    # Calculate the total count\n",
    "    total_count = sum(dp[n])\n",
    "\n",
    "    return total_count\n",
    "\n",
    "# Input a positive integer\n",
    "try:\n",
    "    n = int(input(\"Input a positive integer: \"))\n",
    "    if n <= 4000:\n",
    "        combinations = count_combinations(n)\n",
    "        print(\"Number of combinations of p, q, r, s:\", combinations)\n",
    "    else:\n",
    "        print(\"Input value must be less than or equal to 4000.\")\n",
    "except ValueError:\n",
    "    print(\"Invalid input. Please enter a positive integer.\")\n"
   ]
  },
  {
   "cell_type": "markdown",
   "id": "506223fe",
   "metadata": {},
   "source": [
    "# 23. Write a Python program that adds up the columns and rows of the given table as shown in the specified figure.\n",
    "Input number of rows/columns (0 to exit)\n",
    "4\n",
    "Input cell value:\n",
    "25 69 51 26\n",
    "68 35 29 54\n",
    "54 57 45 63\n",
    "61 68 47 59\n",
    "Result:\n",
    "25 69 51 26 171\n",
    "8 35 29 54 186\n",
    "54 57 45 63 219\n",
    "61 68 47 59 235\n",
    "208 229 172 202 811\n",
    "Input number of rows/columns (0 to exit)\n"
   ]
  },
  {
   "cell_type": "code",
   "execution_count": 1,
   "id": "1b3a0c90",
   "metadata": {},
   "outputs": [
    {
     "name": "stdout",
     "output_type": "stream",
     "text": [
      "Input number of rows/columns (0 to exit): 4\n",
      "Input cell values:\n",
      "25 69 51 26\n",
      "68 35 29 54\n",
      "54 57 45 63\n",
      "61 68 47 59\n",
      "Result:\n",
      "25 69 51 26 171\n",
      "68 35 29 54 186\n",
      "54 57 45 63 219\n",
      "61 68 47 59 235\n",
      "208 229 172 202\n",
      "Input number of rows/columns (0 to exit): 0\n"
     ]
    }
   ],
   "source": [
    "def print_table(table):\n",
    "    for row in table:\n",
    "        print(\" \".join(map(str, row)))\n",
    "\n",
    "def add_rows_and_columns(table):\n",
    "    rows = len(table)\n",
    "    cols = len(table[0])\n",
    "\n",
    "    # Add rows and calculate column sums\n",
    "    for i in range(rows):\n",
    "        row_sum = sum(table[i])\n",
    "        table[i].append(row_sum)\n",
    "\n",
    "    # Calculate column sums\n",
    "    col_sums = [0] * cols\n",
    "    for j in range(cols):\n",
    "        col_sum = sum(table[i][j] for i in range(rows))\n",
    "        col_sums[j] = col_sum\n",
    "\n",
    "    table.append(col_sums)\n",
    "\n",
    "    print(\"Result:\")\n",
    "    print_table(table)\n",
    "\n",
    "while True:\n",
    "    try:\n",
    "        rows_cols = int(input(\"Input number of rows/columns (0 to exit): \"))\n",
    "        if rows_cols == 0:\n",
    "            break\n",
    "\n",
    "        table = []\n",
    "        print(\"Input cell values:\")\n",
    "        for _ in range(rows_cols):\n",
    "            row = list(map(int, input().split()))\n",
    "            table.append(row)\n",
    "\n",
    "        add_rows_and_columns(table)\n",
    "    except ValueError:\n",
    "        print(\"Invalid input. Please enter a positive integer for rows/columns.\")\n"
   ]
  },
  {
   "cell_type": "markdown",
   "id": "31a53871",
   "metadata": {},
   "source": [
    "# 24. Given a list of numbers and a number k, write a Python program to check whether the sum of any two numbers from the list is equal to k or not.\n",
    "For example, given [1, 5, 11, 5] and k = 16, return true since 11 + 5 is 16.\n",
    "Sample Input:\n",
    "([12, 5, 0, 5], 10)\n",
    "([20, 20, 4, 5], 40)\n",
    "([1, -1], 0)\n",
    "([1, 1, 0], 0)\n",
    "Sample Output:\n",
    "True\n",
    "True\n",
    "True\n",
    "False\n"
   ]
  },
  {
   "cell_type": "code",
   "execution_count": 2,
   "id": "34594d0c",
   "metadata": {},
   "outputs": [
    {
     "name": "stdout",
     "output_type": "stream",
     "text": [
      "True\n",
      "True\n",
      "True\n",
      "False\n"
     ]
    }
   ],
   "source": [
    "def has_pair_with_sum(nums, k):\n",
    "    seen = set()\n",
    "    \n",
    "    for num in nums:\n",
    "        complement = k - num\n",
    "        if complement in seen:\n",
    "            return True\n",
    "        seen.add(num)\n",
    "    \n",
    "    return False\n",
    "\n",
    "# Sample Input\n",
    "inputs = [([12, 5, 0, 5], 10), ([20, 20, 4, 5], 40), ([1, -1], 0), ([1, 1, 0], 0)]\n",
    "\n",
    "# Check for each input\n",
    "for nums, k in inputs:\n",
    "    result = has_pair_with_sum(nums, k)\n",
    "    print(result)\n"
   ]
  },
  {
   "cell_type": "markdown",
   "id": "1b20b561",
   "metadata": {},
   "source": [
    "# 25. Write a Python program that removes duplicate elements from a given array of numbers so that each element appears only once and returns the new length of the array. \n",
    "Sample Input:\n",
    "[0,0,1,1,2,2,3,3,4,4,4]\n",
    "[1, 2, 2, 3, 4, 4]\n",
    "Sample Output:\n",
    "5\n",
    "4\n"
   ]
  },
  {
   "cell_type": "code",
   "execution_count": 4,
   "id": "025c21a7",
   "metadata": {},
   "outputs": [
    {
     "name": "stdout",
     "output_type": "stream",
     "text": [
      "5\n",
      "4\n"
     ]
    }
   ],
   "source": [
    "def remove_duplicates(nums):\n",
    "    if not nums:\n",
    "        return 0\n",
    "\n",
    "    # Initialize a pointer to keep track of the unique elements\n",
    "    unique_index = 0\n",
    "\n",
    "    # Iterate through the array\n",
    "    for i in range(1, len(nums)):\n",
    "        if nums[i] != nums[unique_index]:\n",
    "            unique_index += 1\n",
    "            nums[unique_index] = nums[i]\n",
    "\n",
    "    return unique_index + 1\n",
    "\n",
    "# Sample Input\n",
    "inputs = [[0, 0, 1, 1, 2, 2, 3, 3, 4, 4, 4], [1, 2, 2, 3, 4, 4]]\n",
    "\n",
    "# Check for each input\n",
    "for nums in inputs:\n",
    "    result = remove_duplicates(nums)\n",
    "    print(result)\n"
   ]
  },
  {
   "cell_type": "markdown",
   "id": "a034c3ac",
   "metadata": {},
   "source": [
    "# 26. Write a Python program to calculate the maximum profit from selling and buying values of stock. An array of numbers represent the stock prices in chronological order. \n",
    "For example, given [8, 10, 7, 5, 7, 15], the function will return 10, since the buying value of the stock is 5 dollars and sell value is 15 dollars.\n",
    "Sample Input:\n",
    "([8, 10, 7, 5, 7, 15])\n",
    "([1, 2, 8, 1])\n",
    "([])\n",
    "Sample Output:\n",
    "10\n",
    "7\n",
    "0\n"
   ]
  },
  {
   "cell_type": "code",
   "execution_count": 5,
   "id": "63c8016a",
   "metadata": {},
   "outputs": [
    {
     "name": "stdout",
     "output_type": "stream",
     "text": [
      "10\n",
      "7\n",
      "0\n"
     ]
    }
   ],
   "source": [
    "def max_profit(prices):\n",
    "    if not prices:\n",
    "        return 0\n",
    "\n",
    "    min_price = prices[0]\n",
    "    max_profit = 0\n",
    "\n",
    "    for price in prices:\n",
    "        if price < min_price:\n",
    "            min_price = price\n",
    "        else:\n",
    "            max_profit = max(max_profit, price - min_price)\n",
    "\n",
    "    return max_profit\n",
    "\n",
    "# Sample Input\n",
    "inputs = [[8, 10, 7, 5, 7, 15], [1, 2, 8, 1], []]\n",
    "\n",
    "# Check for each input\n",
    "for prices in inputs:\n",
    "    result = max_profit(prices)\n",
    "    print(result)\n"
   ]
  },
  {
   "cell_type": "markdown",
   "id": "28460a70",
   "metadata": {},
   "source": [
    "# 27. Write a Python program to remove all instances of a given value from a given array of integers and find the length of the newly created array. \n",
    "Sample Input:\n",
    "([1, 2, 3, 4, 5, 6, 7, 5], 5)\n",
    "([10,10,10,10,10], 10)\n",
    "([10,10,10,10,10], 20)\n",
    "([], 1)\n",
    "Sample Output:\n",
    "6\n",
    "0\n",
    "5\n",
    "0\n",
    "\n"
   ]
  },
  {
   "cell_type": "code",
   "execution_count": 6,
   "id": "bad9a18b",
   "metadata": {},
   "outputs": [
    {
     "name": "stdout",
     "output_type": "stream",
     "text": [
      "6\n",
      "0\n",
      "5\n",
      "0\n"
     ]
    }
   ],
   "source": [
    "def remove_element(nums, val):\n",
    "    if not nums:\n",
    "        return 0\n",
    "\n",
    "    i = 0  # Pointer to keep track of the new array without the given value\n",
    "\n",
    "    for num in nums:\n",
    "        if num != val:\n",
    "            nums[i] = num\n",
    "            i += 1\n",
    "\n",
    "    return i\n",
    "\n",
    "# Sample Input\n",
    "inputs = [([1, 2, 3, 4, 5, 6, 7, 5], 5), ([10, 10, 10, 10, 10], 10), ([10, 10, 10, 10, 10], 20), ([], 1)]\n",
    "\n",
    "# Check for each input\n",
    "for nums, val in inputs:\n",
    "    result = remove_element(nums, val)\n",
    "    print(result)\n"
   ]
  },
  {
   "cell_type": "markdown",
   "id": "b06d8a5e",
   "metadata": {},
   "source": [
    "# 28. Write a Python program to find the starting and ending position of a given value in a given array of integers, sorted in ascending order. \n",
    "If the target is not found in the array, return [0, 0].\n",
    "Input: [5, 7, 7, 8, 8, 8] target value = 8\n",
    "Output: [0, 5]\n",
    "Input: [1, 3, 6, 9, 13, 14] target value = 4\n",
    "Output: [0, 0]\n"
   ]
  },
  {
   "cell_type": "code",
   "execution_count": 9,
   "id": "0794de08",
   "metadata": {},
   "outputs": [
    {
     "name": "stdout",
     "output_type": "stream",
     "text": [
      "[3, 5]\n",
      "[0, 0]\n"
     ]
    }
   ],
   "source": [
    "def search_range(nums, target):\n",
    "    if not nums:\n",
    "        return [0, 0]\n",
    "\n",
    "    def find_left(nums, target):\n",
    "        left, right = 0, len(nums) - 1\n",
    "        while left <= right:\n",
    "            mid = left + (right - left) // 2\n",
    "            if nums[mid] == target:\n",
    "                right = mid - 1\n",
    "            elif nums[mid] < target:\n",
    "                left = mid + 1\n",
    "            else:\n",
    "                right = mid - 1\n",
    "        return left\n",
    "\n",
    "    def find_right(nums, target):\n",
    "        left, right = 0, len(nums) - 1\n",
    "        while left <= right:\n",
    "            mid = left + (right - left) // 2\n",
    "            if nums[mid] == target:\n",
    "                left = mid + 1\n",
    "            elif nums[mid] < target:\n",
    "                left = mid + 1\n",
    "            else:\n",
    "                right = mid - 1\n",
    "        return right\n",
    "\n",
    "    left = find_left(nums, target)\n",
    "    right = find_right(nums, target)\n",
    "\n",
    "    if left <= right:\n",
    "        return [left, right]\n",
    "    else:\n",
    "        return [0, 0]\n",
    "\n",
    "# Sample Input\n",
    "inputs = [([5, 7, 7, 8, 8, 8], 8), ([1, 3, 6, 9, 13, 14], 4)]\n",
    "\n",
    "# Check for each input\n",
    "for nums, target in inputs:\n",
    "    result = search_range(nums, target)\n",
    "    print(result)\n"
   ]
  },
  {
   "cell_type": "markdown",
   "id": "e20c69b1",
   "metadata": {},
   "source": [
    "# 29. Write a Python program to compute the largest product of three integers from a given list of integers. \n",
    "Sample Input:\n",
    "[-10, -20, 20, 1]\n",
    "[-1, -1, 4, 2, 1]\n",
    "[1, 2, 3, 4, 5, 6]\n",
    "Sample Output:\n",
    "4000\n",
    "8\n",
    "120\n"
   ]
  },
  {
   "cell_type": "code",
   "execution_count": 10,
   "id": "1541ca3f",
   "metadata": {},
   "outputs": [
    {
     "name": "stdout",
     "output_type": "stream",
     "text": [
      "4000\n",
      "8\n",
      "120\n"
     ]
    }
   ],
   "source": [
    "def max_product_of_three(nums):\n",
    "    nums.sort()  # Sort the list in ascending order\n",
    "    n = len(nums)\n",
    "    \n",
    "    # Maximum product can be one of the following:\n",
    "    # 1. Product of the three largest positive integers.\n",
    "    # 2. Product of the two smallest negative integers and the largest positive integer (in case of negative numbers).\n",
    "    \n",
    "    product1 = nums[n-1] * nums[n-2] * nums[n-3]  # Case 1\n",
    "    product2 = nums[0] * nums[1] * nums[n-1]       # Case 2\n",
    "    \n",
    "    return max(product1, product2)\n",
    "\n",
    "# Sample Input\n",
    "inputs = [([-10, -20, 20, 1]), ([-1, -1, 4, 2, 1]), ([1, 2, 3, 4, 5, 6])]\n",
    "\n",
    "# Calculate and print the largest product for each input\n",
    "for nums in inputs:\n",
    "    result = max_product_of_three(nums)\n",
    "    print(result)\n"
   ]
  },
  {
   "cell_type": "markdown",
   "id": "b9752cde",
   "metadata": {},
   "source": [
    "# 30. Write a program to find the multiplication of two matrix.\n",
    "\n",
    "\n"
   ]
  },
  {
   "cell_type": "code",
   "execution_count": 11,
   "id": "81b47bdd",
   "metadata": {},
   "outputs": [
    {
     "name": "stdout",
     "output_type": "stream",
     "text": [
      "[58, 64]\n",
      "[139, 154]\n"
     ]
    }
   ],
   "source": [
    "def matrix_multiply(matrix1, matrix2):\n",
    "    # Check if the matrices can be multiplied\n",
    "    if len(matrix1[0]) != len(matrix2):\n",
    "        return \"Matrices cannot be multiplied\"\n",
    "\n",
    "    # Initialize the result matrix with zeros\n",
    "    result = [[0 for _ in range(len(matrix2[0]))] for _ in range(len(matrix1))]\n",
    "\n",
    "    # Perform matrix multiplication\n",
    "    for i in range(len(matrix1)):\n",
    "        for j in range(len(matrix2[0])):\n",
    "            for k in range(len(matrix2)):\n",
    "                result[i][j] += matrix1[i][k] * matrix2[k][j]\n",
    "\n",
    "    return result\n",
    "\n",
    "# Example matrices\n",
    "matrix1 = [[1, 2, 3], [4, 5, 6]]\n",
    "matrix2 = [[7, 8], [9, 10], [11, 12]]\n",
    "\n",
    "# Multiply the matrices\n",
    "result = matrix_multiply(matrix1, matrix2)\n",
    "\n",
    "# Print the result\n",
    "if result == \"Matrices cannot be multiplied\":\n",
    "    print(result)\n",
    "else:\n",
    "    for row in result:\n",
    "        print(row)\n"
   ]
  },
  {
   "cell_type": "markdown",
   "id": "999d39b2",
   "metadata": {},
   "source": [
    "# 31. Write a python program to find the sum of digits till single digit.\n",
    "For e.g.\n",
    "Input: list = [121, 220, 12330, 78940, 235650]\n",
    "Output: [4, 4, 9, 21]🡪 [4, 4, 9, 3]\n"
   ]
  },
  {
   "cell_type": "code",
   "execution_count": 12,
   "id": "d4657148",
   "metadata": {},
   "outputs": [
    {
     "name": "stdout",
     "output_type": "stream",
     "text": [
      "[4, 4, 9, 1, 3]\n"
     ]
    }
   ],
   "source": [
    "def sum_of_digits_until_single_digit(num):\n",
    "    while num >= 10:\n",
    "        temp_sum = 0\n",
    "        while num > 0:\n",
    "            temp_sum += num % 10\n",
    "            num //= 10\n",
    "        num = temp_sum\n",
    "    return num\n",
    "\n",
    "def sum_of_digits_list(numbers):\n",
    "    result = []\n",
    "    for num in numbers:\n",
    "        result.append(sum_of_digits_until_single_digit(num))\n",
    "    return result\n",
    "\n",
    "# Sample Input\n",
    "numbers = [121, 220, 12330, 78940, 235650]\n",
    "\n",
    "# Calculate and print the sums until single digit for each number\n",
    "result = sum_of_digits_list(numbers)\n",
    "print(result)\n"
   ]
  },
  {
   "cell_type": "markdown",
   "id": "7acf07e1",
   "metadata": {},
   "source": [
    "# 32. Write a Python program to print the length of the series and the series from the given 3rd term, 3rd last term, and the sum of a series.\n",
    "Sample Data:\n",
    "Input third term of the series: 3\n",
    "Input 3rd last term: 3\n",
    "Input Sum of the series: 15\n",
    "Length of the series: 5\n",
    "Series:1 2345\n"
   ]
  },
  {
   "cell_type": "code",
   "execution_count": 14,
   "id": "a6137b91",
   "metadata": {},
   "outputs": [
    {
     "name": "stdout",
     "output_type": "stream",
     "text": [
      "Input third term of the series: 3\n",
      "Input 3rd last term: 3\n",
      "Input Sum of the series: 5\n",
      "Length of the series: 1\n",
      "Series:\n",
      "3 "
     ]
    }
   ],
   "source": [
    "def find_series(third_term, third_last_term, series_sum):\n",
    "    # Calculate the number of terms (length of the series)\n",
    "    num_terms = (2 * series_sum) // (third_term + third_last_term)\n",
    "\n",
    "    # Calculate the common difference\n",
    "    common_diff = (third_last_term - third_term) // (num_terms - 3)\n",
    "\n",
    "    # Generate the series\n",
    "    series = [third_term]\n",
    "    for _ in range(1, num_terms):\n",
    "        next_term = series[-1] + common_diff\n",
    "        series.append(next_term)\n",
    "\n",
    "    return num_terms, series\n",
    "\n",
    "# Input from the user\n",
    "third_term = int(input(\"Input third term of the series: \"))\n",
    "third_last_term = int(input(\"Input 3rd last term: \"))\n",
    "series_sum = int(input(\"Input Sum of the series: \"))\n",
    "\n",
    "# Find the series and its length\n",
    "length, series = find_series(third_term, third_last_term, series_sum)\n",
    "\n",
    "# Print the length of the series and the series itself\n",
    "print(f\"Length of the series: {length}\")\n",
    "print(\"Series:\")\n",
    "for term in series:\n",
    "    print(term, end=\" \")\n"
   ]
  },
  {
   "cell_type": "markdown",
   "id": "f878a0f1",
   "metadata": {},
   "source": [
    "# 33. Write a Python program to find common divisors between two numbers in a given pair.\n",
    "\n"
   ]
  },
  {
   "cell_type": "code",
   "execution_count": 15,
   "id": "35bc8e53",
   "metadata": {},
   "outputs": [
    {
     "name": "stdout",
     "output_type": "stream",
     "text": [
      "Enter the first number: 2\n",
      "Enter the second number: 3\n",
      "Common divisors between 2 and 3: [1]\n"
     ]
    }
   ],
   "source": [
    "def find_common_divisors(num1, num2):\n",
    "    common_divisors = []\n",
    "    for i in range(1, min(num1, num2) + 1):\n",
    "        if num1 % i == 0 and num2 % i == 0:\n",
    "            common_divisors.append(i)\n",
    "    return common_divisors\n",
    "\n",
    "# Input from the user\n",
    "num1 = int(input(\"Enter the first number: \"))\n",
    "num2 = int(input(\"Enter the second number: \"))\n",
    "\n",
    "# Find and print common divisors\n",
    "common_divisors = find_common_divisors(num1, num2)\n",
    "\n",
    "if common_divisors:\n",
    "    print(f\"Common divisors between {num1} and {num2}: {common_divisors}\")\n",
    "else:\n",
    "    print(f\"{num1} and {num2} have no common divisors.\")\n"
   ]
  },
  {
   "cell_type": "markdown",
   "id": "cc10783c",
   "metadata": {},
   "source": [
    "# 34. Write a Python program to find the maximum sum of a contiguous subsequence from a given sequence of numbers a1, a2, a3, …. an. A subsequence of one element is also a continuous subsequence. \n",
    "Input:\n",
    "You can assume that 1 <= n <= 5000 and -100000 <= ai <= 100000.\n",
    "Input numbers are separated by a space.\n",
    "Input 0 to exit.\n",
    "Input number of sequence of numbers you want to input (0 to exit):\n",
    "3\n",
    "Input numbers:\n",
    "2\n",
    "4\n",
    "6\n",
    "Maximum sum of the said contiguous subsequence: 12\n",
    "Input number of sequence of numbers you want to input (0 to exit):\n",
    "0\n"
   ]
  },
  {
   "cell_type": "code",
   "execution_count": 17,
   "id": "7d81184f",
   "metadata": {},
   "outputs": [
    {
     "name": "stdout",
     "output_type": "stream",
     "text": [
      "Input number of sequence of numbers you want to input (0 to exit): 3\n",
      "Input numbers:\n",
      "2\n",
      "4\n",
      "6\n",
      "Maximum sum of the said contiguous subsequence: 12\n",
      "Input number of sequence of numbers you want to input (0 to exit): 0\n"
     ]
    }
   ],
   "source": [
    "def max_contiguous_subsequence_sum(sequence):\n",
    "    max_sum = current_sum = sequence[0]\n",
    "    \n",
    "    for num in sequence[1:]:\n",
    "        current_sum = max(num, current_sum + num)\n",
    "        max_sum = max(max_sum, current_sum)\n",
    "    \n",
    "    return max_sum\n",
    "\n",
    "# Main program\n",
    "while True:\n",
    "    n = int(input(\"Input number of sequence of numbers you want to input (0 to exit): \"))\n",
    "    \n",
    "    if n == 0:\n",
    "        break\n",
    "    \n",
    "    sequence = []\n",
    "    print(\"Input numbers:\")\n",
    "    for _ in range(n):\n",
    "        num = int(input())\n",
    "        sequence.append(num)\n",
    "    \n",
    "    max_sum = max_contiguous_subsequence_sum(sequence)\n",
    "    print(f\"Maximum sum of the said contiguous subsequence: {max_sum}\")\n"
   ]
  },
  {
   "cell_type": "markdown",
   "id": "0bd05e19",
   "metadata": {},
   "source": [
    "# 35. Write a Python program that reads n digits (given) chosen from 0 to 9 and prints the number of combinations where the sum of the digits equals another given number (s). Do not use the same digits in a combination. \n",
    "Input:\n",
    "Two integers as number of combinations and their sum by a single space in a line. Input 0 0 to exit.\n",
    "Input number of combinations and sum, input 0 0 to exit:\n",
    "5 6\n",
    "2 4\n",
    "0 0\n",
    "2\n"
   ]
  },
  {
   "cell_type": "code",
   "execution_count": 18,
   "id": "1fdbe959",
   "metadata": {},
   "outputs": [
    {
     "name": "stdout",
     "output_type": "stream",
     "text": [
      "Input number of combinations and sum, input 0 0 to exit: 5 6\n",
      "0\n",
      "Input number of combinations and sum, input 0 0 to exit: 2 4\n",
      "2\n",
      "Input number of combinations and sum, input 0 0 to exit: 0 0\n"
     ]
    }
   ],
   "source": [
    "def find_combinations(n, s):\n",
    "    def generate_combinations(start, current_sum, combination):\n",
    "        if current_sum == s and len(combination) == n:\n",
    "            combinations.append(combination)\n",
    "            return\n",
    "        if current_sum > s or len(combination) >= n:\n",
    "            return\n",
    "        \n",
    "        for i in range(start, 10):\n",
    "            generate_combinations(i + 1, current_sum + i, combination + [i])\n",
    "    \n",
    "    combinations = []\n",
    "    generate_combinations(0, 0, [])\n",
    "    return combinations\n",
    "\n",
    "# Main program\n",
    "while True:\n",
    "    n, s = map(int, input(\"Input number of combinations and sum, input 0 0 to exit: \").split())\n",
    "    \n",
    "    if n == 0 and s == 0:\n",
    "        break\n",
    "    \n",
    "    combinations = find_combinations(n, s)\n",
    "    print(len(combinations))\n"
   ]
  },
  {
   "cell_type": "markdown",
   "id": "824b11db",
   "metadata": {},
   "source": [
    "# 36. Write a Python program that determines the difference between the largest and smallest integers created by 8 numbers from 0 to 9. The number that can be rearranged shall start with 0 as in 00135668. \n",
    "Input:\n",
    "Input an integer created by 8 numbers from 0 to 9.\n",
    "2345\n",
    "Difference between the largest and the smallest integer from the given integer:\n",
    "3087\n"
   ]
  },
  {
   "cell_type": "code",
   "execution_count": 19,
   "id": "28950c2f",
   "metadata": {},
   "outputs": [
    {
     "name": "stdout",
     "output_type": "stream",
     "text": [
      "Input an integer created by 8 numbers from 0 to 9: 2345\n",
      "Difference between the largest and the smallest integer from the given integer: 3087\n"
     ]
    }
   ],
   "source": [
    "# Input an integer created by 8 numbers from 0 to 9\n",
    "input_integer = input(\"Input an integer created by 8 numbers from 0 to 9: \")\n",
    "\n",
    "# Convert the input integer to a list of digits\n",
    "digits = list(map(int, input_integer))\n",
    "\n",
    "# Sort the list to create the largest and smallest integers\n",
    "smallest = sorted(digits)\n",
    "largest = sorted(digits, reverse=True)\n",
    "\n",
    "# Convert the lists of digits back to integers\n",
    "smallest_integer = int(''.join(map(str, smallest)))\n",
    "largest_integer = int(''.join(map(str, largest)))\n",
    "\n",
    "# Find the difference between the largest and smallest integer\n",
    "difference = largest_integer - smallest_integer\n",
    "\n",
    "# Print the result\n",
    "print(f\"Difference between the largest and the smallest integer from the given integer: {difference}\")\n"
   ]
  },
  {
   "cell_type": "markdown",
   "id": "5e4e15f5",
   "metadata": {},
   "source": [
    "# 37. Write a Python program to compute the sum of the first n prime numbers. \n",
    "Input:\n",
    "n ( n<= 10000). Input 0 to exit the program.\n",
    "Input a number (n<=10000) to compute the sum :(0 to exit)\n",
    "25\n",
    "Sum of first 25 prime numbers:\n",
    "1060\n"
   ]
  },
  {
   "cell_type": "code",
   "execution_count": 20,
   "id": "8573f5d9",
   "metadata": {},
   "outputs": [
    {
     "name": "stdout",
     "output_type": "stream",
     "text": [
      "Input a number (n <= 10000) to compute the sum (0 to exit): 25\n",
      "Sum of first 25 prime numbers: 1060\n",
      "Input a number (n <= 10000) to compute the sum (0 to exit): 0\n"
     ]
    }
   ],
   "source": [
    "def is_prime(num):\n",
    "    if num <= 1:\n",
    "        return False\n",
    "    if num == 2:\n",
    "        return True\n",
    "    if num % 2 == 0:\n",
    "        return False\n",
    "    for i in range(3, int(num**0.5) + 1, 2):\n",
    "        if num % i == 0:\n",
    "            return False\n",
    "    return True\n",
    "\n",
    "def sum_of_first_n_primes(n):\n",
    "    prime_sum = 0\n",
    "    count = 0\n",
    "    num = 2  # Start checking from 2, the first prime number\n",
    "    \n",
    "    while count < n:\n",
    "        if is_prime(num):\n",
    "            prime_sum += num\n",
    "            count += 1\n",
    "        num += 1\n",
    "    \n",
    "    return prime_sum\n",
    "\n",
    "# Main program\n",
    "while True:\n",
    "    n = int(input(\"Input a number (n <= 10000) to compute the sum (0 to exit): \"))\n",
    "    \n",
    "    if n == 0:\n",
    "        break\n",
    "    \n",
    "    prime_sum = sum_of_first_n_primes(n)\n",
    "    print(f\"Sum of first {n} prime numbers: {prime_sum}\")\n"
   ]
  },
  {
   "cell_type": "markdown",
   "id": "0f531cd1",
   "metadata": {},
   "source": [
    "# 39 .From Wikipedia, the free encyclopedia:\n",
    "A happy number is defined by the following process:\n",
    "Starting with any positive integer, replace the number by the sum of the squares of its digits, and repeat the process until the number equals 1 (where it will stay), or it loops endlessly in a cycle which does not include 1. Those numbers for which this process ends in 1 are happy numbers, while those that do not end in 1 are unhappy numbers.\n",
    "Write a Python program to check whether a number is \"happy\" or not. \n",
    "Sample Input:\n",
    "(7)\n",
    "(932)\n",
    "(6)\n",
    "Sample Output:\n",
    "True\n",
    "True\n",
    "False\n"
   ]
  },
  {
   "cell_type": "code",
   "execution_count": 3,
   "id": "71929c3c",
   "metadata": {},
   "outputs": [
    {
     "name": "stdout",
     "output_type": "stream",
     "text": [
      "True\n",
      "True\n",
      "False\n"
     ]
    }
   ],
   "source": [
    "def is_happy_number(n):\n",
    "    seen = set()  # To keep track of seen numbers\n",
    "    while n != 1 and n not in seen:\n",
    "        seen.add(n)\n",
    "        n = sum(int(digit) ** 2 for digit in str(n))\n",
    "    return n == 1\n",
    "\n",
    "# Test cases\n",
    "print(is_happy_number(7))   # True\n",
    "print(is_happy_number(932)) # True\n",
    "print(is_happy_number(6))   # False\n"
   ]
  },
  {
   "cell_type": "markdown",
   "id": "a5ac3452",
   "metadata": {},
   "source": [
    "# 40. from Wikipedia,\n",
    "A happy number is defined by the following process:\n",
    "Starting with any positive integer, replace the number by the sum of the squares of its digits, and repeat the process until the number equals 1 (where it will stay), or it loops endlessly in a cycle which does not include 1. Those numbers for which this process ends in 1 are happy numbers, while those that do not end in 1 are unhappy numbers.\n",
    "      Write a Python program to find and print the first 10 happy numbers. \n",
    "Sample Input:\n",
    "[:10]\n",
    "Sample Output:\n",
    "[1, 7, 10, 13, 19, 23, 28, 31, 32, 44]\n"
   ]
  },
  {
   "cell_type": "code",
   "execution_count": 4,
   "id": "29b63dcc",
   "metadata": {},
   "outputs": [
    {
     "name": "stdout",
     "output_type": "stream",
     "text": [
      "[1, 7, 10, 13, 19, 23, 28, 31, 32, 44]\n"
     ]
    }
   ],
   "source": [
    "def is_happy_number(n):\n",
    "    seen = set()  # To keep track of seen numbers\n",
    "    while n != 1 and n not in seen:\n",
    "        seen.add(n)\n",
    "        n = sum(int(digit) ** 2 for digit in str(n))\n",
    "    return n == 1\n",
    "\n",
    "def find_first_n_happy_numbers(n):\n",
    "    happy_numbers = []\n",
    "    num = 1\n",
    "    while len(happy_numbers) < n:\n",
    "        if is_happy_number(num):\n",
    "            happy_numbers.append(num)\n",
    "        num += 1\n",
    "    return happy_numbers\n",
    "\n",
    "# Find and print the first 10 happy numbers\n",
    "first_10_happy_numbers = find_first_n_happy_numbers(10)\n",
    "print(first_10_happy_numbers)\n"
   ]
  },
  {
   "cell_type": "markdown",
   "id": "d0283d46",
   "metadata": {},
   "source": [
    "# 41. Write a Python program that counts the number of prime numbers that are less than a given non-negative number. \n",
    "Sample Input:\n",
    "(10)\n",
    "(100)\n",
    "Sample Output:\n",
    "4\n",
    "25\n"
   ]
  },
  {
   "cell_type": "code",
   "execution_count": 5,
   "id": "433a340a",
   "metadata": {},
   "outputs": [
    {
     "name": "stdout",
     "output_type": "stream",
     "text": [
      "4\n",
      "25\n"
     ]
    }
   ],
   "source": [
    "def is_prime(num):\n",
    "    if num <= 1:\n",
    "        return False\n",
    "    if num <= 3:\n",
    "        return True\n",
    "    if num % 2 == 0 or num % 3 == 0:\n",
    "        return False\n",
    "    i = 5\n",
    "    while i * i <= num:\n",
    "        if num % i == 0 or num % (i + 2) == 0:\n",
    "            return False\n",
    "        i += 6\n",
    "    return True\n",
    "\n",
    "def count_primes_less_than_n(n):\n",
    "    count = 0\n",
    "    for i in range(2, n):\n",
    "        if is_prime(i):\n",
    "            count += 1\n",
    "    return count\n",
    "\n",
    "# Sample Input\n",
    "n1 = 10\n",
    "n2 = 100\n",
    "\n",
    "# Count and print the number of prime numbers less than the given numbers\n",
    "count1 = count_primes_less_than_n(n1)\n",
    "count2 = count_primes_less_than_n(n2)\n",
    "print(count1)\n",
    "print(count2)\n"
   ]
  },
  {
   "cell_type": "markdown",
   "id": "5348d0f8",
   "metadata": {},
   "source": [
    "# 42. The price of a given stock on each day is stored in an array.\n",
    "Write a Python program to find the maximum profit in one transaction i.e., buy one and sell one share of the stock from the given price value of the said array. You cannot sell a stock before you buy one. \n",
    "Input (Stock price of each day): [224, 236, 247, 258, 259, 225]\n",
    "Output: 35\n",
    "Explanation:\n",
    "236 - 224 = 12\n",
    "247 - 224 = 23\n",
    "258 - 224 = 34\n",
    "259 - 224 = 35\n",
    "225 - 224 = 1\n",
    "247 - 236 = 11\n",
    "258 - 236 = 22\n",
    "259 - 236 = 23\n",
    "225 - 236 = -11\n",
    "258 - 247 = 11\n",
    "259 - 247 = 12\n",
    "225 - 247 = -22\n",
    "259 - 258 = 1\n",
    "225 - 258 = -33\n",
    "225 - 259 = -34\n",
    "\n"
   ]
  },
  {
   "cell_type": "code",
   "execution_count": 6,
   "id": "4625a083",
   "metadata": {},
   "outputs": [
    {
     "name": "stdout",
     "output_type": "stream",
     "text": [
      "35\n"
     ]
    }
   ],
   "source": [
    "def max_profit(prices):\n",
    "    if not prices:\n",
    "        return 0\n",
    "\n",
    "    min_price = prices[0]\n",
    "    max_profit = 0\n",
    "\n",
    "    for price in prices:\n",
    "        if price < min_price:\n",
    "            min_price = price\n",
    "        else:\n",
    "            max_profit = max(max_profit, price - min_price)\n",
    "\n",
    "    return max_profit\n",
    "\n",
    "# Input: Stock price of each day\n",
    "prices = [224, 236, 247, 258, 259, 225]\n",
    "\n",
    "# Calculate and print the maximum profit\n",
    "result = max_profit(prices)\n",
    "print(result)\n"
   ]
  },
  {
   "cell_type": "markdown",
   "id": "5c428e41",
   "metadata": {},
   "source": [
    "# 43. Write a Python program to print a given N by M matrix of numbers line by line in forward > backwards > forward >... order. \n",
    "Input matrix:\n",
    "[[1, 2, 3, 4],\n",
    "[5, 6, 7, 8],\n",
    "[0, 6, 2, 8],\n",
    "[2, 3, 0, 2]]\n",
    "Output:\n",
    "1\n",
    "2\n",
    "3\n",
    "4\n",
    "8\n",
    "7\n",
    "6\n",
    "5\n",
    "0\n",
    "6\n",
    "2\n",
    "8\n",
    "2\n",
    "0\n",
    "3\n",
    "2\n"
   ]
  },
  {
   "cell_type": "code",
   "execution_count": 7,
   "id": "d4d72694",
   "metadata": {},
   "outputs": [
    {
     "name": "stdout",
     "output_type": "stream",
     "text": [
      "1\n",
      "2\n",
      "3\n",
      "4\n",
      "8\n",
      "7\n",
      "6\n",
      "5\n",
      "0\n",
      "6\n",
      "2\n",
      "8\n",
      "2\n",
      "0\n",
      "3\n",
      "2\n"
     ]
    }
   ],
   "source": [
    "def print_matrix_forward_backward(matrix):\n",
    "    rows, cols = len(matrix), len(matrix[0])\n",
    "\n",
    "    for i in range(rows):\n",
    "        if i % 2 == 0:\n",
    "            # Print the row forward\n",
    "            for j in range(cols):\n",
    "                print(matrix[i][j])\n",
    "        else:\n",
    "            # Print the row backward\n",
    "            for j in range(cols - 1, -1, -1):\n",
    "                print(matrix[i][j])\n",
    "\n",
    "# Input matrix\n",
    "matrix = [\n",
    "    [1, 2, 3, 4],\n",
    "    [5, 6, 7, 8],\n",
    "    [0, 6, 2, 8],\n",
    "    [2, 3, 0, 2]\n",
    "]\n",
    "\n",
    "# Print the matrix in forward-backward order\n",
    "print_matrix_forward_backward(matrix)\n"
   ]
  }
 ],
 "metadata": {
  "kernelspec": {
   "display_name": "Python 3 (ipykernel)",
   "language": "python",
   "name": "python3"
  },
  "language_info": {
   "codemirror_mode": {
    "name": "ipython",
    "version": 3
   },
   "file_extension": ".py",
   "mimetype": "text/x-python",
   "name": "python",
   "nbconvert_exporter": "python",
   "pygments_lexer": "ipython3",
   "version": "3.11.4"
  }
 },
 "nbformat": 4,
 "nbformat_minor": 5
}
