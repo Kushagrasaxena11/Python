{
 "cells": [
  {
   "cell_type": "markdown",
   "id": "41c3c36f",
   "metadata": {},
   "source": [
    "# 1. Write a python program to merge two strings of same length and form a new string.\n",
    "For e.g.\n",
    "Input: string1 = “BEING” string2 = “HUMAN”\n",
    "Output: new_string = “BUIAG”\n",
    "Explanation: Form new_string by considering 0th index of first string and 1st index of second string and then again 2nd index of first string and 3rd index of second string and so on…..\n"
   ]
  },
  {
   "cell_type": "code",
   "execution_count": 1,
   "id": "a54e910b",
   "metadata": {},
   "outputs": [
    {
     "name": "stdout",
     "output_type": "stream",
     "text": [
      "Merged String: BHEUIMNAGN\n"
     ]
    }
   ],
   "source": [
    "def merge_strings(string1, string2):\n",
    "    if len(string1) != len(string2):\n",
    "        return \"Input strings must have the same length\"\n",
    "    \n",
    "    new_string = \"\"\n",
    "    for i in range(len(string1)):\n",
    "        new_string += string1[i] + string2[i]\n",
    "\n",
    "    return new_string\n",
    "\n",
    "# Input strings\n",
    "string1 = \"BEING\"\n",
    "string2 = \"HUMAN\"\n",
    "\n",
    "# Merge the strings\n",
    "new_string = merge_strings(string1, string2)\n",
    "\n",
    "# Print the result\n",
    "print(\"Merged String:\", new_string)\n"
   ]
  },
  {
   "cell_type": "markdown",
   "id": "3b8db7fd",
   "metadata": {},
   "source": [
    "# 2. Write a python program to check pangram (A pangram is a sentence containing every letter in the English Alphabet) \n",
    "For e.g.\n",
    "Input: “The quick brown fox jumps over the lazy dog” \n",
    "Output: is a Pangram \n",
    "Explanation: Contains all the characters from ‘a’ to ‘z’\n",
    "Write a python program to find the word which consists of no vowels.\n",
    "For e.g.\n",
    "Input:  “Let’s try to fry chips for snacks”\n",
    "Output: [“try”, “fry”]\n",
    "Write a python program to swap characters of a string.\n",
    "For e.g.\n",
    "Input: INSIDEAIML\n",
    "Output: LMIAEDISNI\n",
    "\n",
    "Input: APPLE\n",
    "Output: ELPPA\n",
    "\n"
   ]
  },
  {
   "cell_type": "code",
   "execution_count": 40,
   "id": "119c9d29",
   "metadata": {},
   "outputs": [
    {
     "name": "stdout",
     "output_type": "stream",
     "text": [
      "is a Pangram\n"
     ]
    }
   ],
   "source": [
    "#Check if a Sentence is a Pangram:\n",
    "\n",
    "def is_pangram(sentence):\n",
    "    alphabet = set('abcdefghijklmnopqrstuvwxyz')\n",
    "    sentence = sentence.lower()\n",
    "    return set(sentence) >= alphabet\n",
    "\n",
    "input_sentence = \"The quick brown fox jumps over the lazy dog\"\n",
    "if is_pangram(input_sentence):\n",
    "    print(\"is a Pangram\")\n",
    "else:\n",
    "    print(\"is not a Pangram\")\n"
   ]
  },
  {
   "cell_type": "code",
   "execution_count": 42,
   "id": "9d6d6f7e",
   "metadata": {},
   "outputs": [
    {
     "name": "stdout",
     "output_type": "stream",
     "text": [
      "['try', 'fry']\n"
     ]
    }
   ],
   "source": [
    "#Find Words with No Vowels:\n",
    "\n",
    "import re\n",
    "\n",
    "def find_words_without_vowels(sentence):\n",
    "    words = sentence.split()\n",
    "    result = [word for word in words if not re.search('[aeiouAEIOU]', word)]\n",
    "    return result\n",
    "\n",
    "input_sentence = \"Let’s try to fry chips for snacks\"\n",
    "no_vowel_words = find_words_without_vowels(input_sentence)\n",
    "print(no_vowel_words)\n"
   ]
  },
  {
   "cell_type": "code",
   "execution_count": 44,
   "id": "c5a479a4",
   "metadata": {},
   "outputs": [
    {
     "name": "stdout",
     "output_type": "stream",
     "text": [
      "LMIAEDISNI\n"
     ]
    }
   ],
   "source": [
    "#Swap Characters in a String:\n",
    "\n",
    "def swap_characters(input_string):\n",
    "    swapped_string = ''.join(reversed(input_string))\n",
    "    return swapped_string\n",
    "\n",
    "input_string = \"INSIDEAIML\"\n",
    "swapped_string = swap_characters(input_string)\n",
    "print(swapped_string)\n"
   ]
  },
  {
   "cell_type": "markdown",
   "id": "28868883",
   "metadata": {},
   "source": [
    "# 3. Write a Python program that creates all possible strings using the letters 'a', 'e', 'i', 'o', and 'I'. Ensure that each character is used only once.\n",
    "\n"
   ]
  },
  {
   "cell_type": "code",
   "execution_count": 3,
   "id": "cdea28ee",
   "metadata": {},
   "outputs": [
    {
     "name": "stdout",
     "output_type": "stream",
     "text": [
      "Iioae\n",
      "Ioiae\n",
      "oeiaI\n",
      "oaeIi\n",
      "oiaIe\n",
      "Ieiao\n",
      "Iaoei\n",
      "aioIe\n",
      "ieaIo\n",
      "iaIeo\n",
      "ieaoI\n",
      "aieoI\n",
      "aIoie\n",
      "ieIao\n",
      "oiIae\n",
      "aIoei\n",
      "iIeao\n",
      "oeaIi\n",
      "oaeiI\n",
      "Iieoa\n",
      "aoiIe\n",
      "Iioea\n",
      "eaoIi\n",
      "aiIoe\n",
      "oiaeI\n",
      "aeIio\n",
      "Ioiea\n",
      "eiIoa\n",
      "aeiIo\n",
      "oeIia\n",
      "Ioaie\n",
      "eaiIo\n",
      "Iaoie\n",
      "eoIia\n",
      "ioIae\n",
      "eIaio\n",
      "oIaei\n",
      "aoeIi\n",
      "oieaI\n",
      "oIeai\n",
      "aioeI\n",
      "aieIo\n",
      "Iieao\n",
      "oaieI\n",
      "Iaieo\n",
      "iaeIo\n",
      "ieIoa\n",
      "aoieI\n",
      "eaioI\n",
      "eiIao\n",
      "Ioaei\n",
      "aoIei\n",
      "eIoia\n",
      "aIeio\n",
      "ieoaI\n",
      "Ioeia\n",
      "iaoeI\n",
      "eoaIi\n",
      "eaIoi\n",
      "ioaeI\n",
      "ioeIa\n",
      "eiaoI\n",
      "Ieoia\n",
      "Iaioe\n",
      "aIeoi\n",
      "oIiae\n",
      "ioeaI\n",
      "Ieoai\n",
      "eIioa\n",
      "aeIoi\n",
      "oaIie\n",
      "oieIa\n",
      "iaIoe\n",
      "eIiao\n",
      "eiaIo\n",
      "Iaeio\n",
      "iIoea\n",
      "iaoIe\n",
      "eaoiI\n",
      "oIiea\n",
      "aoIie\n",
      "aoeiI\n",
      "Iiaeo\n",
      "ioIea\n",
      "eoaiI\n",
      "Iiaoe\n",
      "oeaiI\n",
      "oIeia\n",
      "Ieioa\n",
      "iaeoI\n",
      "iIaoe\n",
      "oeiIa\n",
      "aeioI\n",
      "eioIa\n",
      "iIoae\n",
      "aIieo\n",
      "iIeoa\n",
      "iIaeo\n",
      "oIaie\n",
      "eoiaI\n",
      "oeIai\n",
      "Ioeai\n",
      "aeoIi\n",
      "eaIio\n",
      "aIioe\n",
      "eIoai\n",
      "ieoIa\n",
      "oaiIe\n",
      "Iaeoi\n",
      "oaIei\n",
      "aeoiI\n",
      "eioaI\n",
      "Ieaio\n",
      "aiIeo\n",
      "oiIea\n",
      "eIaoi\n",
      "eoIai\n",
      "ioaIe\n",
      "Ieaoi\n",
      "eoiIa\n"
     ]
    }
   ],
   "source": [
    "from itertools import permutations\n",
    "\n",
    "# Define the characters\n",
    "characters = 'aeioI'\n",
    "\n",
    "# Generate all possible permutations of the characters\n",
    "perms = permutations(characters)\n",
    "\n",
    "# Initialize a set to store unique strings\n",
    "unique_strings = set()\n",
    "\n",
    "# Iterate through the permutations and join them to form strings\n",
    "for perm in perms:\n",
    "    unique_strings.add(''.join(perm))\n",
    "\n",
    "# Convert the set to a list (if needed)\n",
    "all_possible_strings = list(unique_strings)\n",
    "\n",
    "# Print the result\n",
    "for string in all_possible_strings:\n",
    "    print(string)\n"
   ]
  },
  {
   "cell_type": "markdown",
   "id": "aa5d9787",
   "metadata": {},
   "source": [
    "# 4. Write a Python program that prints long text, converts it to a list, and prints all the words and the frequency of each word.\n"
   ]
  },
  {
   "cell_type": "code",
   "execution_count": 4,
   "id": "48623126",
   "metadata": {},
   "outputs": [
    {
     "name": "stdout",
     "output_type": "stream",
     "text": [
      "this: 4\n",
      "is: 1\n",
      "a: 2\n",
      "long: 1\n",
      "text: 3\n",
      "it: 1\n",
      "contains: 1\n",
      "multiple: 1\n",
      "sentences: 1\n",
      "and: 2\n",
      "words: 2\n",
      "you: 1\n",
      "can: 1\n",
      "use: 1\n",
      "as: 1\n",
      "an: 1\n",
      "example: 1\n",
      "for: 1\n",
      "your: 1\n",
      "python: 1\n",
      "program: 2\n",
      "in: 1\n",
      "we: 1\n",
      "will: 1\n",
      "convert: 1\n",
      "into: 1\n",
      "list: 1\n",
      "of: 2\n",
      "calculate: 1\n",
      "the: 1\n",
      "frequency: 1\n",
      "each: 1\n",
      "word: 1\n"
     ]
    }
   ],
   "source": [
    "# Step 1: Read the long text\n",
    "long_text = \"\"\"\n",
    "This is a long text. It contains multiple sentences and words. \n",
    "You can use this text as an example for your Python program. \n",
    "In this program, we will convert this text into a list of words \n",
    "and calculate the frequency of each word.\n",
    "\"\"\"\n",
    "\n",
    "# Step 2: Tokenize the text into words\n",
    "words = long_text.split()\n",
    "\n",
    "# Step 3: Create a dictionary to store word frequencies\n",
    "word_freq = {}\n",
    "\n",
    "# Step 4: Calculate word frequencies\n",
    "for word in words:\n",
    "    # Remove punctuation and convert to lowercase\n",
    "    word = word.strip('.,!?()[]{}\":;')\n",
    "    word = word.lower()\n",
    "    \n",
    "    # If the word is already in the dictionary, increment its count\n",
    "    if word in word_freq:\n",
    "        word_freq[word] += 1\n",
    "    else:\n",
    "        # If the word is not in the dictionary, add it with a count of 1\n",
    "        word_freq[word] = 1\n",
    "\n",
    "# Step 5: Print the word frequencies\n",
    "for word, freq in word_freq.items():\n",
    "    print(f\"{word}: {freq}\")\n"
   ]
  },
  {
   "cell_type": "markdown",
   "id": "6f9b494b",
   "metadata": {},
   "source": [
    "# 5. Write a Python program to count the number of each character in a string.\n",
    "Input: “insideaiml”\n",
    "Output: [(“i”, 3), (“n”,1), (“s”,1), (“d”,1), (“e”,1), (“a”,1), (“m”,1), (“l”,1)]\n",
    "\n"
   ]
  },
  {
   "cell_type": "code",
   "execution_count": 5,
   "id": "dbd335bc",
   "metadata": {},
   "outputs": [
    {
     "name": "stdout",
     "output_type": "stream",
     "text": [
      "[('i', 3), ('n', 1), ('s', 1), ('d', 1), ('e', 1), ('a', 1), ('m', 1), ('l', 1)]\n"
     ]
    }
   ],
   "source": [
    "# Step 1: Input string\n",
    "input_string = \"insideaiml\"\n",
    "\n",
    "# Step 2: Create an empty dictionary to store character frequencies\n",
    "char_count = {}\n",
    "\n",
    "# Step 3: Calculate character frequencies\n",
    "for char in input_string:\n",
    "    if char in char_count:\n",
    "        char_count[char] += 1\n",
    "    else:\n",
    "        char_count[char] = 1\n",
    "\n",
    "# Step 4: Convert the dictionary to a list of tuples\n",
    "char_frequency_list = [(char, count) for char, count in char_count.items()]\n",
    "\n",
    "# Step 5: Print the character frequencies\n",
    "print(char_frequency_list)\n"
   ]
  },
  {
   "cell_type": "markdown",
   "id": "4ac651cd",
   "metadata": {},
   "source": [
    "# 6. Write a Python program to add two positive integers without using the '+' operator."
   ]
  },
  {
   "cell_type": "code",
   "execution_count": 6,
   "id": "c5243178",
   "metadata": {},
   "outputs": [
    {
     "name": "stdout",
     "output_type": "stream",
     "text": [
      "Enter the first positive integer: 2\n",
      "Enter the second positive integer: 5\n",
      "The sum is: 7\n"
     ]
    }
   ],
   "source": [
    "def add_without_plus_operator(a, b):\n",
    "    # Iterate until there is no carry\n",
    "    while b != 0:\n",
    "        # Carry now contains common set bits of a and b\n",
    "        carry = a & b\n",
    "\n",
    "        # Sum of bits of a and b where at least one of the bits is not set\n",
    "        a = a ^ b\n",
    "\n",
    "        # Carry is shifted by one so that adding it to a gives the required sum\n",
    "        b = carry << 1\n",
    "\n",
    "    return a\n",
    "\n",
    "# Input two positive integers\n",
    "num1 = int(input(\"Enter the first positive integer: \"))\n",
    "num2 = int(input(\"Enter the second positive integer: \"))\n",
    "\n",
    "# Call the function to add the numbers\n",
    "result = add_without_plus_operator(num1, num2)\n",
    "\n",
    "# Print the result\n",
    "print(\"The sum is:\", result)\n"
   ]
  },
  {
   "cell_type": "markdown",
   "id": "30c1ee4a",
   "metadata": {},
   "source": [
    "# 7. Write a python program to find the least frequency and maximum frequency character in a string. Then concatenate them.\n",
    "\n",
    "For e.g.\n",
    "Input: “Python Programming Foundation”\n",
    "Output: least frequency character is ['d', 'f', 'h', 'u', 'y']\n",
    "\tMaximum Frequency character is ['n', 'o']\n",
    "\tConcatenate_word = “dfhuyno”\n"
   ]
  },
  {
   "cell_type": "code",
   "execution_count": 9,
   "id": "82046680",
   "metadata": {},
   "outputs": [
    {
     "name": "stdout",
     "output_type": "stream",
     "text": [
      "Least frequency character is: ['d', 'f', 'h', 'u', 'y']\n",
      "Maximum frequency character is: ['n', 'o']\n",
      "Concatenate_word = dfhuyno\n"
     ]
    }
   ],
   "source": [
    "def find_frequency_characters(input_string):\n",
    "    # Create a dictionary to store character frequencies\n",
    "    char_freq = {}\n",
    "    \n",
    "    # Count the frequency of each character in a case-insensitive way\n",
    "    for char in input_string:\n",
    "        if char.isalpha():  # Ignore non-alphabet characters\n",
    "            char = char.lower()  # Convert to lowercase for case-insensitive comparison\n",
    "            char_freq[char] = char_freq.get(char, 0) + 1\n",
    "    \n",
    "    if not char_freq:\n",
    "        return None, None\n",
    "    \n",
    "    # Find the least and maximum frequency characters\n",
    "    min_freq = min(char_freq.values())\n",
    "    max_freq = max(char_freq.values())\n",
    "    \n",
    "    # Filter characters with minimum and maximum frequencies\n",
    "    least_freq_chars = [char for char, freq in char_freq.items() if freq == min_freq]\n",
    "    max_freq_chars = [char for char, freq in char_freq.items() if freq == max_freq]\n",
    "    \n",
    "    return least_freq_chars, max_freq_chars\n",
    "\n",
    "def concatenate_characters(least_freq_chars, max_freq_chars):\n",
    "    # Sort the characters\n",
    "    least_freq_chars.sort()\n",
    "    max_freq_chars.sort()\n",
    "    \n",
    "    # Join the characters into strings\n",
    "    least_freq_str = ''.join(least_freq_chars)\n",
    "    max_freq_str = ''.join(max_freq_chars)\n",
    "    \n",
    "    return least_freq_str + max_freq_str\n",
    "\n",
    "# Input string\n",
    "input_string = \"Python Programming Foundation\"\n",
    "\n",
    "# Find least and maximum frequency characters\n",
    "least_freq_chars, max_freq_chars = find_frequency_characters(input_string)\n",
    "\n",
    "if least_freq_chars is None and max_freq_chars is None:\n",
    "    print(\"No alphabet characters found in the input string.\")\n",
    "else:\n",
    "    # Concatenate the characters\n",
    "    result = concatenate_characters(least_freq_chars, max_freq_chars)\n",
    "    print(\"Least frequency character is:\", least_freq_chars)\n",
    "    print(\"Maximum frequency character is:\", max_freq_chars)\n",
    "    print(\"Concatenate_word =\", result)\n"
   ]
  },
  {
   "cell_type": "markdown",
   "id": "76057dbb",
   "metadata": {},
   "source": [
    "# 10.Write a python program to find the term frequency in percentage.\n",
    "\n",
    "For e.g.\n",
    "Explanation: (Occurrence of X word / Total words) * 100\n",
    "Input: test_list = [“InsideAIML is best for geeks”, “All love InsideAIML”]\n",
    "Output: {'InsideAIML': 25.0, 'is': 12.5, 'best': 12.5, 'for': 12.5, 'geeks': 12.5, 'All': 12.5, 'love': 12.5}\n"
   ]
  },
  {
   "cell_type": "code",
   "execution_count": 11,
   "id": "d062dd73",
   "metadata": {},
   "outputs": [
    {
     "name": "stdout",
     "output_type": "stream",
     "text": [
      "{'InsideAIML': 25.0, 'is': 12.5, 'best': 12.5, 'for': 12.5, 'geeks': 12.5, 'All': 12.5, 'love': 12.5}\n"
     ]
    }
   ],
   "source": [
    "def calculate_term_frequency(sentences):\n",
    "    word_count = {}\n",
    "    total_words = 0\n",
    "\n",
    "    # Count the occurrences of each word and calculate the total number of words\n",
    "    for sentence in sentences:\n",
    "        words = sentence.split()\n",
    "        total_words += len(words)\n",
    "        for word in words:\n",
    "            word_count[word] = word_count.get(word, 0) + 1\n",
    "\n",
    "    # Calculate the term frequency in percentage\n",
    "    term_frequency_percentage = {word: (count / total_words) * 100 for word, count in word_count.items()}\n",
    "\n",
    "    return term_frequency_percentage\n",
    "\n",
    "# Test the function\n",
    "sentences = [\"InsideAIML is best for geeks\", \"All love InsideAIML\"]\n",
    "result = calculate_term_frequency(sentences)\n",
    "print(result)\n"
   ]
  },
  {
   "cell_type": "markdown",
   "id": "8abf1991",
   "metadata": {},
   "source": [
    "# 11. Write a python program to find the anagram and print them in alphabetic order.\n",
    "\n",
    "For e.g.\n",
    "Input: list = [“cat”, “dog”, “tac”, “god”, “act”,”camel”,”male”]\n",
    "Output: ['act', 'cat', 'tac', 'camel', 'dog', 'god', 'male']\n"
   ]
  },
  {
   "cell_type": "code",
   "execution_count": 13,
   "id": "31a84ffb",
   "metadata": {},
   "outputs": [
    {
     "name": "stdout",
     "output_type": "stream",
     "text": [
      "['act', 'cat', 'tac', 'camel', 'dog', 'god', 'male']\n"
     ]
    }
   ],
   "source": [
    "def find_anagrams(input_list):\n",
    "    anagram_dict = {}\n",
    "\n",
    "    for word in input_list:\n",
    "        # Sort the characters in the word to create a unique key\n",
    "        sorted_word = ''.join(sorted(word))\n",
    "\n",
    "        # Add the word to the list of anagrams associated with the sorted key\n",
    "        if sorted_word in anagram_dict:\n",
    "            anagram_dict[sorted_word].append(word)\n",
    "        else:\n",
    "            anagram_dict[sorted_word] = [word]\n",
    "\n",
    "    # Extract the anagram groups and sort them\n",
    "    anagram_groups = [sorted(group) for group in anagram_dict.values()]\n",
    "\n",
    "    # Sort the groups by their first word and flatten the list\n",
    "    sorted_anagrams = sorted(anagram_groups, key=lambda x: x[0])\n",
    "\n",
    "    return sorted_anagrams\n",
    "\n",
    "# Test the function\n",
    "input_list = [\"cat\", \"dog\", \"tac\", \"god\", \"act\", \"camel\", \"male\"]\n",
    "result = find_anagrams(input_list)\n",
    "\n",
    "# Flatten the list of anagrams\n",
    "flattened_result = [word for group in result for word in group]\n",
    "\n",
    "print(flattened_result)\n"
   ]
  },
  {
   "cell_type": "markdown",
   "id": "e1fe7311",
   "metadata": {},
   "source": [
    "# 12. Write a python program to create a password using existing username along with hyphen. \n",
    "\n",
    "For e.g.\n",
    "Input: Inside081AI846ML & N = 3\n",
    "Output: I-nsi-de0-81A-I84-6ML\n",
    "If N = 5 🡪 Output: I-nside-081AI-846ML\n",
    "If N = 4 🡪 Output: Insi-de08-1AI8-46ML\n",
    "\n"
   ]
  },
  {
   "cell_type": "code",
   "execution_count": 15,
   "id": "be8155aa",
   "metadata": {},
   "outputs": [
    {
     "name": "stdout",
     "output_type": "stream",
     "text": [
      "Insi-de08-1AI8-46ML\n"
     ]
    }
   ],
   "source": [
    "def generate_password(username, N):\n",
    "    password = \"\"\n",
    "    username_len = len(username)\n",
    "    \n",
    "    # Calculate the chunk size for splitting the username\n",
    "    chunk_size = username_len // N\n",
    "    remainder = username_len % N\n",
    "    \n",
    "    start = 0\n",
    "    \n",
    "    for i in range(N):\n",
    "        # Calculate the end index for this chunk\n",
    "        end = start + chunk_size\n",
    "        \n",
    "        # If there's a remainder, distribute it evenly across chunks\n",
    "        if remainder > 0:\n",
    "            end += 1\n",
    "            remainder -= 1\n",
    "        \n",
    "        # Add the chunk to the password\n",
    "        password += username[start:end]\n",
    "        \n",
    "        # Add a hyphen if not the last chunk\n",
    "        if i < N - 1:\n",
    "            password += \"-\"\n",
    "        \n",
    "        # Update the start index for the next chunk\n",
    "        start = end\n",
    "    \n",
    "    return password\n",
    "\n",
    "# Test the function\n",
    "username = \"Inside081AI846ML\"\n",
    "N = 4\n",
    "password = generate_password(username, N)\n",
    "print(password)\n"
   ]
  },
  {
   "cell_type": "markdown",
   "id": "769a2cf0",
   "metadata": {},
   "source": [
    "# 13. Write a Python program to check the priority of the four operators (+, -, *, /).\n"
   ]
  },
  {
   "cell_type": "code",
   "execution_count": 18,
   "id": "e8f23b75",
   "metadata": {},
   "outputs": [
    {
     "name": "stdout",
     "output_type": "stream",
     "text": [
      "Operators in expression 'a + b * c': ['*']\n",
      "Operators in expression 'a * b + c': ['*', '+']\n",
      "Operators in expression 'a / b + c - d': ['/', '-']\n",
      "Operators in expression 'a + b / c * d': ['*']\n"
     ]
    }
   ],
   "source": [
    "# Define expressions using the operators\n",
    "expressions = [\n",
    "    \"a + b * c\",\n",
    "    \"a * b + c\",\n",
    "    \"a / b + c - d\",\n",
    "    \"a + b / c * d\",\n",
    "]\n",
    "\n",
    "# Create a dictionary to map operators to their priorities\n",
    "operator_priority = {\n",
    "    '+': 2,\n",
    "    '-': 2,\n",
    "    '*': 1,\n",
    "    '/': 1,\n",
    "}\n",
    "\n",
    "def get_operator_priority(operator):\n",
    "    return operator_priority.get(operator, 0)\n",
    "\n",
    "# Function to check the priority of operators in an expression\n",
    "def check_operator_priority(expression):\n",
    "    operators = set(\"+-*/\")\n",
    "    stack = []\n",
    "\n",
    "    for char in expression:\n",
    "        if char in operators:\n",
    "            while stack and get_operator_priority(stack[-1]) >= get_operator_priority(char):\n",
    "                stack.pop()\n",
    "            stack.append(char)\n",
    "\n",
    "    return stack\n",
    "\n",
    "# Check operator priorities for each expression\n",
    "for expr in expressions:\n",
    "    operators = check_operator_priority(expr)\n",
    "    print(f\"Operators in expression '{expr}': {operators}\")\n"
   ]
  },
  {
   "cell_type": "markdown",
   "id": "bb57ef7e",
   "metadata": {},
   "source": [
    "# 14. Write a Python program to get the third side of a right-angled triangle from two given sides.\n"
   ]
  },
  {
   "cell_type": "code",
   "execution_count": 19,
   "id": "0d28e921",
   "metadata": {},
   "outputs": [
    {
     "name": "stdout",
     "output_type": "stream",
     "text": [
      "Enter the length of the first leg (a): 4\n",
      "Enter the length of the second leg (b): 5\n",
      "The length of the hypotenuse (c) is: 6.4031242374328485\n"
     ]
    }
   ],
   "source": [
    "import math\n",
    "\n",
    "# Input the lengths of the two legs\n",
    "a = float(input(\"Enter the length of the first leg (a): \"))\n",
    "b = float(input(\"Enter the length of the second leg (b): \"))\n",
    "\n",
    "# Calculate the length of the hypotenuse (c) using the Pythagorean theorem\n",
    "c = math.sqrt(a**2 + b**2)\n",
    "\n",
    "# Print the result\n",
    "print(f\"The length of the hypotenuse (c) is: {c}\")\n"
   ]
  },
  {
   "cell_type": "markdown",
   "id": "cdd0c3a4",
   "metadata": {},
   "source": [
    "# 15. Write a Python program to get all strobogrammatic numbers that are of length n.\n"
   ]
  },
  {
   "cell_type": "code",
   "execution_count": 20,
   "id": "d6bcfcbe",
   "metadata": {},
   "outputs": [
    {
     "name": "stdout",
     "output_type": "stream",
     "text": [
      "Enter the length 'n' for strobogrammatic numbers: 4\n",
      "Strobogrammatic numbers of length 4 are:\n",
      "1001\n",
      "6009\n",
      "8008\n",
      "9006\n",
      "1111\n",
      "6119\n",
      "8118\n",
      "9116\n",
      "1691\n",
      "6699\n",
      "8698\n",
      "9696\n",
      "1881\n",
      "6889\n",
      "8888\n",
      "9886\n",
      "1961\n",
      "6969\n",
      "8968\n",
      "9966\n"
     ]
    }
   ],
   "source": [
    "def findStrobogrammatic(n):\n",
    "    def helper(n, m):\n",
    "        if n == 0:\n",
    "            return [\"\"]\n",
    "        if n == 1:\n",
    "            return [\"0\", \"1\", \"8\"]\n",
    "        middles = helper(n - 2, m)\n",
    "        result = []\n",
    "        for middle in middles:\n",
    "            if n != m:\n",
    "                result.append(\"0\" + middle + \"0\")\n",
    "            result.append(\"1\" + middle + \"1\")\n",
    "            result.append(\"6\" + middle + \"9\")\n",
    "            result.append(\"8\" + middle + \"8\")\n",
    "            result.append(\"9\" + middle + \"6\")\n",
    "        return result\n",
    "\n",
    "    return helper(n, n)\n",
    "\n",
    "# Input the length 'n' for strobogrammatic numbers\n",
    "n = int(input(\"Enter the length 'n' for strobogrammatic numbers: \"))\n",
    "\n",
    "# Generate and print all strobogrammatic numbers of length 'n'\n",
    "result = findStrobogrammatic(n)\n",
    "print(\"Strobogrammatic numbers of length\", n, \"are:\")\n",
    "for num in result:\n",
    "    print(num)\n"
   ]
  },
  {
   "cell_type": "markdown",
   "id": "c916dd4c",
   "metadata": {},
   "source": [
    "# 16. Write a Python program to find the median among three given numbers."
   ]
  },
  {
   "cell_type": "code",
   "execution_count": 21,
   "id": "a988a0a9",
   "metadata": {},
   "outputs": [
    {
     "name": "stdout",
     "output_type": "stream",
     "text": [
      "Enter the first number: 4\n",
      "Enter the second number: 5\n",
      "Enter the third number: 6\n",
      "The median among 4.0 , 5.0 , and 6.0 is: 5.0\n"
     ]
    }
   ],
   "source": [
    "# Input three numbers\n",
    "num1 = float(input(\"Enter the first number: \"))\n",
    "num2 = float(input(\"Enter the second number: \"))\n",
    "num3 = float(input(\"Enter the third number: \"))\n",
    "\n",
    "# Find the median\n",
    "if num1 >= num2:\n",
    "    if num2 >= num3:\n",
    "        median = num2\n",
    "    elif num1 >= num3:\n",
    "        median = num3\n",
    "    else:\n",
    "        median = num1\n",
    "else:\n",
    "    if num1 >= num3:\n",
    "        median = num1\n",
    "    elif num2 >= num3:\n",
    "        median = num3\n",
    "    else:\n",
    "        median = num2\n",
    "\n",
    "# Print the median\n",
    "print(\"The median among\", num1, \",\", num2, \", and\", num3, \"is:\", median)\n"
   ]
  },
  {
   "cell_type": "markdown",
   "id": "f2d636a5",
   "metadata": {},
   "source": [
    "# 17. Write a Python program that finds the value of n when n degrees of number 2 are written sequentially on a line without spaces between them.\n"
   ]
  },
  {
   "cell_type": "code",
   "execution_count": 25,
   "id": "aca09924",
   "metadata": {},
   "outputs": [
    {
     "name": "stdout",
     "output_type": "stream",
     "text": [
      "Enter the sequence of 2's powers (without spaces): 252\n",
      "The value of 'n' is 1.\n"
     ]
    }
   ],
   "source": [
    "def find_n_from_power_sequence(sequence):\n",
    "    n = 0\n",
    "    current_power = 1\n",
    "    \n",
    "    while True:\n",
    "        if 2 ** current_power in sequence:\n",
    "            n += 1\n",
    "            current_power += 1\n",
    "        else:\n",
    "            break\n",
    "    \n",
    "    return n\n",
    "\n",
    "# Example usage:\n",
    "sequence = input(\"Enter the sequence of 2's powers (without spaces): \")\n",
    "sequence = [int(digit) for digit in sequence if digit.isdigit()]  # Extract digits\n",
    "result = find_n_from_power_sequence(sequence)\n",
    "\n",
    "if result > 0:\n",
    "    print(f\"The value of 'n' is {result}.\")\n",
    "else:\n",
    "    print(\"No valid 'n' found in the sequence.\")\n"
   ]
  },
  {
   "cell_type": "markdown",
   "id": "582d6383",
   "metadata": {},
   "source": [
    "# 18. Write a Python program to find the number of zeros at the end of a factorial of a given positive number.\n"
   ]
  },
  {
   "cell_type": "code",
   "execution_count": 27,
   "id": "e384612e",
   "metadata": {},
   "outputs": [
    {
     "name": "stdout",
     "output_type": "stream",
     "text": [
      "Enter a positive integer: 500\n",
      "The number of trailing zeros in 500! is 124.\n"
     ]
    }
   ],
   "source": [
    "def count_trailing_zeros_in_factorial(n):\n",
    "    # Initialize the count of trailing zeros\n",
    "    count = 0\n",
    "\n",
    "    # Keep dividing 'n' by increasing powers of 5 and update the count\n",
    "    while n >= 5:\n",
    "        n //= 5\n",
    "        count += n\n",
    "\n",
    "    return count\n",
    "\n",
    "# Input: Positive integer 'n'\n",
    "n = int(input(\"Enter a positive integer: \"))\n",
    "\n",
    "if n < 0:\n",
    "    print(\"Please enter a positive integer.\")\n",
    "else:\n",
    "    zeros_count = count_trailing_zeros_in_factorial(n)\n",
    "    print(f\"The number of trailing zeros in {n}! is {zeros_count}.\")\n"
   ]
  },
  {
   "cell_type": "markdown",
   "id": "4b3cdeff",
   "metadata": {},
   "source": [
    "# 19. Write a Python program to replace a string \"Python\" with \"Java\" and \"Java\" with \"Python\" in a given string. \n",
    "\n",
    "Input:\n",
    "English letters (including single byte alphanumeric characters, blanks, and symbols) are given on one line. The length of the input character string is 1000 or less\n",
    "Input a text with two words 'Python' and 'Java\n",
    "Python is popular than Java\n",
    "Java is popular than Python\n"
   ]
  },
  {
   "cell_type": "code",
   "execution_count": 28,
   "id": "d4db5d3e",
   "metadata": {},
   "outputs": [
    {
     "name": "stdout",
     "output_type": "stream",
     "text": [
      "Enter the text: Python is popular than Java\n",
      "Modified text:\n",
      "Java is popular than Python\n"
     ]
    }
   ],
   "source": [
    "# Input text\n",
    "text = input(\"Enter the text: \")\n",
    "\n",
    "# Replace \"Python\" with a temporary placeholder\n",
    "text = text.replace(\"Python\", \"temp_placeholder\")\n",
    "\n",
    "# Replace \"Java\" with \"Python\"\n",
    "text = text.replace(\"Java\", \"Python\")\n",
    "\n",
    "# Replace the temporary placeholder with \"Java\"\n",
    "text = text.replace(\"temp_placeholder\", \"Java\")\n",
    "\n",
    "# Print the modified text\n",
    "print(\"Modified text:\")\n",
    "print(text)\n"
   ]
  },
  {
   "cell_type": "markdown",
   "id": "4fa1e391",
   "metadata": {},
   "source": [
    "# 20. Write a Python program to reverse only the vowels of a given string. \n",
    "\n",
    "Sample Input:\n",
    "(\"Python\")\n",
    "(\"Perl\")\n",
    "(\"USA\")\n",
    "Sample Output:\n",
    "Python\n",
    "Perl\n",
    "ASU\n"
   ]
  },
  {
   "cell_type": "code",
   "execution_count": 29,
   "id": "97b18851",
   "metadata": {},
   "outputs": [
    {
     "name": "stdout",
     "output_type": "stream",
     "text": [
      "Python\n",
      "Perl\n",
      "ASU\n"
     ]
    }
   ],
   "source": [
    "def reverse_vowels(s):\n",
    "    vowels = \"AEIOUaeiou\"\n",
    "    s = list(s)\n",
    "    i, j = 0, len(s) - 1\n",
    "\n",
    "    while i < j:\n",
    "        if s[i] in vowels and s[j] in vowels:\n",
    "            s[i], s[j] = s[j], s[i]\n",
    "            i += 1\n",
    "            j -= 1\n",
    "        elif s[i] in vowels:\n",
    "            j -= 1\n",
    "        else:\n",
    "            i += 1\n",
    "\n",
    "    return ''.join(s)\n",
    "\n",
    "# Test cases\n",
    "input_strings = [\"Python\", \"Perl\", \"USA\"]\n",
    "for s in input_strings:\n",
    "    result = reverse_vowels(s)\n",
    "    print(result)\n"
   ]
  },
  {
   "cell_type": "markdown",
   "id": "d974aeee",
   "metadata": {},
   "source": [
    "# 21. Write a python program to check whether the string is Palindrome or Symmetrical or neither of them.\n",
    "\n",
    "For e.g.\n",
    "Input: “Nitin”\n",
    "Output: is a Palindrome\n",
    "Input: “KhoKho”\n",
    "Output: is a Symmetrical\n",
    "Input: “Philanthropist”\n",
    "Output: Neither Palindrome nor Symmetrical\n",
    "Explanation: Palindrome is a word which will we same when we read from first character or last character. Symmetrical is a word when breaks into two parts, then they will be same\n",
    "\n"
   ]
  },
  {
   "cell_type": "code",
   "execution_count": 30,
   "id": "faef45be",
   "metadata": {},
   "outputs": [
    {
     "name": "stdout",
     "output_type": "stream",
     "text": [
      "\"Nitin\" is a Palindrome\n",
      "\"KhoKho\" Neither Palindrome nor Symmetrical\n",
      "\"Philanthropist\" Neither Palindrome nor Symmetrical\n"
     ]
    }
   ],
   "source": [
    "def check_string_type(s):\n",
    "    s = s.lower()  # Convert the string to lowercase for case-insensitive comparison\n",
    "    reversed_s = s[::-1]  # Reverse the string\n",
    "\n",
    "    if s == reversed_s:\n",
    "        return \"is a Palindrome\"\n",
    "    elif s == s[::-1] and len(s) % 2 == 0:\n",
    "        return \"is a Symmetrical\"\n",
    "    else:\n",
    "        return \"Neither Palindrome nor Symmetrical\"\n",
    "\n",
    "# Test cases\n",
    "input_strings = [\"Nitin\", \"KhoKho\", \"Philanthropist\"]\n",
    "for s in input_strings:\n",
    "    result = check_string_type(s)\n",
    "    print(f'\"{s}\" {result}')\n"
   ]
  },
  {
   "cell_type": "markdown",
   "id": "a5d018d3",
   "metadata": {},
   "source": [
    "# 22. Write a python program to sort strings by maximum frequency character.\n",
    "For e.g.\n",
    "Input: test_list = [“insideAIML”, “bettered”, “for”, “geeks”]\n",
    "Output: ['bettered', 'insideAIML', 'geeks', 'for']\n",
    "Explanation: 1 < 2 < 3 < 4, is ordering of maximum character occurrence frequency\n"
   ]
  },
  {
   "cell_type": "code",
   "execution_count": 41,
   "id": "ea4dfeac",
   "metadata": {},
   "outputs": [
    {
     "name": "stdout",
     "output_type": "stream",
     "text": [
      "['bettered', 'insideAIML', 'geeks', 'for']\n"
     ]
    }
   ],
   "source": [
    "def max_frequency(char_count):\n",
    "    # Find the maximum character frequency\n",
    "    max_freq = max(char_count.values())\n",
    "    return max_freq\n",
    "\n",
    "def sort_by_max_frequency(strings):\n",
    "    # Create a list of tuples with (string, maximum character frequency)\n",
    "    string_with_max_freq = [(s, max_frequency({char: s.count(char) for char in s})) for s in strings]\n",
    "\n",
    "    # Sort the list of tuples based on the maximum character frequency in descending order\n",
    "    sorted_strings = [s[0] for s in sorted(string_with_max_freq, key=lambda x: x[1],reverse=True)]\n",
    "\n",
    "    return sorted_strings\n",
    "\n",
    "# Test the function\n",
    "input_strings = [\"insideAIML\", \"bettered\", \"for\", \"geeks\"]\n",
    "result = sort_by_max_frequency(input_strings)\n",
    "\n",
    "print(result)\n"
   ]
  },
  {
   "cell_type": "markdown",
   "id": "1eea4b6f",
   "metadata": {},
   "source": [
    "# 23. Write a Python program to reverse the digits of a given number and add them to the original. Repeat this procedure if the sum is not a palindrome\n"
   ]
  },
  {
   "cell_type": "code",
   "execution_count": 3,
   "id": "62e5d18f",
   "metadata": {},
   "outputs": [
    {
     "name": "stdout",
     "output_type": "stream",
     "text": [
      "Enter a number: 10\n",
      "Intermediate result: 11\n",
      "Palindrome reached: 11\n"
     ]
    }
   ],
   "source": [
    "def is_palindrome(n):\n",
    "    return str(n) == str(n)[::-1]\n",
    "\n",
    "def reverse_and_add(n):\n",
    "    reversed_n = int(str(n)[::-1])\n",
    "    return n + reversed_n\n",
    "\n",
    "def main():\n",
    "    try:\n",
    "        num = int(input(\"Enter a number: \"))\n",
    "    except ValueError:\n",
    "        print(\"Invalid input. Please enter a valid number.\")\n",
    "        return\n",
    "\n",
    "    while not is_palindrome(num):\n",
    "        num = reverse_and_add(num)\n",
    "        print(f\"Intermediate result: {num}\")\n",
    "\n",
    "    print(f\"Palindrome reached: {num}\")\n",
    "\n",
    "if __name__ == \"__main__\":\n",
    "    main()\n"
   ]
  },
  {
   "cell_type": "markdown",
   "id": "1ba66a90",
   "metadata": {},
   "source": [
    "# 24. Write a Python program that reads text (only alphabetical characters and spaces) and prints two words. The first word is the one that appears most often in the text. The second one is the word with the most letters. \n",
    "Note: A word is a sequence of letters which is separated by the spaces.\n",
    "Input:\n",
    "A text is given in a line with following condition:\n",
    "a. The number of letters in the text is less than or equal to 1000.\n",
    "b. The number of letters in a word is less than or equal to 32.\n",
    "c. There is only one word which is arise most frequently in given text.\n",
    "d. There is only one word which has the maximum number of letters in given text.\n",
    "\n",
    "Input text: Thank you for your comment and your participation.\n",
    "Output: your participation.\n"
   ]
  },
  {
   "cell_type": "code",
   "execution_count": 5,
   "id": "dae658bf",
   "metadata": {},
   "outputs": [
    {
     "name": "stdout",
     "output_type": "stream",
     "text": [
      "Enter text: Thank you for your comment and your participation.\n",
      "Output: your participation\n"
     ]
    }
   ],
   "source": [
    "def find_most_frequent_and_longest_word(text):\n",
    "    words = text.split()\n",
    "    word_count = {}\n",
    "    longest_word = \"\"\n",
    "\n",
    "    for word in words:\n",
    "        # Remove any non-alphabetical characters from the word\n",
    "        clean_word = \"\".join(filter(str.isalpha, word))\n",
    "\n",
    "        if clean_word:\n",
    "            word_count[clean_word] = word_count.get(clean_word, 0) + 1\n",
    "\n",
    "            if len(clean_word) > len(longest_word):\n",
    "                longest_word = clean_word\n",
    "\n",
    "    most_frequent_word = max(word_count, key=word_count.get)\n",
    "    return most_frequent_word, longest_word\n",
    "\n",
    "def main():\n",
    "    try:\n",
    "        text = input(\"Enter text: \")\n",
    "        most_frequent, longest = find_most_frequent_and_longest_word(text)\n",
    "        result = f\"{most_frequent} {longest}\"\n",
    "        print(f\"Output: {result}\")\n",
    "    except Exception as e:\n",
    "        print(f\"An error occurred: {str(e)}\")\n",
    "\n",
    "if __name__ == \"__main__\":\n",
    "    main()\n"
   ]
  },
  {
   "cell_type": "markdown",
   "id": "6e286600",
   "metadata": {},
   "source": [
    "# 25. Write a Python program to sum all numerical values (positive integers) embedded in a sentence. \n",
    "\n",
    "Input:\n",
    "Sentences with positive integers are given over multiple lines. Each line is a character string containing one-byte alphanumeric characters, symbols, spaces, or an empty line. However the input is 80 characters or less per line and the sum is 10,000 or less.\n",
    "Input some text and numeric values (to exit):\n",
    "Sum of the numeric values: 80\n",
    "None\n",
    "Input some text and numeric values (to exit):\n",
    "Sum of the numeric values: 17\n",
    "None\n",
    "Input some text and numeric values (to exit):\n",
    "Sum of the numeric values: 10\n",
    "None\n"
   ]
  },
  {
   "cell_type": "code",
   "execution_count": 6,
   "id": "3cc83594",
   "metadata": {},
   "outputs": [
    {
     "name": "stdout",
     "output_type": "stream",
     "text": [
      "Input some text and numeric values (to exit):\n",
      "kushagra09\n",
      "Sum of the numeric values: 0\n",
      "Input some text and numeric values (to exit):\n",
      "kushagra 0 69\n",
      "Sum of the numeric values: 69\n",
      "Input some text and numeric values (to exit):\n",
      "kushagra 0 9\n",
      "Sum of the numeric values: 9\n",
      "Input some text and numeric values (to exit):\n",
      "0\n",
      "Sum of the numeric values: 0\n",
      "Input some text and numeric values (to exit):\n",
      "\n"
     ]
    }
   ],
   "source": [
    "import re\n",
    "\n",
    "def extract_and_sum_numbers(text):\n",
    "    # Regular expression to match positive integers\n",
    "    pattern = r'\\b\\d+\\b'\n",
    "    numbers = re.findall(pattern, text)\n",
    "    return sum(int(num) for num in numbers)\n",
    "\n",
    "def main():\n",
    "    while True:\n",
    "        try:\n",
    "            input_text = input(\"Input some text and numeric values (to exit):\\n\")\n",
    "            \n",
    "            # Exit the program if the input is empty\n",
    "            if not input_text:\n",
    "                break\n",
    "            \n",
    "            total_sum = extract_and_sum_numbers(input_text)\n",
    "            print(f\"Sum of the numeric values: {total_sum}\")\n",
    "        except Exception as e:\n",
    "            print(f\"An error occurred: {str(e)}\")\n",
    "\n",
    "if __name__ == \"__main__\":\n",
    "    main()\n"
   ]
  },
  {
   "cell_type": "markdown",
   "id": "45c58913",
   "metadata": {},
   "source": [
    "# 26. When character are consecutive in a string, it is possible to shorten the character string by replacing the character with a certain rule. For example, in the case of the character string YYYYY, if it is expressed as # 5 Y, it is compressed by one character.\n",
    "Write a Python program to restore the original string by entering the compressed string with this rule. However, the # character does not appear in the restored character string. \n",
    "Input:\n",
    "The restored character string for each character on one line.\n",
    "Original text: XY#6Z1#4023\n",
    "XYZZZZZZ1000023\n",
    "Original text: #39+1=1#30\n",
    "999+1=1000\n"
   ]
  },
  {
   "cell_type": "code",
   "execution_count": 28,
   "id": "adb4d015",
   "metadata": {},
   "outputs": [
    {
     "name": "stdout",
     "output_type": "stream",
     "text": [
      "Enter the compressed string: XY#6Z1#4023\n",
      "Restored original text: XYZZZZZZ1\n"
     ]
    }
   ],
   "source": [
    "def restore_original_string(compressed_string):\n",
    "    original_string = \"\"\n",
    "    i = 0\n",
    "\n",
    "    while i < len(compressed_string):\n",
    "        if compressed_string[i] == '#':\n",
    "            i += 1\n",
    "\n",
    "            count = 0\n",
    "            while i < len(compressed_string) and compressed_string[i].isdigit():\n",
    "                count = count * 10 + int(compressed_string[i])\n",
    "                i += 1\n",
    "\n",
    "            if i < len(compressed_string):\n",
    "                char = compressed_string[i]\n",
    "                original_string += char * count\n",
    "        else:\n",
    "            original_string += compressed_string[i]\n",
    "        i += 1\n",
    "\n",
    "    return original_string\n",
    "\n",
    "def main():\n",
    "    try:\n",
    "        compressed_string = input(\"Enter the compressed string: \")\n",
    "        original_string = restore_original_string(compressed_string)\n",
    "        print(f\"Restored original text: {original_string}\")\n",
    "    except Exception as e:\n",
    "        print(f\"An error occurred: {str(e)}\")\n",
    "\n",
    "if __name__ == \"__main__\":\n",
    "    main()\n"
   ]
  },
  {
   "cell_type": "markdown",
   "id": "edf5a066",
   "metadata": {},
   "source": [
    "# 27. In mathematics, a subsequence is a sequence that can be derived from another sequence by deleting some or no elements without changing the order of the remaining elements. For example, the sequence (A, B, D) is a subsequence of (A, B, C, D, E, F) obtained after removal of elements C, E, and F. The relation of one sequence being the subsequence of another is a preorder.\n",
    "The subsequence should not be confused with substring (A,B,C,D) which can be derived from the above string (A,B,C,D,E,F) by deleting substring (E,F). The substring is a refinement of the subsequence.\n",
    "The list of all subsequences for the word \"apple\" would be \"a\", \"ap\", \"al\", \"ae\", \"app\", \"apl\", \"ape\", \"ale\", \"appl\", \"appe\", \"aple\", \"apple\", \"p\", \"pp\", \"pl\", \"pe\", \"ppl\", \"ppe\", \"ple\", \"pple\", \"l\", \"le\", \"e\", \"\".\n",
    "Write a Python program to find the longest word in a set of words which is a subsequence of a given string. \n",
    "Input:\n",
    "(\"Green\", {\"Gn\", \"Gren\", \"ree\", \"en\"})\n",
    "(\"pythonexercises\", {\"py\", \"ex\", \"exercises\"})\n",
    "Sample Output:\n",
    "Gren\n",
    "exercises\n"
   ]
  },
  {
   "cell_type": "code",
   "execution_count": 35,
   "id": "cc76d89a",
   "metadata": {},
   "outputs": [
    {
     "name": "stdout",
     "output_type": "stream",
     "text": [
      "Enter string: Green\n",
      "Enter set of words separated by spaces: Gn Gren ree en\n",
      "Longest subsequence word: Gren\n"
     ]
    }
   ],
   "source": [
    "def is_subsequence(word, string):\n",
    "    i, j = 0, 0\n",
    "\n",
    "    while i < len(word) and j < len(string):\n",
    "        if word[i] == string[j]:\n",
    "            i += 1\n",
    "        j += 1\n",
    "\n",
    "    return i == len(word)\n",
    "\n",
    "def find_longest_subsequence_word(string, words):\n",
    "    longest_word = \"\"\n",
    "    max_length = 0\n",
    "\n",
    "    for word in words:\n",
    "        if is_subsequence(word, string) and len(word) > max_length:\n",
    "            longest_word = word\n",
    "            max_length = len(word)\n",
    "\n",
    "    return longest_word\n",
    "\n",
    "def main():\n",
    "    try:\n",
    "        input_str = input(\"Enter string: \").strip('\"')\n",
    "        input_set = set(input(\"Enter set of words separated by spaces: \").split())\n",
    "\n",
    "        longest_subsequence_word = find_longest_subsequence_word(input_str, input_set)\n",
    "        print(f\"Longest subsequence word: {longest_subsequence_word}\")\n",
    "    except Exception as e:\n",
    "        print(f\"An error occurred: {str(e)}\")\n",
    "\n",
    "if __name__ == \"__main__\":\n",
    "    main()\n"
   ]
  },
  {
   "cell_type": "markdown",
   "id": "3c142cda",
   "metadata": {},
   "source": [
    "# 28. In abstract algebra, a group isomorphism is a function between two groups that sets up a one-to-one correspondence between the elements of the groups in a way that respects the given group operations. If there exists an isomorphism between two groups, then the groups are called isomorphic.\n",
    "Two strings are isomorphic if the characters in string A can be replaced to get string B\n",
    "Given \"foo\", \"bar\", return false.\n",
    "Given \"paper\", \"title\", return true.\n",
    "Write a Python program to check if two given strings are isomorphic to each other or not. \n",
    "\n",
    "Sample Input:\n",
    "(\"foo\", \"bar\")\n",
    "(\"bar\", \"foo\")\n",
    "(\"paper\", \"title\")\n",
    "(\"title\", \"paper\")\n",
    "(\"apple\", \"orange\")\n",
    "(\"aa\", \"ab\")\n",
    "(\"ab\", \"aa\")\n",
    "Sample Output:\n",
    "False\n",
    "False\n",
    "True\n",
    "True\n",
    "False\n",
    "False\n",
    "False\n",
    "\n"
   ]
  },
  {
   "cell_type": "code",
   "execution_count": 37,
   "id": "36db33bd",
   "metadata": {},
   "outputs": [
    {
     "name": "stdout",
     "output_type": "stream",
     "text": [
      "Enter two strings separated by a space: paper title\n",
      "Are the strings isomorphic? True\n"
     ]
    }
   ],
   "source": [
    "def are_isomorphic(str1, str2):\n",
    "    if len(str1) != len(str2):\n",
    "        return False\n",
    "\n",
    "    char_map1 = {}\n",
    "    char_map2 = {}\n",
    "\n",
    "    for i in range(len(str1)):\n",
    "        char1, char2 = str1[i], str2[i]\n",
    "\n",
    "        if char1 in char_map1:\n",
    "            if char_map1[char1] != char2:\n",
    "                return False\n",
    "        else:\n",
    "            char_map1[char1] = char2\n",
    "\n",
    "        if char2 in char_map2:\n",
    "            if char_map2[char2] != char1:\n",
    "                return False\n",
    "        else:\n",
    "            char_map2[char2] = char1\n",
    "\n",
    "    return True\n",
    "\n",
    "def main():\n",
    "    try:\n",
    "        input_str1, input_str2 = input(\"Enter two strings separated by a space: \").split()\n",
    "        is_isomorphic = are_isomorphic(input_str1, input_str2)\n",
    "        print(f\"Are the strings isomorphic? {is_isomorphic}\")\n",
    "    except Exception as e:\n",
    "        print(f\"An error occurred: {str(e)}\")\n",
    "\n",
    "if __name__ == \"__main__\":\n",
    "    main()\n"
   ]
  },
  {
   "cell_type": "markdown",
   "id": "267a1075",
   "metadata": {},
   "source": [
    "# 29. Write a Python program to find the longest common prefix string among a given array of strings. Return false if there is no common prefix.\n",
    "For Example, longest common prefix of \"abcdefgh\" and \"abcefgh\" is \"abc\". \n",
    "\n",
    "Sample Input:\n",
    "[\"abcdefgh”, “abcefgh\"]\n",
    "[\"Python\",\"PHP\", \"Perl\"]\n",
    "[\"Python\",\"PHP\", \"Java\"]\n",
    "Sample Output:\n",
    "abc\n"
   ]
  },
  {
   "cell_type": "code",
   "execution_count": 38,
   "id": "581b80c9",
   "metadata": {},
   "outputs": [
    {
     "name": "stdout",
     "output_type": "stream",
     "text": [
      "Enter an array of strings separated by spaces: abcdefgh abcefgh\n",
      "Longest common prefix: abc\n"
     ]
    }
   ],
   "source": [
    "def longest_common_prefix(strs):\n",
    "    if not strs:\n",
    "        return False\n",
    "\n",
    "    # Sort the array of strings to ensure that the shortest and longest strings are at the extremes.\n",
    "    strs.sort()\n",
    "\n",
    "    # Compare the first and last strings (the shortest and longest) character by character.\n",
    "    common_prefix = []\n",
    "    for i in range(len(strs[0])):\n",
    "        if strs[0][i] == strs[-1][i]:\n",
    "            common_prefix.append(strs[0][i])\n",
    "        else:\n",
    "            break\n",
    "\n",
    "    return ''.join(common_prefix)\n",
    "\n",
    "def main():\n",
    "    try:\n",
    "        input_strings = input(\"Enter an array of strings separated by spaces: \").split()\n",
    "        common_prefix = longest_common_prefix(input_strings)\n",
    "        if common_prefix:\n",
    "            print(f\"Longest common prefix: {common_prefix}\")\n",
    "        else:\n",
    "            print(\"No common prefix found.\")\n",
    "    except Exception as e:\n",
    "        print(f\"An error occurred: {str(e)}\")\n",
    "\n",
    "if __name__ == \"__main__\":\n",
    "    main()\n"
   ]
  },
  {
   "cell_type": "code",
   "execution_count": null,
   "id": "c8e9a512",
   "metadata": {},
   "outputs": [],
   "source": []
  }
 ],
 "metadata": {
  "kernelspec": {
   "display_name": "Python 3 (ipykernel)",
   "language": "python",
   "name": "python3"
  },
  "language_info": {
   "codemirror_mode": {
    "name": "ipython",
    "version": 3
   },
   "file_extension": ".py",
   "mimetype": "text/x-python",
   "name": "python",
   "nbconvert_exporter": "python",
   "pygments_lexer": "ipython3",
   "version": "3.11.4"
  }
 },
 "nbformat": 4,
 "nbformat_minor": 5
}
