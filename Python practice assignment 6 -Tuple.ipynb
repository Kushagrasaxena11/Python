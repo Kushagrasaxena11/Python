{
 "cells": [
  {
   "cell_type": "markdown",
   "id": "5a47c98c",
   "metadata": {},
   "source": [
    "# 1. Write a python program to print the Palindrome number from a tuple.\n",
    "For e.g.\n",
    "Input: (121, 234, 222, 343, 786, 100)\n",
    "Output: (121, 222, 343)\n"
   ]
  },
  {
   "cell_type": "code",
   "execution_count": 1,
   "id": "0e21269d",
   "metadata": {},
   "outputs": [
    {
     "name": "stdout",
     "output_type": "stream",
     "text": [
      "(121, 222, 343)\n"
     ]
    }
   ],
   "source": [
    "# Define a function to check if a number is a palindrome\n",
    "def is_palindrome(num):\n",
    "    return str(num) == str(num)[::-1]\n",
    "\n",
    "# Input tuple of numbers\n",
    "input_tuple = (121, 234, 222, 343, 786, 100)\n",
    "\n",
    "# Use a list comprehension to filter palindrome numbers\n",
    "palindrome_numbers = [num for num in input_tuple if is_palindrome(num)]\n",
    "\n",
    "# Convert the filtered numbers back to a tuple\n",
    "output_tuple = tuple(palindrome_numbers)\n",
    "\n",
    "# Print the output tuple\n",
    "print(output_tuple)\n"
   ]
  },
  {
   "cell_type": "markdown",
   "id": "b98932d2",
   "metadata": {},
   "source": [
    "# 2. Write a python program to print unique elements for a nested tuple.\n",
    "For e.g.\n",
    "Input: ((3, 4, 5), (5, 6, 7), (7, 8, 9))\n",
    "Output:  (3, 4, 6, 7, 8, 9)\n"
   ]
  },
  {
   "cell_type": "code",
   "execution_count": 34,
   "id": "2ab660e3",
   "metadata": {},
   "outputs": [
    {
     "name": "stdout",
     "output_type": "stream",
     "text": [
      "(3, 4, 5, 6, 7, 8, 9)\n"
     ]
    }
   ],
   "source": [
    "# Input nested tuple\n",
    "input_tuple = ((3, 4, 5), (5, 6, 7), (7, 8, 9))\n",
    "\n",
    "# Initialize an empty list to store unique elements\n",
    "unique_elements = []\n",
    "\n",
    "# Iterate through the nested tuple and add elements to the list\n",
    "for inner_tuple in input_tuple:\n",
    "    for element in inner_tuple:\n",
    "        if element not in unique_elements:\n",
    "            unique_elements.append(element)\n",
    "\n",
    "# Convert the list to a tuple\n",
    "output_tuple = tuple(unique_elements)\n",
    "\n",
    "# Print the tuple\n",
    "print(output_tuple)\n"
   ]
  },
  {
   "cell_type": "markdown",
   "id": "1992b4da",
   "metadata": {},
   "source": [
    "# 3. Write a python program to convert tuple into list by adding the given number after every element and then join them by hyphen.\n",
    "For e.g.\n",
    "Input: test_tuple = (1, 2, 3) & k=22\n",
    "Output: [1, 22, 2, 22, 3, 22]🡪 “1-22-2-22-3-22”\n"
   ]
  },
  {
   "cell_type": "code",
   "execution_count": 35,
   "id": "cf67f2e5",
   "metadata": {},
   "outputs": [
    {
     "name": "stdout",
     "output_type": "stream",
     "text": [
      "['1', '22', '2', '22', '3', '22']\n",
      "1-22-2-22-3-22\n"
     ]
    }
   ],
   "source": [
    "# Input tuple and the number to add\n",
    "test_tuple = (1, 2, 3)\n",
    "k = 22\n",
    "\n",
    "# Convert the tuple into a list, add the given number after every element, and flatten it\n",
    "result_list = [str(item) for item in test_tuple]\n",
    "result_list = [item for sublist in [[item, str(k)] for item in result_list] for item in sublist]\n",
    "\n",
    "# Join the elements of the list by hyphen to create the string\n",
    "result_string = '-'.join(result_list)\n",
    "\n",
    "# Print the result list and string\n",
    "print(result_list)\n",
    "print(result_string)\n"
   ]
  },
  {
   "cell_type": "markdown",
   "id": "59c8c168",
   "metadata": {},
   "source": [
    "# 4. Write a python program to convert binary tuple into integer.\n",
    "For e.g.\n",
    "Input: test_tuple = (1, 1, 0)\n",
    "Output: 6\n",
    "Input: test_tuple = (1, 1, 1, 1, 0, 1)\n",
    "Output: 61\n"
   ]
  },
  {
   "cell_type": "code",
   "execution_count": 16,
   "id": "deaaa2e7",
   "metadata": {},
   "outputs": [
    {
     "name": "stdout",
     "output_type": "stream",
     "text": [
      "61\n"
     ]
    }
   ],
   "source": [
    "# Input binary tuple\n",
    "test_tuple = (1, 1, 0)\n",
    "test_tuple = (1, 1, 1, 1, 0, 1)\n",
    "\n",
    "# Initialize the result integer\n",
    "result = 0\n",
    "\n",
    "# Iterate through the tuple and construct the integer\n",
    "for bit in test_tuple:\n",
    "    result = (result << 1) | bit\n",
    "\n",
    "# Print the result\n",
    "print(result)\n"
   ]
  },
  {
   "cell_type": "markdown",
   "id": "35c034a6",
   "metadata": {},
   "source": [
    "# 5. Write a python program to multiply the adjacent elements.\n",
    "For e.g.\n",
    "Input: test_tuple = (7, 4, 8, 3, 2)\n",
    "Output: (28, 32, 24, 6)\n"
   ]
  },
  {
   "cell_type": "code",
   "execution_count": 17,
   "id": "e4c56cbb",
   "metadata": {},
   "outputs": [
    {
     "name": "stdout",
     "output_type": "stream",
     "text": [
      "(28, 32, 24, 6)\n"
     ]
    }
   ],
   "source": [
    "# Input tuple\n",
    "test_tuple = (7, 4, 8, 3, 2)\n",
    "\n",
    "# Initialize an empty list to store the results\n",
    "result_list = []\n",
    "\n",
    "# Iterate through the tuple to multiply adjacent elements\n",
    "for i in range(len(test_tuple) - 1):\n",
    "    result_list.append(test_tuple[i] * test_tuple[i + 1])\n",
    "\n",
    "# Convert the list to a tuple\n",
    "result_tuple = tuple(result_list)\n",
    "\n",
    "# Print the result tuple\n",
    "print(result_tuple)\n"
   ]
  },
  {
   "cell_type": "markdown",
   "id": "0abeb7c6",
   "metadata": {},
   "source": [
    "# 6. Write a python program to convert nested tuple into dictionary.\n",
    "For e.g.\n",
    "Input: test_tuple = ((1, ‘INSIDEAIML’, 2), (3, ‘best’, 4)), keys = [‘key’, ‘value’, ‘id’] \n",
    "Output: [{‘key’: 1, ‘value’: ‘INSIDEAIML’, ‘id’: 2}, {‘key’: 3, ‘value’: ‘best’, ‘id’: 4}]\n",
    "\n"
   ]
  },
  {
   "cell_type": "code",
   "execution_count": 18,
   "id": "3d93cc03",
   "metadata": {},
   "outputs": [
    {
     "name": "stdout",
     "output_type": "stream",
     "text": [
      "[{'key': 1, 'value': 'INSIDEAIML', 'id': 2}, {'key': 3, 'value': 'best', 'id': 4}]\n"
     ]
    }
   ],
   "source": [
    "# Input nested tuple and keys\n",
    "test_tuple = ((1, 'INSIDEAIML', 2), (3, 'best', 4))\n",
    "keys = ['key', 'value', 'id']\n",
    "\n",
    "# Initialize an empty list to store the dictionaries\n",
    "result_list = []\n",
    "\n",
    "# Iterate through the nested tuple and create dictionaries\n",
    "for inner_tuple in test_tuple:\n",
    "    result_dict = {}\n",
    "    for i in range(len(keys)):\n",
    "        result_dict[keys[i]] = inner_tuple[i]\n",
    "    result_list.append(result_dict)\n",
    "\n",
    "# Print the result list of dictionaries\n",
    "print(result_list)\n"
   ]
  },
  {
   "cell_type": "markdown",
   "id": "4bcb8e5c",
   "metadata": {},
   "source": [
    "# 7. Write a python program to sort tuple using list.\n",
    "For e.g.\n",
    "Input: test_tuple = [(“abc”, 8), (“uvw”, 9), (“xyz”, 7)) & list = [“xyz”, “abc”, “uvw”]\n",
    "Output: [(“xyz”, 7), (“abc”, 8), (“uvw”, 9)]\n"
   ]
  },
  {
   "cell_type": "code",
   "execution_count": 19,
   "id": "15beac18",
   "metadata": {},
   "outputs": [
    {
     "name": "stdout",
     "output_type": "stream",
     "text": [
      "[('xyz', 7), ('abc', 8), ('uvw', 9)]\n"
     ]
    }
   ],
   "source": [
    "# Input tuple and custom order list\n",
    "test_tuple = [(\"abc\", 8), (\"uvw\", 9), (\"xyz\", 7)]\n",
    "custom_order = [\"xyz\", \"abc\", \"uvw\"]\n",
    "\n",
    "# Sort the tuple using a custom key function\n",
    "sorted_tuple = sorted(test_tuple, key=lambda x: custom_order.index(x[0]))\n",
    "\n",
    "# Print the sorted tuple\n",
    "print(sorted_tuple)\n"
   ]
  },
  {
   "cell_type": "markdown",
   "id": "9cde99f2",
   "metadata": {},
   "source": [
    "# 8. Write a python program to print intersected tuple from list.\n",
    "For e.g.\n",
    "Input: tuple1 = [(1, 2), (3, 4), (5, 6), (7, 8)]\n",
    "\tTuple2 = [(2, 1), (6, 5), (3, 4), (9, 8)]\n",
    "Output:  [(1, 2), (3, 4), (5, 6)]\n"
   ]
  },
  {
   "cell_type": "code",
   "execution_count": 21,
   "id": "b8a87c32",
   "metadata": {},
   "outputs": [
    {
     "name": "stdout",
     "output_type": "stream",
     "text": [
      "[(1, 2), (3, 4), (5, 6)]\n"
     ]
    }
   ],
   "source": [
    "# Input lists of tuples\n",
    "tuple1 = [(1, 2), (3, 4), (5, 6), (7, 8)]\n",
    "tuple2 = [(2, 1), (6, 5), (3, 4), (9, 8)]\n",
    "\n",
    "# Find intersected tuples\n",
    "intersected_tuples = [t1 for t1 in tuple1 for t2 in tuple2 if sorted(t1) == sorted(t2)]\n",
    "\n",
    "# Remove duplicates by converting to a set and back to a list\n",
    "intersected_tuples = list(set(intersected_tuples))\n",
    "\n",
    "# Print the intersected tuples\n",
    "print(intersected_tuples)\n"
   ]
  },
  {
   "cell_type": "markdown",
   "id": "5328ec32",
   "metadata": {},
   "source": [
    "# 9. Write a python program to remove duplicates and then print sum of all unique values.\n",
    "For e.g.\n",
    "Input: test_tuple = (1, 3, 5, 2, 3, 5, 1, 1, 3)\n",
    "Output: (1, 3, 5, 2) 🡪 sum = 11"
   ]
  },
  {
   "cell_type": "code",
   "execution_count": 22,
   "id": "64206f21",
   "metadata": {},
   "outputs": [
    {
     "name": "stdout",
     "output_type": "stream",
     "text": [
      "(1, 2, 3, 5) → sum = 11\n"
     ]
    }
   ],
   "source": [
    "# Input tuple\n",
    "test_tuple = (1, 3, 5, 2, 3, 5, 1, 1, 3)\n",
    "\n",
    "# Remove duplicates by converting to a set\n",
    "unique_set = set(test_tuple)\n",
    "\n",
    "# Calculate the sum of unique values\n",
    "unique_sum = sum(unique_set)\n",
    "\n",
    "# Convert the set back to a tuple if needed\n",
    "unique_tuple = tuple(unique_set)\n",
    "\n",
    "# Print the unique values and their sum\n",
    "print(unique_tuple, \"→ sum =\", unique_sum)\n"
   ]
  },
  {
   "cell_type": "markdown",
   "id": "fe1fbb5e",
   "metadata": {},
   "source": [
    "# 10. Write a python program to print maximum sum tuple from nested tuple.\n",
    "For e.g.\n",
    "Input: test_tuple = ((6, 7), (1, 2), (9, 8))\n",
    "Output: (9, 8)\n",
    "Explanation: Sum of each tuple is ((13), (3), (17)) 🡪 max sum is 17 🡪 output: (9, 8)\n"
   ]
  },
  {
   "cell_type": "code",
   "execution_count": 24,
   "id": "5110bcdd",
   "metadata": {},
   "outputs": [
    {
     "name": "stdout",
     "output_type": "stream",
     "text": [
      "Tuple with maximum sum: (9, 8)\n"
     ]
    }
   ],
   "source": [
    "# Input nested tuple\n",
    "test_tuple = ((6, 7), (1, 2), (9, 8))\n",
    "\n",
    "# Initialize variables to track the maximum sum and corresponding tuple\n",
    "max_sum = float(\"-inf\")  # Start with negative infinity to ensure any sum will be greater\n",
    "max_sum_tuple = None\n",
    "\n",
    "# Iterate through the tuples and calculate sums\n",
    "for sub_tuple in test_tuple:\n",
    "    current_sum = sum(sub_tuple)\n",
    "    if current_sum > max_sum:\n",
    "        max_sum = current_sum\n",
    "        max_sum_tuple = sub_tuple\n",
    "\n",
    "# Print the tuple with the maximum sum\n",
    "print(\"Tuple with maximum sum:\", max_sum_tuple)\n"
   ]
  },
  {
   "cell_type": "code",
   "execution_count": null,
   "id": "32ec3e5c",
   "metadata": {},
   "outputs": [],
   "source": []
  }
 ],
 "metadata": {
  "kernelspec": {
   "display_name": "Python 3 (ipykernel)",
   "language": "python",
   "name": "python3"
  },
  "language_info": {
   "codemirror_mode": {
    "name": "ipython",
    "version": 3
   },
   "file_extension": ".py",
   "mimetype": "text/x-python",
   "name": "python",
   "nbconvert_exporter": "python",
   "pygments_lexer": "ipython3",
   "version": "3.11.4"
  }
 },
 "nbformat": 4,
 "nbformat_minor": 5
}
