{
 "cells": [
  {
   "cell_type": "markdown",
   "id": "18dcd913",
   "metadata": {},
   "source": [
    "# 1.Write a python program to print name and marks of students.\n",
    "For e.g. \n",
    "Input: Name = [“abc”, “def”] & marks= [89, 98]\n",
    "Output: {“student1”: {“Name”: “abc”, “Marks”: 89}, \n",
    "\t“student2”: {“Name”: “def”, “Marks”: 98}}\n"
   ]
  },
  {
   "cell_type": "code",
   "execution_count": 1,
   "id": "98518246",
   "metadata": {},
   "outputs": [
    {
     "name": "stdout",
     "output_type": "stream",
     "text": [
      "{'student1': {'Name': 'abc', 'Marks': 89}, 'student2': {'Name': 'def', 'Marks': 98}}\n"
     ]
    }
   ],
   "source": [
    "# Input student names and marks as lists\n",
    "names = [\"abc\", \"def\"]\n",
    "marks = [89, 98]\n",
    "\n",
    "# Create a dictionary to store student data\n",
    "student_data = {}\n",
    "\n",
    "# Populate the dictionary with student information\n",
    "for i, (name, mark) in enumerate(zip(names, marks), start=1):\n",
    "    student_data[f\"student{i}\"] = {\"Name\": name, \"Marks\": mark}\n",
    "\n",
    "# Print the student data dictionary\n",
    "print(student_data)\n"
   ]
  },
  {
   "cell_type": "markdown",
   "id": "7c595a05",
   "metadata": {},
   "source": [
    "# 2.Write a python program to count the frequency in a list using dictionary.\n",
    "For e.g. \n",
    "Input: [1, 1, 1, 5, 5, 3, 1, 3, 3, 1, 4, 4, 4, 2, 2, 2, 2]\n",
    "Output: {1: 5, 5: 2, 3: 3, 4: 3, 2:4} 🡪 {Number: Count}"
   ]
  },
  {
   "cell_type": "code",
   "execution_count": 2,
   "id": "8e56cbba",
   "metadata": {},
   "outputs": [
    {
     "name": "stdout",
     "output_type": "stream",
     "text": [
      "{1: 5, 5: 2, 3: 3, 4: 3, 2: 4}\n"
     ]
    }
   ],
   "source": [
    "# Input list of numbers\n",
    "numbers = [1, 1, 1, 5, 5, 3, 1, 3, 3, 1, 4, 4, 4, 2, 2, 2, 2]\n",
    "\n",
    "# Initialize an empty dictionary to store the frequency\n",
    "frequency_dict = {}\n",
    "\n",
    "# Count the frequency of each element\n",
    "for num in numbers:\n",
    "    if num in frequency_dict:\n",
    "        frequency_dict[num] += 1\n",
    "    else:\n",
    "        frequency_dict[num] = 1\n",
    "\n",
    "# Print the frequency dictionary\n",
    "print(frequency_dict)\n"
   ]
  },
  {
   "cell_type": "markdown",
   "id": "71547df9",
   "metadata": {},
   "source": [
    "# 3.Write a python program to reverse the order of dictionary.\n",
    "For e.g.\n",
    "The original dictionary: {‘is’: 2, ‘best’: 5, ‘insideaiml’: 4} \n",
    "The reversed order dictionary: {“insideaiml”: 4, “best”: 5, “is”: 2}\n"
   ]
  },
  {
   "cell_type": "code",
   "execution_count": 4,
   "id": "1e2aabdb",
   "metadata": {},
   "outputs": [
    {
     "name": "stdout",
     "output_type": "stream",
     "text": [
      "The original dictionary: {'is': 2, 'best': 5, 'insideaiml': 4}\n",
      "The reversed order dictionary: {2: 'is', 5: 'best', 4: 'insideaiml'}\n"
     ]
    }
   ],
   "source": [
    "# Input original dictionary\n",
    "original_dict = {'is': 2, 'best': 5, 'insideaiml': 4}\n",
    "\n",
    "# Reverse the order of the dictionary\n",
    "reversed_dict = {v: k for k, v in original_dict.items()}\n",
    "\n",
    "# Print the reversed dictionary\n",
    "print(\"The original dictionary:\", original_dict)\n",
    "print(\"The reversed order dictionary:\", reversed_dict)\n"
   ]
  },
  {
   "cell_type": "markdown",
   "id": "dcba545b",
   "metadata": {},
   "source": [
    "# 4.Write a python program to check prime number from a list, then create a dictionary.\n",
    "For e.g.\n",
    "Input: [1, 2, 22, 34, 37, 21, 19, 23]\n",
    "Output: {1: “Not a Prime”, 2: “Prime”, 22: “Not a Prime”, 34: “Not a Prime”, 37: “Prime”, 21: “Not a Prime”, 19: “Prime”, 23: “Prime”}\n"
   ]
  },
  {
   "cell_type": "code",
   "execution_count": 5,
   "id": "243d2fbf",
   "metadata": {},
   "outputs": [
    {
     "name": "stdout",
     "output_type": "stream",
     "text": [
      "{1: 'Not a Prime', 2: 'Prime', 22: 'Not a Prime', 34: 'Not a Prime', 37: 'Prime', 21: 'Not a Prime', 19: 'Prime', 23: 'Prime'}\n"
     ]
    }
   ],
   "source": [
    "# Function to check if a number is prime\n",
    "def is_prime(num):\n",
    "    if num <= 1:\n",
    "        return False\n",
    "    if num <= 3:\n",
    "        return True\n",
    "    if num % 2 == 0 or num % 3 == 0:\n",
    "        return False\n",
    "    i = 5\n",
    "    while i * i <= num:\n",
    "        if num % i == 0 or num % (i + 2) == 0:\n",
    "            return False\n",
    "        i += 6\n",
    "    return True\n",
    "\n",
    "# Input list of numbers\n",
    "numbers = [1, 2, 22, 34, 37, 21, 19, 23]\n",
    "\n",
    "# Create a dictionary to store prime or not prime results\n",
    "result_dict = {}\n",
    "\n",
    "# Check if each number in the list is prime and store the result in the dictionary\n",
    "for num in numbers:\n",
    "    if is_prime(num):\n",
    "        result_dict[num] = \"Prime\"\n",
    "    else:\n",
    "        result_dict[num] = \"Not a Prime\"\n",
    "\n",
    "# Print the result dictionary\n",
    "print(result_dict)\n"
   ]
  },
  {
   "cell_type": "markdown",
   "id": "8d24a034",
   "metadata": {},
   "source": [
    "# 5.Write a python program to group elements from list and then construct a dictionary.\n",
    "For e.g.\n",
    "Input: [4, 6, 6, 4, 2, 2, 4, 8, 5, 8]\n",
    "Output: {4: [4, 4, 4], 6: [6, 6], 2: [2, 2], 8: [8,8], 5: [5]}\n"
   ]
  },
  {
   "cell_type": "code",
   "execution_count": 7,
   "id": "6f3f1e07",
   "metadata": {},
   "outputs": [
    {
     "name": "stdout",
     "output_type": "stream",
     "text": [
      "{4: [4, 4, 4], 6: [6, 6], 2: [2, 2], 8: [8, 8], 5: [5]}\n"
     ]
    }
   ],
   "source": [
    "# Input list of numbers\n",
    "numbers = [4, 6, 6, 4, 2, 2, 4, 8, 5, 8]\n",
    "\n",
    "# Create an empty dictionary to store grouped elements\n",
    "grouped_dict = {}\n",
    "\n",
    "# Group elements in the list and construct the dictionary\n",
    "for num in numbers:\n",
    "    if num in grouped_dict:\n",
    "        grouped_dict[num].append(num)\n",
    "    else:\n",
    "        grouped_dict[num] = [num]\n",
    "\n",
    "# Print the result dictionary\n",
    "print(grouped_dict)\n"
   ]
  },
  {
   "cell_type": "markdown",
   "id": "a38805c4",
   "metadata": {},
   "source": [
    "# 6.Write a python program to replace words from Dictionary.\n",
    "For e.g. \n",
    "Input: test_str = “INSIDEAIML is the best platform for geeks to learn and earn”\n",
    "Replace_dict = {“geeks”: “candidates”}\n",
    "Output: “INSIDEAIML is the best platform for candidates to learn and earn\n"
   ]
  },
  {
   "cell_type": "code",
   "execution_count": 8,
   "id": "42fa0bb6",
   "metadata": {},
   "outputs": [
    {
     "name": "stdout",
     "output_type": "stream",
     "text": [
      "INSIDEAIML is the best platform for candidates to learn and earn\n"
     ]
    }
   ],
   "source": [
    "# Input string\n",
    "test_str = \"INSIDEAIML is the best platform for geeks to learn and earn\"\n",
    "\n",
    "# Input replacement dictionary\n",
    "replace_dict = {\"geeks\": \"candidates\"}\n",
    "\n",
    "# Split the input string into words\n",
    "words = test_str.split()\n",
    "\n",
    "# Iterate through the words and replace them if they are in the dictionary\n",
    "for i in range(len(words)):\n",
    "    if words[i] in replace_dict:\n",
    "        words[i] = replace_dict[words[i]]\n",
    "\n",
    "# Join the words back into a string\n",
    "result_str = \" \".join(words)\n",
    "\n",
    "# Print the result\n",
    "print(result_str)\n"
   ]
  },
  {
   "cell_type": "markdown",
   "id": "8a502350",
   "metadata": {},
   "source": [
    "# 7.Write a python program to sort the dictionary by its value, if values are same then given priority to keys in alphabetic order.\n",
    "For e.g.\n",
    "Input: {“Aman”: 88, “Richa”: 78, “Poonam”: 99, “Moaaz”: 100, “Prithvi”: 99}\n",
    "Output: {“Moaaz”: 100, “Poonam”: 99, “Prithvi”: 99, “Aman”: 88, “Richa”: 78}\n"
   ]
  },
  {
   "cell_type": "code",
   "execution_count": 9,
   "id": "c5d18161",
   "metadata": {},
   "outputs": [
    {
     "name": "stdout",
     "output_type": "stream",
     "text": [
      "{'Moaaz': 100, 'Poonam': 99, 'Prithvi': 99, 'Aman': 88, 'Richa': 78}\n"
     ]
    }
   ],
   "source": [
    "# Input dictionary\n",
    "input_dict = {\"Aman\": 88, \"Richa\": 78, \"Poonam\": 99, \"Moaaz\": 100, \"Prithvi\": 99}\n",
    "\n",
    "# Sort the dictionary by values and keys\n",
    "sorted_dict = {k: v for k, v in sorted(input_dict.items(), key=lambda item: (-item[1], item[0]))}\n",
    "\n",
    "# Print the sorted dictionary\n",
    "print(sorted_dict)\n"
   ]
  },
  {
   "cell_type": "markdown",
   "id": "dcaa0429",
   "metadata": {},
   "source": [
    "# 8.Write a python program to convert nested dictionary into mapped tuple.\n",
    "For e.g.\n",
    "Input: {‘insideaiml’: {‘x’: 5, ‘y’: 6, ‘z’: 3}, ‘best’: {‘x’: 8, ‘y’: 3, ‘z’: 5}}\n",
    "Output: [(‘x’, (5, 8)), (‘y’, (6, 3)), (‘z’, (3, 5))]\n"
   ]
  },
  {
   "cell_type": "code",
   "execution_count": 10,
   "id": "9e0bfd41",
   "metadata": {},
   "outputs": [
    {
     "name": "stdout",
     "output_type": "stream",
     "text": [
      "[('y', (6, 3)), ('x', (5, 8)), ('z', (3, 5))]\n"
     ]
    }
   ],
   "source": [
    "# Input nested dictionary\n",
    "nested_dict = {\n",
    "    'insideaiml': {'x': 5, 'y': 6, 'z': 3},\n",
    "    'best': {'x': 8, 'y': 3, 'z': 5}\n",
    "}\n",
    "\n",
    "# Extract keys from the inner dictionaries\n",
    "inner_keys = set()\n",
    "for sub_dict in nested_dict.values():\n",
    "    inner_keys.update(sub_dict.keys())\n",
    "\n",
    "# Create a list of mapped tuples\n",
    "mapped_tuples = []\n",
    "for key in inner_keys:\n",
    "    values = tuple(sub_dict.get(key, None) for sub_dict in nested_dict.values())\n",
    "    mapped_tuples.append((key, values))\n",
    "\n",
    "# Print the mapped tuples\n",
    "print(mapped_tuples)\n"
   ]
  },
  {
   "cell_type": "markdown",
   "id": "6f28ca98",
   "metadata": {},
   "source": [
    "# 9.Write a python program to extract value from nested dictionary.\n",
    "For e.g.\n",
    "Input : test_dict = {‘insideaiml’ : {“a” : 7, “b” : 9, “c” : 12}, ‘is’ : {“a” : 15, “b” : 19, “c” : 20}, ‘best’ :{“a” : 5, “b” : 10, “c” : 2}} and k = “b” \n",
    "Output: [9, 10, 19]\n"
   ]
  },
  {
   "cell_type": "code",
   "execution_count": 11,
   "id": "22890ca0",
   "metadata": {},
   "outputs": [
    {
     "name": "stdout",
     "output_type": "stream",
     "text": [
      "[9, 19, 10]\n"
     ]
    }
   ],
   "source": [
    "# Input nested dictionary\n",
    "test_dict = {\n",
    "    'insideaiml': {\"a\": 7, \"b\": 9, \"c\": 12},\n",
    "    'is': {\"a\": 15, \"b\": 19, \"c\": 20},\n",
    "    'best': {\"a\": 5, \"b\": 10, \"c\": 2}\n",
    "}\n",
    "\n",
    "# Input key to extract values\n",
    "k = \"b\"\n",
    "\n",
    "# Extract values for the key 'k' from the nested dictionary\n",
    "result = [inner_dict.get(k, None) for inner_dict in test_dict.values()]\n",
    "\n",
    "# Print the extracted values\n",
    "print(result)\n"
   ]
  },
  {
   "cell_type": "markdown",
   "id": "dc8d4fa1",
   "metadata": {},
   "source": [
    "# 10. Write a Python program to get all possible two-digit letter combinations from a 1-9      digit string.\n"
   ]
  },
  {
   "cell_type": "code",
   "execution_count": 13,
   "id": "a3da4472",
   "metadata": {},
   "outputs": [
    {
     "name": "stdout",
     "output_type": "stream",
     "text": [
      "Enter a 1-9 digit string (without 0's or 1's): 4\n",
      "All possible two-digit letter combinations:\n",
      "['j', 'k', 'l']\n"
     ]
    }
   ],
   "source": [
    "from itertools import product\n",
    "\n",
    "# Define a dictionary mapping digits to letters\n",
    "digit_to_letters = {\n",
    "    '1': ['a', 'b', 'c'],\n",
    "    '2': ['d', 'e', 'f'],\n",
    "    '3': ['g', 'h', 'i'],\n",
    "    '4': ['j', 'k', 'l'],\n",
    "    '5': ['m', 'n', 'o'],\n",
    "    '6': ['p', 'q', 'r'],\n",
    "    '7': ['s', 't', 'u'],\n",
    "    '8': ['v', 'w', 'x'],\n",
    "    '9': ['y', 'z']\n",
    "}\n",
    "\n",
    "# Input 1-9 digit string\n",
    "input_string = input(\"Enter a 1-9 digit string (without 0's or 1's): \")\n",
    "\n",
    "# Remove any 0's and 1's from the input string\n",
    "filtered_input = ''.join(filter(lambda x: x not in ['0', '1'], input_string))\n",
    "\n",
    "# Generate all possible two-digit letter combinations\n",
    "combinations = [''.join(p) for p in product(*(digit_to_letters[digit] for digit in filtered_input))]\n",
    "\n",
    "# Print the result\n",
    "print(\"All possible two-digit letter combinations:\")\n",
    "print(combinations)\n"
   ]
  },
  {
   "cell_type": "markdown",
   "id": "dd0a18c9",
   "metadata": {},
   "source": [
    "# 11.Write a python program to create a dictionary of top 5 student along with marks.\n",
    "Who got top 5 ranks, in the descending order of marks?\n",
    "Who got least 5 ranks, in the increasing order of marks?\n",
    "Who got marks between >25th percentile <75th percentile, in the increasing order of marks?\n",
    "Students  = ['student1','student2','student3','student4','student5','student6','student7','student8','student9','student10'] \n",
    "Marks = [45, 78, 12, 14, 48, 43, 47, 98, 35, 80]\n"
   ]
  },
  {
   "cell_type": "code",
   "execution_count": 14,
   "id": "577010bc",
   "metadata": {},
   "outputs": [
    {
     "name": "stdout",
     "output_type": "stream",
     "text": [
      "Top 5 Students (Descending Order of Marks):\n",
      "{'student8': 98, 'student10': 80, 'student2': 78, 'student5': 48, 'student7': 47}\n",
      "\n",
      "Least 5 Students (Increasing Order of Marks):\n",
      "{'student3': 12, 'student4': 14, 'student9': 35, 'student6': 43, 'student1': 45}\n",
      "\n",
      "Students with Marks between >25th Percentile and <75th Percentile (Increasing Order of Marks):\n",
      "{'student6': 43, 'student1': 45, 'student7': 47, 'student5': 48}\n"
     ]
    }
   ],
   "source": [
    "import numpy as np\n",
    "\n",
    "# Define students and their marks\n",
    "students = ['student1', 'student2', 'student3', 'student4', 'student5', 'student6', 'student7', 'student8', 'student9', 'student10']\n",
    "marks = [45, 78, 12, 14, 48, 43, 47, 98, 35, 80]\n",
    "\n",
    "# Create a dictionary of students and marks\n",
    "student_marks = {students[i]: marks[i] for i in range(len(students))}\n",
    "\n",
    "# Sort the dictionary by marks in descending order\n",
    "sorted_student_marks_desc = {k: v for k, v in sorted(student_marks.items(), key=lambda item: item[1], reverse=True)}\n",
    "\n",
    "# Get the top 5 students\n",
    "top_5_students = dict(list(sorted_student_marks_desc.items())[:5])\n",
    "\n",
    "# Sort the dictionary by marks in ascending order\n",
    "sorted_student_marks_asc = {k: v for k, v in sorted(student_marks.items(), key=lambda item: item[1])}\n",
    "\n",
    "# Get the least 5 students\n",
    "least_5_students = dict(list(sorted_student_marks_asc.items())[:5])\n",
    "\n",
    "# Calculate the 25th and 75th percentiles\n",
    "percentile_25 = np.percentile(marks, 25)\n",
    "percentile_75 = np.percentile(marks, 75)\n",
    "\n",
    "# Filter students with marks between the 25th and 75th percentiles\n",
    "between_percentiles = {k: v for k, v in sorted_student_marks_asc.items() if percentile_25 < v < percentile_75}\n",
    "\n",
    "# Print the results\n",
    "print(\"Top 5 Students (Descending Order of Marks):\")\n",
    "print(top_5_students)\n",
    "\n",
    "print(\"\\nLeast 5 Students (Increasing Order of Marks):\")\n",
    "print(least_5_students)\n",
    "\n",
    "print(\"\\nStudents with Marks between >25th Percentile and <75th Percentile (Increasing Order of Marks):\")\n",
    "print(between_percentiles)\n"
   ]
  }
 ],
 "metadata": {
  "kernelspec": {
   "display_name": "Python 3 (ipykernel)",
   "language": "python",
   "name": "python3"
  },
  "language_info": {
   "codemirror_mode": {
    "name": "ipython",
    "version": 3
   },
   "file_extension": ".py",
   "mimetype": "text/x-python",
   "name": "python",
   "nbconvert_exporter": "python",
   "pygments_lexer": "ipython3",
   "version": "3.11.4"
  }
 },
 "nbformat": 4,
 "nbformat_minor": 5
}
